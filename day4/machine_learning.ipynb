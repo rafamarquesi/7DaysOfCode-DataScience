{
 "cells": [
  {
   "cell_type": "markdown",
   "source": [
    "# In this challenge, machine learning will be used for recommender systems: applications that learn, from historical data, how to suggest the best items for customers in order to maximize some business metric, such as billing, conversion rate, among others."
   ],
   "metadata": {
    "collapsed": false,
    "pycharm": {
     "name": "#%% md\n"
    }
   }
  },
  {
   "cell_type": "markdown",
   "source": [
    "## For this challenge is that you create a recommendation system from [MovieLens](https://caelum57945.lt.acemlnb.com/Prod/link-tracker?redirectUrl=aHR0cHMlM0ElMkYlMkZncm91cGxlbnMub3JnJTJGZGF0YXNldHMlMkZtb3ZpZWxlbnMlMkYxMDBrJTJGJTNGdXRtX3NvdXJjZSUzREFjdGl2ZUNhbXBhaWduJTI2dXRtX21lZGl1bSUzRGVtYWlsJTI2dXRtX2NvbnRlbnQlM0QlMjUyMzdEYXlzT2ZDb2RlJTJCLSUyQkNpJTI1QzMlMjVBQW5jaWElMkJkZSUyQkRhZG9zJTJCNCUyNTJGNyUyNTNBJTJCJTI1RjAlMjU5RiUyNTkxJTI1QTklMjVGMCUyNTlGJTI1OEYlMjVCRCUyNUUyJTI1ODAlMjU4RCUyNUYwJTI1OUYlMjU5MiUyNUJCJTJCU2lzdGVtYXMlMkJkZSUyQnJlY29tZW5kYSUyNUMzJTI1QTclMjVDMyUyNUEzbyUyNnV0bV9jYW1wYWlnbiUzRCUyNTVCQWx1cmElMkIlMjUyMzdEYXlzJTJCT2YlMkJDb2RlJTI1NUQlMjUyOEphdmElMjUyOSUyQkRpYSUyQjQlMjUyRjclMjUzQSUyQkdlcmFuZG8lMkJvJTJCSFRNTA==&sig=7j4XsTVPi162Ej2E9t7K4zaFUTtvNuQbKz1Cs8dszyzA&iat=1650884647&a=%7C%7C476258007%7C%7C&account=caelum57945%2Eactivehosted%2Ecom&email=QqijRIKiWAFuIspL1ED2f44JfrMRa%2BBFjz0CY4L4uKs%3D&s=5a70e54c4217d2fff46f3475ff1a44b5&i=1376A8451A266A9325)."
   ],
   "metadata": {
    "collapsed": false,
    "pycharm": {
     "name": "#%% md\n"
    }
   }
  },
  {
   "cell_type": "markdown",
   "source": [
    "# Load libraries"
   ],
   "metadata": {
    "collapsed": false,
    "pycharm": {
     "name": "#%% md\n"
    }
   }
  },
  {
   "cell_type": "code",
   "execution_count": 156,
   "outputs": [],
   "source": [
    "import numpy as np\n",
    "import pandas as pd\n",
    "from surprise import KNNWithMeans\n",
    "from surprise import Dataset\n",
    "from surprise import accuracy\n",
    "from surprise import Reader\n",
    "from surprise.model_selection import train_test_split\n",
    "from sklearn.decomposition import TruncatedSVD\n",
    "\n",
    "from joblib import dump\n",
    "\n",
    "import warnings\n",
    "warnings.filterwarnings('ignore')"
   ],
   "metadata": {
    "collapsed": false,
    "pycharm": {
     "name": "#%%\n"
    }
   }
  },
  {
   "cell_type": "markdown",
   "source": [
    "# [Load data](http://www.gregreda.com/2013/10/26/using-pandas-on-the-movielens-dataset/)"
   ],
   "metadata": {
    "collapsed": false,
    "pycharm": {
     "name": "#%% md\n"
    }
   }
  },
  {
   "cell_type": "markdown",
   "source": [
    "## Load data users"
   ],
   "metadata": {
    "collapsed": false,
    "pycharm": {
     "name": "#%% md\n"
    }
   }
  },
  {
   "cell_type": "code",
   "execution_count": 2,
   "outputs": [
    {
     "data": {
      "text/plain": "     user_id  age sex     occupation zip_code\n0          1   24   M     technician    85711\n1          2   53   F          other    94043\n2          3   23   M         writer    32067\n3          4   24   M     technician    43537\n4          5   33   F          other    15213\n..       ...  ...  ..            ...      ...\n938      939   26   F        student    33319\n939      940   32   M  administrator    02215\n940      941   20   M        student    97229\n941      942   48   F      librarian    78209\n942      943   22   M        student    77841\n\n[943 rows x 5 columns]",
      "text/html": "<div>\n<style scoped>\n    .dataframe tbody tr th:only-of-type {\n        vertical-align: middle;\n    }\n\n    .dataframe tbody tr th {\n        vertical-align: top;\n    }\n\n    .dataframe thead th {\n        text-align: right;\n    }\n</style>\n<table border=\"1\" class=\"dataframe\">\n  <thead>\n    <tr style=\"text-align: right;\">\n      <th></th>\n      <th>user_id</th>\n      <th>age</th>\n      <th>sex</th>\n      <th>occupation</th>\n      <th>zip_code</th>\n    </tr>\n  </thead>\n  <tbody>\n    <tr>\n      <th>0</th>\n      <td>1</td>\n      <td>24</td>\n      <td>M</td>\n      <td>technician</td>\n      <td>85711</td>\n    </tr>\n    <tr>\n      <th>1</th>\n      <td>2</td>\n      <td>53</td>\n      <td>F</td>\n      <td>other</td>\n      <td>94043</td>\n    </tr>\n    <tr>\n      <th>2</th>\n      <td>3</td>\n      <td>23</td>\n      <td>M</td>\n      <td>writer</td>\n      <td>32067</td>\n    </tr>\n    <tr>\n      <th>3</th>\n      <td>4</td>\n      <td>24</td>\n      <td>M</td>\n      <td>technician</td>\n      <td>43537</td>\n    </tr>\n    <tr>\n      <th>4</th>\n      <td>5</td>\n      <td>33</td>\n      <td>F</td>\n      <td>other</td>\n      <td>15213</td>\n    </tr>\n    <tr>\n      <th>...</th>\n      <td>...</td>\n      <td>...</td>\n      <td>...</td>\n      <td>...</td>\n      <td>...</td>\n    </tr>\n    <tr>\n      <th>938</th>\n      <td>939</td>\n      <td>26</td>\n      <td>F</td>\n      <td>student</td>\n      <td>33319</td>\n    </tr>\n    <tr>\n      <th>939</th>\n      <td>940</td>\n      <td>32</td>\n      <td>M</td>\n      <td>administrator</td>\n      <td>02215</td>\n    </tr>\n    <tr>\n      <th>940</th>\n      <td>941</td>\n      <td>20</td>\n      <td>M</td>\n      <td>student</td>\n      <td>97229</td>\n    </tr>\n    <tr>\n      <th>941</th>\n      <td>942</td>\n      <td>48</td>\n      <td>F</td>\n      <td>librarian</td>\n      <td>78209</td>\n    </tr>\n    <tr>\n      <th>942</th>\n      <td>943</td>\n      <td>22</td>\n      <td>M</td>\n      <td>student</td>\n      <td>77841</td>\n    </tr>\n  </tbody>\n</table>\n<p>943 rows × 5 columns</p>\n</div>"
     },
     "execution_count": 2,
     "metadata": {},
     "output_type": "execute_result"
    }
   ],
   "source": [
    "u_cols = ['user_id', 'age', 'sex', 'occupation', 'zip_code']\n",
    "users = pd.read_csv('dataset/ml-100k/u.user', sep='|',\n",
    "                    names=u_cols, encoding='latin-1')\n",
    "users"
   ],
   "metadata": {
    "collapsed": false,
    "pycharm": {
     "name": "#%%\n"
    }
   }
  },
  {
   "cell_type": "markdown",
   "source": [
    "## Load data ratings"
   ],
   "metadata": {
    "collapsed": false,
    "pycharm": {
     "name": "#%% md\n"
    }
   }
  },
  {
   "cell_type": "code",
   "execution_count": 3,
   "outputs": [
    {
     "data": {
      "text/plain": "       user_id  movie_id  rating  unix_timestamp\n0          196       242       3       881250949\n1          186       302       3       891717742\n2           22       377       1       878887116\n3          244        51       2       880606923\n4          166       346       1       886397596\n...        ...       ...     ...             ...\n99995      880       476       3       880175444\n99996      716       204       5       879795543\n99997      276      1090       1       874795795\n99998       13       225       2       882399156\n99999       12       203       3       879959583\n\n[100000 rows x 4 columns]",
      "text/html": "<div>\n<style scoped>\n    .dataframe tbody tr th:only-of-type {\n        vertical-align: middle;\n    }\n\n    .dataframe tbody tr th {\n        vertical-align: top;\n    }\n\n    .dataframe thead th {\n        text-align: right;\n    }\n</style>\n<table border=\"1\" class=\"dataframe\">\n  <thead>\n    <tr style=\"text-align: right;\">\n      <th></th>\n      <th>user_id</th>\n      <th>movie_id</th>\n      <th>rating</th>\n      <th>unix_timestamp</th>\n    </tr>\n  </thead>\n  <tbody>\n    <tr>\n      <th>0</th>\n      <td>196</td>\n      <td>242</td>\n      <td>3</td>\n      <td>881250949</td>\n    </tr>\n    <tr>\n      <th>1</th>\n      <td>186</td>\n      <td>302</td>\n      <td>3</td>\n      <td>891717742</td>\n    </tr>\n    <tr>\n      <th>2</th>\n      <td>22</td>\n      <td>377</td>\n      <td>1</td>\n      <td>878887116</td>\n    </tr>\n    <tr>\n      <th>3</th>\n      <td>244</td>\n      <td>51</td>\n      <td>2</td>\n      <td>880606923</td>\n    </tr>\n    <tr>\n      <th>4</th>\n      <td>166</td>\n      <td>346</td>\n      <td>1</td>\n      <td>886397596</td>\n    </tr>\n    <tr>\n      <th>...</th>\n      <td>...</td>\n      <td>...</td>\n      <td>...</td>\n      <td>...</td>\n    </tr>\n    <tr>\n      <th>99995</th>\n      <td>880</td>\n      <td>476</td>\n      <td>3</td>\n      <td>880175444</td>\n    </tr>\n    <tr>\n      <th>99996</th>\n      <td>716</td>\n      <td>204</td>\n      <td>5</td>\n      <td>879795543</td>\n    </tr>\n    <tr>\n      <th>99997</th>\n      <td>276</td>\n      <td>1090</td>\n      <td>1</td>\n      <td>874795795</td>\n    </tr>\n    <tr>\n      <th>99998</th>\n      <td>13</td>\n      <td>225</td>\n      <td>2</td>\n      <td>882399156</td>\n    </tr>\n    <tr>\n      <th>99999</th>\n      <td>12</td>\n      <td>203</td>\n      <td>3</td>\n      <td>879959583</td>\n    </tr>\n  </tbody>\n</table>\n<p>100000 rows × 4 columns</p>\n</div>"
     },
     "execution_count": 3,
     "metadata": {},
     "output_type": "execute_result"
    }
   ],
   "source": [
    "r_cols = ['user_id', 'movie_id', 'rating', 'unix_timestamp']\n",
    "ratings = pd.read_csv('dataset/ml-100k/u.data', sep='\\t', names=r_cols, encoding='latin-1')\n",
    "ratings"
   ],
   "metadata": {
    "collapsed": false,
    "pycharm": {
     "name": "#%%\n"
    }
   }
  },
  {
   "cell_type": "markdown",
   "source": [
    "## Load movies data"
   ],
   "metadata": {
    "collapsed": false,
    "pycharm": {
     "name": "#%% md\n"
    }
   }
  },
  {
   "cell_type": "code",
   "execution_count": 4,
   "outputs": [
    {
     "data": {
      "text/plain": "      movie_id                                      title release_date  \\\n0            1                           Toy Story (1995)  01-Jan-1995   \n1            2                           GoldenEye (1995)  01-Jan-1995   \n2            3                          Four Rooms (1995)  01-Jan-1995   \n3            4                          Get Shorty (1995)  01-Jan-1995   \n4            5                             Copycat (1995)  01-Jan-1995   \n...        ...                                        ...          ...   \n1677      1678                          Mat' i syn (1997)  06-Feb-1998   \n1678      1679                           B. Monkey (1998)  06-Feb-1998   \n1679      1680                       Sliding Doors (1998)  01-Jan-1998   \n1680      1681                        You So Crazy (1994)  01-Jan-1994   \n1681      1682  Scream of Stone (Schrei aus Stein) (1991)  08-Mar-1996   \n\n      video_release_date                                           imdb_url  \n0                    NaN  http://us.imdb.com/M/title-exact?Toy%20Story%2...  \n1                    NaN  http://us.imdb.com/M/title-exact?GoldenEye%20(...  \n2                    NaN  http://us.imdb.com/M/title-exact?Four%20Rooms%...  \n3                    NaN  http://us.imdb.com/M/title-exact?Get%20Shorty%...  \n4                    NaN  http://us.imdb.com/M/title-exact?Copycat%20(1995)  \n...                  ...                                                ...  \n1677                 NaN  http://us.imdb.com/M/title-exact?Mat%27+i+syn+...  \n1678                 NaN  http://us.imdb.com/M/title-exact?B%2E+Monkey+(...  \n1679                 NaN      http://us.imdb.com/Title?Sliding+Doors+(1998)  \n1680                 NaN  http://us.imdb.com/M/title-exact?You%20So%20Cr...  \n1681                 NaN  http://us.imdb.com/M/title-exact?Schrei%20aus%...  \n\n[1682 rows x 5 columns]",
      "text/html": "<div>\n<style scoped>\n    .dataframe tbody tr th:only-of-type {\n        vertical-align: middle;\n    }\n\n    .dataframe tbody tr th {\n        vertical-align: top;\n    }\n\n    .dataframe thead th {\n        text-align: right;\n    }\n</style>\n<table border=\"1\" class=\"dataframe\">\n  <thead>\n    <tr style=\"text-align: right;\">\n      <th></th>\n      <th>movie_id</th>\n      <th>title</th>\n      <th>release_date</th>\n      <th>video_release_date</th>\n      <th>imdb_url</th>\n    </tr>\n  </thead>\n  <tbody>\n    <tr>\n      <th>0</th>\n      <td>1</td>\n      <td>Toy Story (1995)</td>\n      <td>01-Jan-1995</td>\n      <td>NaN</td>\n      <td>http://us.imdb.com/M/title-exact?Toy%20Story%2...</td>\n    </tr>\n    <tr>\n      <th>1</th>\n      <td>2</td>\n      <td>GoldenEye (1995)</td>\n      <td>01-Jan-1995</td>\n      <td>NaN</td>\n      <td>http://us.imdb.com/M/title-exact?GoldenEye%20(...</td>\n    </tr>\n    <tr>\n      <th>2</th>\n      <td>3</td>\n      <td>Four Rooms (1995)</td>\n      <td>01-Jan-1995</td>\n      <td>NaN</td>\n      <td>http://us.imdb.com/M/title-exact?Four%20Rooms%...</td>\n    </tr>\n    <tr>\n      <th>3</th>\n      <td>4</td>\n      <td>Get Shorty (1995)</td>\n      <td>01-Jan-1995</td>\n      <td>NaN</td>\n      <td>http://us.imdb.com/M/title-exact?Get%20Shorty%...</td>\n    </tr>\n    <tr>\n      <th>4</th>\n      <td>5</td>\n      <td>Copycat (1995)</td>\n      <td>01-Jan-1995</td>\n      <td>NaN</td>\n      <td>http://us.imdb.com/M/title-exact?Copycat%20(1995)</td>\n    </tr>\n    <tr>\n      <th>...</th>\n      <td>...</td>\n      <td>...</td>\n      <td>...</td>\n      <td>...</td>\n      <td>...</td>\n    </tr>\n    <tr>\n      <th>1677</th>\n      <td>1678</td>\n      <td>Mat' i syn (1997)</td>\n      <td>06-Feb-1998</td>\n      <td>NaN</td>\n      <td>http://us.imdb.com/M/title-exact?Mat%27+i+syn+...</td>\n    </tr>\n    <tr>\n      <th>1678</th>\n      <td>1679</td>\n      <td>B. Monkey (1998)</td>\n      <td>06-Feb-1998</td>\n      <td>NaN</td>\n      <td>http://us.imdb.com/M/title-exact?B%2E+Monkey+(...</td>\n    </tr>\n    <tr>\n      <th>1679</th>\n      <td>1680</td>\n      <td>Sliding Doors (1998)</td>\n      <td>01-Jan-1998</td>\n      <td>NaN</td>\n      <td>http://us.imdb.com/Title?Sliding+Doors+(1998)</td>\n    </tr>\n    <tr>\n      <th>1680</th>\n      <td>1681</td>\n      <td>You So Crazy (1994)</td>\n      <td>01-Jan-1994</td>\n      <td>NaN</td>\n      <td>http://us.imdb.com/M/title-exact?You%20So%20Cr...</td>\n    </tr>\n    <tr>\n      <th>1681</th>\n      <td>1682</td>\n      <td>Scream of Stone (Schrei aus Stein) (1991)</td>\n      <td>08-Mar-1996</td>\n      <td>NaN</td>\n      <td>http://us.imdb.com/M/title-exact?Schrei%20aus%...</td>\n    </tr>\n  </tbody>\n</table>\n<p>1682 rows × 5 columns</p>\n</div>"
     },
     "execution_count": 4,
     "metadata": {},
     "output_type": "execute_result"
    }
   ],
   "source": [
    "m_cols = ['movie_id', 'title', 'release_date', 'video_release_date', 'imdb_url']\n",
    "movies = pd.read_csv('dataset/ml-100k/u.item', sep='|', names=m_cols, usecols=range(5), encoding='latin-1')\n",
    "movies"
   ],
   "metadata": {
    "collapsed": false,
    "pycharm": {
     "name": "#%%\n"
    }
   }
  },
  {
   "cell_type": "markdown",
   "source": [
    "## Create a merged dataset"
   ],
   "metadata": {
    "collapsed": false,
    "pycharm": {
     "name": "#%% md\n"
    }
   }
  },
  {
   "cell_type": "code",
   "execution_count": 5,
   "outputs": [
    {
     "data": {
      "text/plain": "       movie_id                       title release_date  video_release_date  \\\n0             1            Toy Story (1995)  01-Jan-1995                 NaN   \n1             4           Get Shorty (1995)  01-Jan-1995                 NaN   \n2             5              Copycat (1995)  01-Jan-1995                 NaN   \n3             7       Twelve Monkeys (1995)  01-Jan-1995                 NaN   \n4             8                 Babe (1995)  01-Jan-1995                 NaN   \n...         ...                         ...          ...                 ...   \n99995       748           Saint, The (1997)  14-Mar-1997                 NaN   \n99996       751  Tomorrow Never Dies (1997)  01-Jan-1997                 NaN   \n99997       879      Peacemaker, The (1997)  01-Jan-1997                 NaN   \n99998       894         Home Alone 3 (1997)  01-Jan-1997                 NaN   \n99999       901            Mr. Magoo (1997)  25-Dec-1997                 NaN   \n\n                                                imdb_url  user_id  rating  \\\n0      http://us.imdb.com/M/title-exact?Toy%20Story%2...      308       4   \n1      http://us.imdb.com/M/title-exact?Get%20Shorty%...      308       5   \n2      http://us.imdb.com/M/title-exact?Copycat%20(1995)      308       4   \n3      http://us.imdb.com/M/title-exact?Twelve%20Monk...      308       4   \n4         http://us.imdb.com/M/title-exact?Babe%20(1995)      308       5   \n...                                                  ...      ...     ...   \n99995  http://us.imdb.com/M/title-exact?Saint%2C%20Th...      729       4   \n99996  http://us.imdb.com/M/title-exact?imdb-title-12...      729       3   \n99997  http://us.imdb.com/M/title-exact?Peacemaker%2C...      729       3   \n99998  http://us.imdb.com/M/title-exact?imdb-title-11...      729       1   \n99999  http://us.imdb.com/M/title-exact?imdb-title-11...      729       1   \n\n       unix_timestamp  age sex occupation zip_code  \n0           887736532   60   M    retired    95076  \n1           887737890   60   M    retired    95076  \n2           887739608   60   M    retired    95076  \n3           887738847   60   M    retired    95076  \n4           887736696   60   M    retired    95076  \n...               ...  ...  ..        ...      ...  \n99995       893286638   19   M    student    56567  \n99996       893286338   19   M    student    56567  \n99997       893286299   19   M    student    56567  \n99998       893286511   19   M    student    56567  \n99999       893286491   19   M    student    56567  \n\n[100000 rows x 12 columns]",
      "text/html": "<div>\n<style scoped>\n    .dataframe tbody tr th:only-of-type {\n        vertical-align: middle;\n    }\n\n    .dataframe tbody tr th {\n        vertical-align: top;\n    }\n\n    .dataframe thead th {\n        text-align: right;\n    }\n</style>\n<table border=\"1\" class=\"dataframe\">\n  <thead>\n    <tr style=\"text-align: right;\">\n      <th></th>\n      <th>movie_id</th>\n      <th>title</th>\n      <th>release_date</th>\n      <th>video_release_date</th>\n      <th>imdb_url</th>\n      <th>user_id</th>\n      <th>rating</th>\n      <th>unix_timestamp</th>\n      <th>age</th>\n      <th>sex</th>\n      <th>occupation</th>\n      <th>zip_code</th>\n    </tr>\n  </thead>\n  <tbody>\n    <tr>\n      <th>0</th>\n      <td>1</td>\n      <td>Toy Story (1995)</td>\n      <td>01-Jan-1995</td>\n      <td>NaN</td>\n      <td>http://us.imdb.com/M/title-exact?Toy%20Story%2...</td>\n      <td>308</td>\n      <td>4</td>\n      <td>887736532</td>\n      <td>60</td>\n      <td>M</td>\n      <td>retired</td>\n      <td>95076</td>\n    </tr>\n    <tr>\n      <th>1</th>\n      <td>4</td>\n      <td>Get Shorty (1995)</td>\n      <td>01-Jan-1995</td>\n      <td>NaN</td>\n      <td>http://us.imdb.com/M/title-exact?Get%20Shorty%...</td>\n      <td>308</td>\n      <td>5</td>\n      <td>887737890</td>\n      <td>60</td>\n      <td>M</td>\n      <td>retired</td>\n      <td>95076</td>\n    </tr>\n    <tr>\n      <th>2</th>\n      <td>5</td>\n      <td>Copycat (1995)</td>\n      <td>01-Jan-1995</td>\n      <td>NaN</td>\n      <td>http://us.imdb.com/M/title-exact?Copycat%20(1995)</td>\n      <td>308</td>\n      <td>4</td>\n      <td>887739608</td>\n      <td>60</td>\n      <td>M</td>\n      <td>retired</td>\n      <td>95076</td>\n    </tr>\n    <tr>\n      <th>3</th>\n      <td>7</td>\n      <td>Twelve Monkeys (1995)</td>\n      <td>01-Jan-1995</td>\n      <td>NaN</td>\n      <td>http://us.imdb.com/M/title-exact?Twelve%20Monk...</td>\n      <td>308</td>\n      <td>4</td>\n      <td>887738847</td>\n      <td>60</td>\n      <td>M</td>\n      <td>retired</td>\n      <td>95076</td>\n    </tr>\n    <tr>\n      <th>4</th>\n      <td>8</td>\n      <td>Babe (1995)</td>\n      <td>01-Jan-1995</td>\n      <td>NaN</td>\n      <td>http://us.imdb.com/M/title-exact?Babe%20(1995)</td>\n      <td>308</td>\n      <td>5</td>\n      <td>887736696</td>\n      <td>60</td>\n      <td>M</td>\n      <td>retired</td>\n      <td>95076</td>\n    </tr>\n    <tr>\n      <th>...</th>\n      <td>...</td>\n      <td>...</td>\n      <td>...</td>\n      <td>...</td>\n      <td>...</td>\n      <td>...</td>\n      <td>...</td>\n      <td>...</td>\n      <td>...</td>\n      <td>...</td>\n      <td>...</td>\n      <td>...</td>\n    </tr>\n    <tr>\n      <th>99995</th>\n      <td>748</td>\n      <td>Saint, The (1997)</td>\n      <td>14-Mar-1997</td>\n      <td>NaN</td>\n      <td>http://us.imdb.com/M/title-exact?Saint%2C%20Th...</td>\n      <td>729</td>\n      <td>4</td>\n      <td>893286638</td>\n      <td>19</td>\n      <td>M</td>\n      <td>student</td>\n      <td>56567</td>\n    </tr>\n    <tr>\n      <th>99996</th>\n      <td>751</td>\n      <td>Tomorrow Never Dies (1997)</td>\n      <td>01-Jan-1997</td>\n      <td>NaN</td>\n      <td>http://us.imdb.com/M/title-exact?imdb-title-12...</td>\n      <td>729</td>\n      <td>3</td>\n      <td>893286338</td>\n      <td>19</td>\n      <td>M</td>\n      <td>student</td>\n      <td>56567</td>\n    </tr>\n    <tr>\n      <th>99997</th>\n      <td>879</td>\n      <td>Peacemaker, The (1997)</td>\n      <td>01-Jan-1997</td>\n      <td>NaN</td>\n      <td>http://us.imdb.com/M/title-exact?Peacemaker%2C...</td>\n      <td>729</td>\n      <td>3</td>\n      <td>893286299</td>\n      <td>19</td>\n      <td>M</td>\n      <td>student</td>\n      <td>56567</td>\n    </tr>\n    <tr>\n      <th>99998</th>\n      <td>894</td>\n      <td>Home Alone 3 (1997)</td>\n      <td>01-Jan-1997</td>\n      <td>NaN</td>\n      <td>http://us.imdb.com/M/title-exact?imdb-title-11...</td>\n      <td>729</td>\n      <td>1</td>\n      <td>893286511</td>\n      <td>19</td>\n      <td>M</td>\n      <td>student</td>\n      <td>56567</td>\n    </tr>\n    <tr>\n      <th>99999</th>\n      <td>901</td>\n      <td>Mr. Magoo (1997)</td>\n      <td>25-Dec-1997</td>\n      <td>NaN</td>\n      <td>http://us.imdb.com/M/title-exact?imdb-title-11...</td>\n      <td>729</td>\n      <td>1</td>\n      <td>893286491</td>\n      <td>19</td>\n      <td>M</td>\n      <td>student</td>\n      <td>56567</td>\n    </tr>\n  </tbody>\n</table>\n<p>100000 rows × 12 columns</p>\n</div>"
     },
     "execution_count": 5,
     "metadata": {},
     "output_type": "execute_result"
    }
   ],
   "source": [
    "movie_ratings = pd.merge(movies, ratings)\n",
    "lens = pd.merge(movie_ratings, users)\n",
    "lens"
   ],
   "metadata": {
    "collapsed": false,
    "pycharm": {
     "name": "#%%\n"
    }
   }
  },
  {
   "cell_type": "markdown",
   "source": [
    "# Getting some information about the dataset"
   ],
   "metadata": {
    "collapsed": false,
    "pycharm": {
     "name": "#%% md\n"
    }
   }
  },
  {
   "cell_type": "markdown",
   "source": [
    "## What are the 25 most rated movies?"
   ],
   "metadata": {
    "collapsed": false,
    "pycharm": {
     "name": "#%% md\n"
    }
   }
  },
  {
   "cell_type": "code",
   "execution_count": 6,
   "outputs": [
    {
     "data": {
      "text/plain": "title\nStar Wars (1977)                             583\nContact (1997)                               509\nFargo (1996)                                 508\nReturn of the Jedi (1983)                    507\nLiar Liar (1997)                             485\nEnglish Patient, The (1996)                  481\nScream (1996)                                478\nToy Story (1995)                             452\nAir Force One (1997)                         431\nIndependence Day (ID4) (1996)                429\nRaiders of the Lost Ark (1981)               420\nGodfather, The (1972)                        413\nPulp Fiction (1994)                          394\nTwelve Monkeys (1995)                        392\nSilence of the Lambs, The (1991)             390\nJerry Maguire (1996)                         384\nChasing Amy (1997)                           379\nRock, The (1996)                             378\nEmpire Strikes Back, The (1980)              367\nStar Trek: First Contact (1996)              365\nTitanic (1997)                               350\nBack to the Future (1985)                    350\nMission: Impossible (1996)                   344\nFugitive, The (1993)                         336\nIndiana Jones and the Last Crusade (1989)    331\ndtype: int64"
     },
     "execution_count": 6,
     "metadata": {},
     "output_type": "execute_result"
    }
   ],
   "source": [
    "most_rated = lens.groupby('title').size().sort_values(ascending=False)[:25]\n",
    "most_rated"
   ],
   "metadata": {
    "collapsed": false,
    "pycharm": {
     "name": "#%%\n"
    }
   }
  },
  {
   "cell_type": "markdown",
   "source": [
    "## Describe"
   ],
   "metadata": {
    "collapsed": false,
    "pycharm": {
     "name": "#%% md\n"
    }
   }
  },
  {
   "cell_type": "code",
   "execution_count": 7,
   "outputs": [
    {
     "data": {
      "text/plain": "            user_id       movie_id         rating  unix_timestamp\ncount  100000.00000  100000.000000  100000.000000    1.000000e+05\nmean      462.48475     425.530130       3.529860    8.835289e+08\nstd       266.61442     330.798356       1.125674    5.343856e+06\nmin         1.00000       1.000000       1.000000    8.747247e+08\n25%       254.00000     175.000000       3.000000    8.794487e+08\n50%       447.00000     322.000000       4.000000    8.828269e+08\n75%       682.00000     631.000000       4.000000    8.882600e+08\nmax       943.00000    1682.000000       5.000000    8.932866e+08",
      "text/html": "<div>\n<style scoped>\n    .dataframe tbody tr th:only-of-type {\n        vertical-align: middle;\n    }\n\n    .dataframe tbody tr th {\n        vertical-align: top;\n    }\n\n    .dataframe thead th {\n        text-align: right;\n    }\n</style>\n<table border=\"1\" class=\"dataframe\">\n  <thead>\n    <tr style=\"text-align: right;\">\n      <th></th>\n      <th>user_id</th>\n      <th>movie_id</th>\n      <th>rating</th>\n      <th>unix_timestamp</th>\n    </tr>\n  </thead>\n  <tbody>\n    <tr>\n      <th>count</th>\n      <td>100000.00000</td>\n      <td>100000.000000</td>\n      <td>100000.000000</td>\n      <td>1.000000e+05</td>\n    </tr>\n    <tr>\n      <th>mean</th>\n      <td>462.48475</td>\n      <td>425.530130</td>\n      <td>3.529860</td>\n      <td>8.835289e+08</td>\n    </tr>\n    <tr>\n      <th>std</th>\n      <td>266.61442</td>\n      <td>330.798356</td>\n      <td>1.125674</td>\n      <td>5.343856e+06</td>\n    </tr>\n    <tr>\n      <th>min</th>\n      <td>1.00000</td>\n      <td>1.000000</td>\n      <td>1.000000</td>\n      <td>8.747247e+08</td>\n    </tr>\n    <tr>\n      <th>25%</th>\n      <td>254.00000</td>\n      <td>175.000000</td>\n      <td>3.000000</td>\n      <td>8.794487e+08</td>\n    </tr>\n    <tr>\n      <th>50%</th>\n      <td>447.00000</td>\n      <td>322.000000</td>\n      <td>4.000000</td>\n      <td>8.828269e+08</td>\n    </tr>\n    <tr>\n      <th>75%</th>\n      <td>682.00000</td>\n      <td>631.000000</td>\n      <td>4.000000</td>\n      <td>8.882600e+08</td>\n    </tr>\n    <tr>\n      <th>max</th>\n      <td>943.00000</td>\n      <td>1682.000000</td>\n      <td>5.000000</td>\n      <td>8.932866e+08</td>\n    </tr>\n  </tbody>\n</table>\n</div>"
     },
     "execution_count": 7,
     "metadata": {},
     "output_type": "execute_result"
    }
   ],
   "source": [
    "ratings.describe()"
   ],
   "metadata": {
    "collapsed": false,
    "pycharm": {
     "name": "#%%\n"
    }
   }
  },
  {
   "cell_type": "markdown",
   "source": [
    "## Rating that were most used"
   ],
   "metadata": {
    "collapsed": false,
    "pycharm": {
     "name": "#%% md\n"
    }
   }
  },
  {
   "cell_type": "code",
   "execution_count": 30,
   "outputs": [
    {
     "data": {
      "text/plain": "<AxesSubplot:xlabel='x'>"
     },
     "execution_count": 30,
     "metadata": {},
     "output_type": "execute_result"
    },
    {
     "data": {
      "text/plain": "<Figure size 432x288 with 1 Axes>",
      "image/png": "[encoded data removed]"
     },
     "metadata": {
      "needs_background": "light"
     },
     "output_type": "display_data"
    }
   ],
   "source": [
    "df_plot = pd.DataFrame(\n",
    "    {\n",
    "        'x': ratings['rating'].sort_values().unique(),\n",
    "        'y': ratings['rating'].value_counts().sort_index()\n",
    "    }\n",
    ")\n",
    "df_plot.plot.bar(x='x', y='y', rot=0)"
   ],
   "metadata": {
    "collapsed": false,
    "pycharm": {
     "name": "#%%\n"
    }
   }
  },
  {
   "cell_type": "markdown",
   "source": [
    "## Some more statistics"
   ],
   "metadata": {
    "collapsed": false,
    "pycharm": {
     "name": "#%% md\n"
    }
   }
  },
  {
   "cell_type": "code",
   "execution_count": 46,
   "outputs": [
    {
     "name": "stdout",
     "output_type": "stream",
     "text": [
      "Total number of Ratings: 100000\n",
      "Total number of Users: 943\n",
      "Avarage Number of Ratings by User: 106.04453870625663\n"
     ]
    }
   ],
   "source": [
    "print(f'Total number of Ratings: {ratings[\"rating\"].count()}')\n",
    "print(f'Total number of Users: {len(ratings[\"user_id\"].value_counts().index)}')\n",
    "print(f'Avarage Number of Ratings by User: {ratings[\"rating\"].count()/len(ratings[\"user_id\"].value_counts().index)}')"
   ],
   "metadata": {
    "collapsed": false,
    "pycharm": {
     "name": "#%%\n"
    }
   }
  },
  {
   "cell_type": "markdown",
   "source": [
    "# [Popularity-based recommendation](https://medium.com/data-hackers/criando-sistemas-de-recomenda%C3%A7%C3%A3o-em-python-ef350f601e3d)"
   ],
   "metadata": {
    "collapsed": false,
    "pycharm": {
     "name": "#%% md\n"
    }
   }
  },
  {
   "cell_type": "markdown",
   "source": [
    "## Movies with more than 50 ratings"
   ],
   "metadata": {
    "collapsed": false,
    "pycharm": {
     "name": "#%% md\n"
    }
   }
  },
  {
   "cell_type": "code",
   "execution_count": 47,
   "outputs": [
    {
     "data": {
      "text/plain": "       user_id  movie_id  rating  unix_timestamp\n0          196       242       3       881250949\n1          186       302       3       891717742\n3          244        51       2       880606923\n4          166       346       1       886397596\n5          298       474       4       884182806\n...        ...       ...     ...             ...\n99993      913       209       2       881367150\n99995      880       476       3       880175444\n99996      716       204       5       879795543\n99998       13       225       2       882399156\n99999       12       203       3       879959583\n\n[83715 rows x 4 columns]",
      "text/html": "<div>\n<style scoped>\n    .dataframe tbody tr th:only-of-type {\n        vertical-align: middle;\n    }\n\n    .dataframe tbody tr th {\n        vertical-align: top;\n    }\n\n    .dataframe thead th {\n        text-align: right;\n    }\n</style>\n<table border=\"1\" class=\"dataframe\">\n  <thead>\n    <tr style=\"text-align: right;\">\n      <th></th>\n      <th>user_id</th>\n      <th>movie_id</th>\n      <th>rating</th>\n      <th>unix_timestamp</th>\n    </tr>\n  </thead>\n  <tbody>\n    <tr>\n      <th>0</th>\n      <td>196</td>\n      <td>242</td>\n      <td>3</td>\n      <td>881250949</td>\n    </tr>\n    <tr>\n      <th>1</th>\n      <td>186</td>\n      <td>302</td>\n      <td>3</td>\n      <td>891717742</td>\n    </tr>\n    <tr>\n      <th>3</th>\n      <td>244</td>\n      <td>51</td>\n      <td>2</td>\n      <td>880606923</td>\n    </tr>\n    <tr>\n      <th>4</th>\n      <td>166</td>\n      <td>346</td>\n      <td>1</td>\n      <td>886397596</td>\n    </tr>\n    <tr>\n      <th>5</th>\n      <td>298</td>\n      <td>474</td>\n      <td>4</td>\n      <td>884182806</td>\n    </tr>\n    <tr>\n      <th>...</th>\n      <td>...</td>\n      <td>...</td>\n      <td>...</td>\n      <td>...</td>\n    </tr>\n    <tr>\n      <th>99993</th>\n      <td>913</td>\n      <td>209</td>\n      <td>2</td>\n      <td>881367150</td>\n    </tr>\n    <tr>\n      <th>99995</th>\n      <td>880</td>\n      <td>476</td>\n      <td>3</td>\n      <td>880175444</td>\n    </tr>\n    <tr>\n      <th>99996</th>\n      <td>716</td>\n      <td>204</td>\n      <td>5</td>\n      <td>879795543</td>\n    </tr>\n    <tr>\n      <th>99998</th>\n      <td>13</td>\n      <td>225</td>\n      <td>2</td>\n      <td>882399156</td>\n    </tr>\n    <tr>\n      <th>99999</th>\n      <td>12</td>\n      <td>203</td>\n      <td>3</td>\n      <td>879959583</td>\n    </tr>\n  </tbody>\n</table>\n<p>83715 rows × 4 columns</p>\n</div>"
     },
     "execution_count": 47,
     "metadata": {},
     "output_type": "execute_result"
    }
   ],
   "source": [
    "new_df = ratings.groupby('movie_id').filter(lambda x: x['rating'].count() >= 50)\n",
    "new_df"
   ],
   "metadata": {
    "collapsed": false,
    "pycharm": {
     "name": "#%%\n"
    }
   }
  },
  {
   "cell_type": "markdown",
   "source": [
    "## New DataFrame with average rating and number of ratings per movie"
   ],
   "metadata": {
    "collapsed": false,
    "pycharm": {
     "name": "#%% md\n"
    }
   }
  },
  {
   "cell_type": "code",
   "execution_count": 49,
   "outputs": [
    {
     "data": {
      "text/plain": "            rating\nmovie_id          \n1         3.878319\n2         3.206107\n3         3.033333\n4         3.550239\n5         3.302326\n...            ...\n1065      3.490566\n1073      3.818182\n1074      2.961039\n1101      3.770270\n1119      3.661017\n\n[603 rows x 1 columns]",
      "text/html": "<div>\n<style scoped>\n    .dataframe tbody tr th:only-of-type {\n        vertical-align: middle;\n    }\n\n    .dataframe tbody tr th {\n        vertical-align: top;\n    }\n\n    .dataframe thead th {\n        text-align: right;\n    }\n</style>\n<table border=\"1\" class=\"dataframe\">\n  <thead>\n    <tr style=\"text-align: right;\">\n      <th></th>\n      <th>rating</th>\n    </tr>\n    <tr>\n      <th>movie_id</th>\n      <th></th>\n    </tr>\n  </thead>\n  <tbody>\n    <tr>\n      <th>1</th>\n      <td>3.878319</td>\n    </tr>\n    <tr>\n      <th>2</th>\n      <td>3.206107</td>\n    </tr>\n    <tr>\n      <th>3</th>\n      <td>3.033333</td>\n    </tr>\n    <tr>\n      <th>4</th>\n      <td>3.550239</td>\n    </tr>\n    <tr>\n      <th>5</th>\n      <td>3.302326</td>\n    </tr>\n    <tr>\n      <th>...</th>\n      <td>...</td>\n    </tr>\n    <tr>\n      <th>1065</th>\n      <td>3.490566</td>\n    </tr>\n    <tr>\n      <th>1073</th>\n      <td>3.818182</td>\n    </tr>\n    <tr>\n      <th>1074</th>\n      <td>2.961039</td>\n    </tr>\n    <tr>\n      <th>1101</th>\n      <td>3.770270</td>\n    </tr>\n    <tr>\n      <th>1119</th>\n      <td>3.661017</td>\n    </tr>\n  </tbody>\n</table>\n<p>603 rows × 1 columns</p>\n</div>"
     },
     "execution_count": 49,
     "metadata": {},
     "output_type": "execute_result"
    }
   ],
   "source": [
    "ratings_df = pd.DataFrame(new_df.groupby('movie_id').rating.mean())\n",
    "ratings_df"
   ],
   "metadata": {
    "collapsed": false,
    "pycharm": {
     "name": "#%%\n"
    }
   }
  },
  {
   "cell_type": "markdown",
   "source": [
    "## Adding column with number of reviews per movie"
   ],
   "metadata": {
    "collapsed": false,
    "pycharm": {
     "name": "#%% md\n"
    }
   }
  },
  {
   "cell_type": "code",
   "execution_count": 50,
   "outputs": [
    {
     "data": {
      "text/plain": "            rating  rating_counts\nmovie_id                         \n1         3.878319            452\n2         3.206107            131\n3         3.033333             90\n4         3.550239            209\n5         3.302326             86\n...            ...            ...\n1065      3.490566             53\n1073      3.818182             66\n1074      2.961039             77\n1101      3.770270             74\n1119      3.661017             59\n\n[603 rows x 2 columns]",
      "text/html": "<div>\n<style scoped>\n    .dataframe tbody tr th:only-of-type {\n        vertical-align: middle;\n    }\n\n    .dataframe tbody tr th {\n        vertical-align: top;\n    }\n\n    .dataframe thead th {\n        text-align: right;\n    }\n</style>\n<table border=\"1\" class=\"dataframe\">\n  <thead>\n    <tr style=\"text-align: right;\">\n      <th></th>\n      <th>rating</th>\n      <th>rating_counts</th>\n    </tr>\n    <tr>\n      <th>movie_id</th>\n      <th></th>\n      <th></th>\n    </tr>\n  </thead>\n  <tbody>\n    <tr>\n      <th>1</th>\n      <td>3.878319</td>\n      <td>452</td>\n    </tr>\n    <tr>\n      <th>2</th>\n      <td>3.206107</td>\n      <td>131</td>\n    </tr>\n    <tr>\n      <th>3</th>\n      <td>3.033333</td>\n      <td>90</td>\n    </tr>\n    <tr>\n      <th>4</th>\n      <td>3.550239</td>\n      <td>209</td>\n    </tr>\n    <tr>\n      <th>5</th>\n      <td>3.302326</td>\n      <td>86</td>\n    </tr>\n    <tr>\n      <th>...</th>\n      <td>...</td>\n      <td>...</td>\n    </tr>\n    <tr>\n      <th>1065</th>\n      <td>3.490566</td>\n      <td>53</td>\n    </tr>\n    <tr>\n      <th>1073</th>\n      <td>3.818182</td>\n      <td>66</td>\n    </tr>\n    <tr>\n      <th>1074</th>\n      <td>2.961039</td>\n      <td>77</td>\n    </tr>\n    <tr>\n      <th>1101</th>\n      <td>3.770270</td>\n      <td>74</td>\n    </tr>\n    <tr>\n      <th>1119</th>\n      <td>3.661017</td>\n      <td>59</td>\n    </tr>\n  </tbody>\n</table>\n<p>603 rows × 2 columns</p>\n</div>"
     },
     "execution_count": 50,
     "metadata": {},
     "output_type": "execute_result"
    }
   ],
   "source": [
    "ratings_df['rating_counts'] = new_df.groupby('movie_id').rating.count()\n",
    "ratings_df"
   ],
   "metadata": {
    "collapsed": false,
    "pycharm": {
     "name": "#%%\n"
    }
   }
  },
  {
   "cell_type": "markdown",
   "source": [
    "## View of the 5 best rated films (number of ratings)"
   ],
   "metadata": {
    "collapsed": false,
    "pycharm": {
     "name": "#%% md\n"
    }
   }
  },
  {
   "cell_type": "code",
   "execution_count": 51,
   "outputs": [
    {
     "data": {
      "text/plain": "            rating  rating_counts\nmovie_id                         \n50        4.358491            583\n258       3.803536            509\n100       4.155512            508\n181       4.007890            507\n294       3.156701            485",
      "text/html": "<div>\n<style scoped>\n    .dataframe tbody tr th:only-of-type {\n        vertical-align: middle;\n    }\n\n    .dataframe tbody tr th {\n        vertical-align: top;\n    }\n\n    .dataframe thead th {\n        text-align: right;\n    }\n</style>\n<table border=\"1\" class=\"dataframe\">\n  <thead>\n    <tr style=\"text-align: right;\">\n      <th></th>\n      <th>rating</th>\n      <th>rating_counts</th>\n    </tr>\n    <tr>\n      <th>movie_id</th>\n      <th></th>\n      <th></th>\n    </tr>\n  </thead>\n  <tbody>\n    <tr>\n      <th>50</th>\n      <td>4.358491</td>\n      <td>583</td>\n    </tr>\n    <tr>\n      <th>258</th>\n      <td>3.803536</td>\n      <td>509</td>\n    </tr>\n    <tr>\n      <th>100</th>\n      <td>4.155512</td>\n      <td>508</td>\n    </tr>\n    <tr>\n      <th>181</th>\n      <td>4.007890</td>\n      <td>507</td>\n    </tr>\n    <tr>\n      <th>294</th>\n      <td>3.156701</td>\n      <td>485</td>\n    </tr>\n  </tbody>\n</table>\n</div>"
     },
     "execution_count": 51,
     "metadata": {},
     "output_type": "execute_result"
    }
   ],
   "source": [
    "ratings_df.sort_values(by='rating_counts', ascending=False).head(5)"
   ],
   "metadata": {
    "collapsed": false,
    "pycharm": {
     "name": "#%%\n"
    }
   }
  },
  {
   "cell_type": "markdown",
   "source": [
    "## Global Average of Ratings"
   ],
   "metadata": {
    "collapsed": false,
    "pycharm": {
     "name": "#%% md\n"
    }
   }
  },
  {
   "cell_type": "code",
   "execution_count": 52,
   "outputs": [
    {
     "data": {
      "text/plain": "3.528579825884183"
     },
     "execution_count": 52,
     "metadata": {},
     "output_type": "execute_result"
    }
   ],
   "source": [
    "C = ratings_df['rating'].mean()\n",
    "C"
   ],
   "metadata": {
    "collapsed": false,
    "pycharm": {
     "name": "#%%\n"
    }
   }
  },
  {
   "cell_type": "markdown",
   "source": [
    "## Minimum threshold to be eligible for the ranking"
   ],
   "metadata": {
    "collapsed": false,
    "pycharm": {
     "name": "#%% md\n"
    }
   }
  },
  {
   "cell_type": "code",
   "execution_count": 53,
   "outputs": [
    {
     "data": {
      "text/plain": "50"
     },
     "execution_count": 53,
     "metadata": {},
     "output_type": "execute_result"
    }
   ],
   "source": [
    "m = ratings_df.rating_counts.min()\n",
    "m"
   ],
   "metadata": {
    "collapsed": false,
    "pycharm": {
     "name": "#%%\n"
    }
   }
  },
  {
   "cell_type": "markdown",
   "source": [
    "## Function that calculates the weighted average of each item"
   ],
   "metadata": {
    "collapsed": false,
    "pycharm": {
     "name": "#%% md\n"
    }
   }
  },
  {
   "cell_type": "code",
   "execution_count": 54,
   "outputs": [],
   "source": [
    "def weighted_rating (x, m = m, C = C):\n",
    "    v = x['rating_counts']\n",
    "    R = x['rating']\n",
    "    return (v/(v+m) * R) + (m/(m+v) * C)"
   ],
   "metadata": {
    "collapsed": false,
    "pycharm": {
     "name": "#%%\n"
    }
   }
  },
  {
   "cell_type": "markdown",
   "source": [
    "## Add the 'score' calculated with weighted rating() to the dataframe"
   ],
   "metadata": {
    "collapsed": false,
    "pycharm": {
     "name": "#%% md\n"
    }
   }
  },
  {
   "cell_type": "code",
   "execution_count": 55,
   "outputs": [
    {
     "data": {
      "text/plain": "            rating  rating_counts     score\nmovie_id                                   \n1         3.878319            452  3.843484\n2         3.206107            131  3.295188\n3         3.033333             90  3.210207\n4         3.550239            209  3.546058\n5         3.302326             86  3.385507\n...            ...            ...       ...\n1065      3.490566             53  3.509019\n1073      3.818182             66  3.693353\n1074      2.961039             77  3.184480\n1101      3.770270             74  3.672814\n1119      3.661017             59  3.600266\n\n[603 rows x 3 columns]",
      "text/html": "<div>\n<style scoped>\n    .dataframe tbody tr th:only-of-type {\n        vertical-align: middle;\n    }\n\n    .dataframe tbody tr th {\n        vertical-align: top;\n    }\n\n    .dataframe thead th {\n        text-align: right;\n    }\n</style>\n<table border=\"1\" class=\"dataframe\">\n  <thead>\n    <tr style=\"text-align: right;\">\n      <th></th>\n      <th>rating</th>\n      <th>rating_counts</th>\n      <th>score</th>\n    </tr>\n    <tr>\n      <th>movie_id</th>\n      <th></th>\n      <th></th>\n      <th></th>\n    </tr>\n  </thead>\n  <tbody>\n    <tr>\n      <th>1</th>\n      <td>3.878319</td>\n      <td>452</td>\n      <td>3.843484</td>\n    </tr>\n    <tr>\n      <th>2</th>\n      <td>3.206107</td>\n      <td>131</td>\n      <td>3.295188</td>\n    </tr>\n    <tr>\n      <th>3</th>\n      <td>3.033333</td>\n      <td>90</td>\n      <td>3.210207</td>\n    </tr>\n    <tr>\n      <th>4</th>\n      <td>3.550239</td>\n      <td>209</td>\n      <td>3.546058</td>\n    </tr>\n    <tr>\n      <th>5</th>\n      <td>3.302326</td>\n      <td>86</td>\n      <td>3.385507</td>\n    </tr>\n    <tr>\n      <th>...</th>\n      <td>...</td>\n      <td>...</td>\n      <td>...</td>\n    </tr>\n    <tr>\n      <th>1065</th>\n      <td>3.490566</td>\n      <td>53</td>\n      <td>3.509019</td>\n    </tr>\n    <tr>\n      <th>1073</th>\n      <td>3.818182</td>\n      <td>66</td>\n      <td>3.693353</td>\n    </tr>\n    <tr>\n      <th>1074</th>\n      <td>2.961039</td>\n      <td>77</td>\n      <td>3.184480</td>\n    </tr>\n    <tr>\n      <th>1101</th>\n      <td>3.770270</td>\n      <td>74</td>\n      <td>3.672814</td>\n    </tr>\n    <tr>\n      <th>1119</th>\n      <td>3.661017</td>\n      <td>59</td>\n      <td>3.600266</td>\n    </tr>\n  </tbody>\n</table>\n<p>603 rows × 3 columns</p>\n</div>"
     },
     "execution_count": 55,
     "metadata": {},
     "output_type": "execute_result"
    }
   ],
   "source": [
    "ratings_df['score'] = ratings_df.apply(weighted_rating, axis=1)\n",
    "ratings_df"
   ],
   "metadata": {
    "collapsed": false,
    "pycharm": {
     "name": "#%%\n"
    }
   }
  },
  {
   "cell_type": "markdown",
   "source": [
    "## Final result with the 15 most popular movies"
   ],
   "metadata": {
    "collapsed": false,
    "pycharm": {
     "name": "#%% md\n"
    }
   }
  },
  {
   "cell_type": "code",
   "execution_count": 56,
   "outputs": [
    {
     "data": {
      "text/plain": "            rating  rating_counts     score\nmovie_id                                   \n318       4.466443            298  4.331693\n64        4.445230            283  4.307595\n483       4.456790            243  4.298392\n50        4.358491            583  4.292937\n12        4.385768            267  4.250565\n603       4.387560            209  4.221734\n98        4.289744            390  4.203248\n127       4.283293            413  4.201790\n408       4.491071            112  4.194006\n169       4.466102            118  4.187077\n174       4.252381            420  4.175381\n357       4.291667            264  4.170156\n313       4.245714            350  4.156072\n427       4.292237            219  4.150294\n134       4.292929            198  4.138827",
      "text/html": "<div>\n<style scoped>\n    .dataframe tbody tr th:only-of-type {\n        vertical-align: middle;\n    }\n\n    .dataframe tbody tr th {\n        vertical-align: top;\n    }\n\n    .dataframe thead th {\n        text-align: right;\n    }\n</style>\n<table border=\"1\" class=\"dataframe\">\n  <thead>\n    <tr style=\"text-align: right;\">\n      <th></th>\n      <th>rating</th>\n      <th>rating_counts</th>\n      <th>score</th>\n    </tr>\n    <tr>\n      <th>movie_id</th>\n      <th></th>\n      <th></th>\n      <th></th>\n    </tr>\n  </thead>\n  <tbody>\n    <tr>\n      <th>318</th>\n      <td>4.466443</td>\n      <td>298</td>\n      <td>4.331693</td>\n    </tr>\n    <tr>\n      <th>64</th>\n      <td>4.445230</td>\n      <td>283</td>\n      <td>4.307595</td>\n    </tr>\n    <tr>\n      <th>483</th>\n      <td>4.456790</td>\n      <td>243</td>\n      <td>4.298392</td>\n    </tr>\n    <tr>\n      <th>50</th>\n      <td>4.358491</td>\n      <td>583</td>\n      <td>4.292937</td>\n    </tr>\n    <tr>\n      <th>12</th>\n      <td>4.385768</td>\n      <td>267</td>\n      <td>4.250565</td>\n    </tr>\n    <tr>\n      <th>603</th>\n      <td>4.387560</td>\n      <td>209</td>\n      <td>4.221734</td>\n    </tr>\n    <tr>\n      <th>98</th>\n      <td>4.289744</td>\n      <td>390</td>\n      <td>4.203248</td>\n    </tr>\n    <tr>\n      <th>127</th>\n      <td>4.283293</td>\n      <td>413</td>\n      <td>4.201790</td>\n    </tr>\n    <tr>\n      <th>408</th>\n      <td>4.491071</td>\n      <td>112</td>\n      <td>4.194006</td>\n    </tr>\n    <tr>\n      <th>169</th>\n      <td>4.466102</td>\n      <td>118</td>\n      <td>4.187077</td>\n    </tr>\n    <tr>\n      <th>174</th>\n      <td>4.252381</td>\n      <td>420</td>\n      <td>4.175381</td>\n    </tr>\n    <tr>\n      <th>357</th>\n      <td>4.291667</td>\n      <td>264</td>\n      <td>4.170156</td>\n    </tr>\n    <tr>\n      <th>313</th>\n      <td>4.245714</td>\n      <td>350</td>\n      <td>4.156072</td>\n    </tr>\n    <tr>\n      <th>427</th>\n      <td>4.292237</td>\n      <td>219</td>\n      <td>4.150294</td>\n    </tr>\n    <tr>\n      <th>134</th>\n      <td>4.292929</td>\n      <td>198</td>\n      <td>4.138827</td>\n    </tr>\n  </tbody>\n</table>\n</div>"
     },
     "execution_count": 56,
     "metadata": {},
     "output_type": "execute_result"
    }
   ],
   "source": [
    "ratings_df.sort_values(by='score', ascending=False).head(15)"
   ],
   "metadata": {
    "collapsed": false,
    "pycharm": {
     "name": "#%%\n"
    }
   }
  },
  {
   "cell_type": "markdown",
   "source": [
    "# [Collaborative filtering (item-item recommendation)](https://medium.com/data-hackers/criando-sistemas-de-recomenda%C3%A7%C3%A3o-em-python-ef350f601e3d)"
   ],
   "metadata": {
    "collapsed": false,
    "pycharm": {
     "name": "#%% md\n"
    }
   }
  },
  {
   "cell_type": "markdown",
   "source": [
    "## Reading dataset"
   ],
   "metadata": {
    "collapsed": false,
    "pycharm": {
     "name": "#%% md\n"
    }
   }
  },
  {
   "cell_type": "code",
   "execution_count": 78,
   "outputs": [
    {
     "data": {
      "text/plain": "       user_id  movie_id  rating  unix_timestamp\n0          196       242       3       881250949\n1          186       302       3       891717742\n3          244        51       2       880606923\n4          166       346       1       886397596\n5          298       474       4       884182806\n...        ...       ...     ...             ...\n99993      913       209       2       881367150\n99995      880       476       3       880175444\n99996      716       204       5       879795543\n99998       13       225       2       882399156\n99999       12       203       3       879959583\n\n[83715 rows x 4 columns]",
      "text/html": "<div>\n<style scoped>\n    .dataframe tbody tr th:only-of-type {\n        vertical-align: middle;\n    }\n\n    .dataframe tbody tr th {\n        vertical-align: top;\n    }\n\n    .dataframe thead th {\n        text-align: right;\n    }\n</style>\n<table border=\"1\" class=\"dataframe\">\n  <thead>\n    <tr style=\"text-align: right;\">\n      <th></th>\n      <th>user_id</th>\n      <th>movie_id</th>\n      <th>rating</th>\n      <th>unix_timestamp</th>\n    </tr>\n  </thead>\n  <tbody>\n    <tr>\n      <th>0</th>\n      <td>196</td>\n      <td>242</td>\n      <td>3</td>\n      <td>881250949</td>\n    </tr>\n    <tr>\n      <th>1</th>\n      <td>186</td>\n      <td>302</td>\n      <td>3</td>\n      <td>891717742</td>\n    </tr>\n    <tr>\n      <th>3</th>\n      <td>244</td>\n      <td>51</td>\n      <td>2</td>\n      <td>880606923</td>\n    </tr>\n    <tr>\n      <th>4</th>\n      <td>166</td>\n      <td>346</td>\n      <td>1</td>\n      <td>886397596</td>\n    </tr>\n    <tr>\n      <th>5</th>\n      <td>298</td>\n      <td>474</td>\n      <td>4</td>\n      <td>884182806</td>\n    </tr>\n    <tr>\n      <th>...</th>\n      <td>...</td>\n      <td>...</td>\n      <td>...</td>\n      <td>...</td>\n    </tr>\n    <tr>\n      <th>99993</th>\n      <td>913</td>\n      <td>209</td>\n      <td>2</td>\n      <td>881367150</td>\n    </tr>\n    <tr>\n      <th>99995</th>\n      <td>880</td>\n      <td>476</td>\n      <td>3</td>\n      <td>880175444</td>\n    </tr>\n    <tr>\n      <th>99996</th>\n      <td>716</td>\n      <td>204</td>\n      <td>5</td>\n      <td>879795543</td>\n    </tr>\n    <tr>\n      <th>99998</th>\n      <td>13</td>\n      <td>225</td>\n      <td>2</td>\n      <td>882399156</td>\n    </tr>\n    <tr>\n      <th>99999</th>\n      <td>12</td>\n      <td>203</td>\n      <td>3</td>\n      <td>879959583</td>\n    </tr>\n  </tbody>\n</table>\n<p>83715 rows × 4 columns</p>\n</div>"
     },
     "execution_count": 78,
     "metadata": {},
     "output_type": "execute_result"
    }
   ],
   "source": [
    "new_df"
   ],
   "metadata": {
    "collapsed": false,
    "pycharm": {
     "name": "#%%\n"
    }
   }
  },
  {
   "cell_type": "code",
   "execution_count": 65,
   "outputs": [
    {
     "data": {
      "text/plain": "<surprise.dataset.DatasetAutoFolds at 0x7f726615ae20>"
     },
     "execution_count": 65,
     "metadata": {},
     "output_type": "execute_result"
    }
   ],
   "source": [
    "reader = Reader(rating_scale=(1, 5))\n",
    "data = Dataset.load_from_df(new_df.drop('unix_timestamp', axis=1), reader)\n",
    "data"
   ],
   "metadata": {
    "collapsed": false,
    "pycharm": {
     "name": "#%%\n"
    }
   }
  },
  {
   "cell_type": "markdown",
   "source": [
    "## Split data"
   ],
   "metadata": {
    "collapsed": false,
    "pycharm": {
     "name": "#%% md\n"
    }
   }
  },
  {
   "cell_type": "code",
   "execution_count": 69,
   "outputs": [],
   "source": [
    "trainset, testset = train_test_split(data, test_size=0.3, random_state=10)"
   ],
   "metadata": {
    "collapsed": false,
    "pycharm": {
     "name": "#%%\n"
    }
   }
  },
  {
   "cell_type": "markdown",
   "source": [
    "## Creating an item-based model (user_based true / false to switch between user-based or item-based collaborative filtering)"
   ],
   "metadata": {
    "collapsed": false,
    "pycharm": {
     "name": "#%% md\n"
    }
   }
  },
  {
   "cell_type": "code",
   "execution_count": 70,
   "outputs": [
    {
     "name": "stdout",
     "output_type": "stream",
     "text": [
      "Computing the msd similarity matrix...\n",
      "Done computing similarity matrix.\n"
     ]
    },
    {
     "data": {
      "text/plain": "<surprise.prediction_algorithms.knns.KNNWithMeans at 0x7f72643e5a60>"
     },
     "execution_count": 70,
     "metadata": {},
     "output_type": "execute_result"
    }
   ],
   "source": [
    "algo = KNNWithMeans(k=5, sim_options={'user_based': False})\n",
    "algo.fit(trainset)"
   ],
   "metadata": {
    "collapsed": false,
    "pycharm": {
     "name": "#%%\n"
    }
   }
  },
  {
   "cell_type": "markdown",
   "source": [
    "## Sabe model"
   ],
   "metadata": {
    "collapsed": false,
    "pycharm": {
     "name": "#%% md\n"
    }
   }
  },
  {
   "cell_type": "code",
   "execution_count": 157,
   "outputs": [
    {
     "data": {
      "text/plain": "['surprise_prediction_algorithms_knns_KNNWithMeans.sav']"
     },
     "execution_count": 157,
     "metadata": {},
     "output_type": "execute_result"
    }
   ],
   "source": [
    "dump(algo, 'surprise_prediction_algorithms_knns_KNNWithMeans.sav')"
   ],
   "metadata": {
    "collapsed": false,
    "pycharm": {
     "name": "#%%\n"
    }
   }
  },
  {
   "cell_type": "markdown",
   "source": [
    "## Test model"
   ],
   "metadata": {
    "collapsed": false,
    "pycharm": {
     "name": "#%% md\n"
    }
   }
  },
  {
   "cell_type": "code",
   "execution_count": 73,
   "outputs": [],
   "source": [
    "test_pred = algo.test(testset)"
   ],
   "metadata": {
    "collapsed": false,
    "pycharm": {
     "name": "#%%\n"
    }
   }
  },
  {
   "cell_type": "markdown",
   "source": [
    "## Result"
   ],
   "metadata": {
    "collapsed": false,
    "pycharm": {
     "name": "#%% md\n"
    }
   }
  },
  {
   "cell_type": "code",
   "execution_count": 74,
   "outputs": [
    {
     "name": "stdout",
     "output_type": "stream",
     "text": [
      "Item-based Model : Test Set\n",
      "RMSE: 0.9731\n"
     ]
    },
    {
     "data": {
      "text/plain": "0.9731304938258023"
     },
     "execution_count": 74,
     "metadata": {},
     "output_type": "execute_result"
    }
   ],
   "source": [
    "print('Item-based Model : Test Set')\n",
    "accuracy.rmse(test_pred, verbose=True)"
   ],
   "metadata": {
    "collapsed": false,
    "pycharm": {
     "name": "#%%\n"
    }
   }
  },
  {
   "cell_type": "markdown",
   "source": [
    "## Using get_neighbors function to get the 10 recommendations for the movie at index 1"
   ],
   "metadata": {
    "collapsed": false,
    "pycharm": {
     "name": "#%% md\n"
    }
   }
  },
  {
   "cell_type": "code",
   "execution_count": 75,
   "outputs": [
    {
     "data": {
      "text/plain": "[546, 117, 306, 430, 239, 462, 508, 522, 554, 579]"
     },
     "execution_count": 75,
     "metadata": {},
     "output_type": "execute_result"
    }
   ],
   "source": [
    "algo.get_neighbors(1, 10)"
   ],
   "metadata": {
    "collapsed": false,
    "pycharm": {
     "name": "#%%\n"
    }
   }
  },
  {
   "cell_type": "code",
   "execution_count": 102,
   "outputs": [
    {
     "data": {
      "text/plain": "      movie_id                                       title release_date  \\\n12          13                     Mighty Aphrodite (1995)  30-Oct-1995   \n170        171                         Delicatessen (1991)  01-Jan-1991   \n216        217                Bram Stoker's Dracula (1992)  01-Jan-1992   \n228        229  Star Trek III: The Search for Spock (1984)  01-Jan-1984   \n270        271                    Starship Troopers (1997)  01-Jan-1997   \n345        346                         Jackie Brown (1997)  01-Jan-1997   \n496        497                     Bringing Up Baby (1938)  01-Jan-1938   \n657        658                   Pump Up the Volume (1990)  01-Jan-1990   \n812        813                Celluloid Closet, The (1995)  15-Mar-1996   \n1027      1028                     Grumpier Old Men (1995)  01-Jan-1995   \n\n      video_release_date                                           imdb_url  \n12                   NaN  http://us.imdb.com/M/title-exact?Mighty%20Aphr...  \n170                  NaN  http://us.imdb.com/M/title-exact?Delicatessen%...  \n216                  NaN  http://us.imdb.com/M/title-exact?Bram%20Stoker...  \n228                  NaN  http://us.imdb.com/M/title-exact?Star%20Trek%2...  \n270                  NaN  http://us.imdb.com/M/title-exact?Starship+Troo...  \n345                  NaN  http://us.imdb.com/M/title-exact?imdb-title-11...  \n496                  NaN  http://us.imdb.com/M/title-exact?Bringing%20Up...  \n657                  NaN  http://us.imdb.com/M/title-exact?Pump%20Up%20t...  \n812                  NaN  http://us.imdb.com/M/title-exact?Celluloid%20C...  \n1027                 NaN  http://us.imdb.com/M/title-exact?Grumpier%20Ol...  ",
      "text/html": "<div>\n<style scoped>\n    .dataframe tbody tr th:only-of-type {\n        vertical-align: middle;\n    }\n\n    .dataframe tbody tr th {\n        vertical-align: top;\n    }\n\n    .dataframe thead th {\n        text-align: right;\n    }\n</style>\n<table border=\"1\" class=\"dataframe\">\n  <thead>\n    <tr style=\"text-align: right;\">\n      <th></th>\n      <th>movie_id</th>\n      <th>title</th>\n      <th>release_date</th>\n      <th>video_release_date</th>\n      <th>imdb_url</th>\n    </tr>\n  </thead>\n  <tbody>\n    <tr>\n      <th>12</th>\n      <td>13</td>\n      <td>Mighty Aphrodite (1995)</td>\n      <td>30-Oct-1995</td>\n      <td>NaN</td>\n      <td>http://us.imdb.com/M/title-exact?Mighty%20Aphr...</td>\n    </tr>\n    <tr>\n      <th>170</th>\n      <td>171</td>\n      <td>Delicatessen (1991)</td>\n      <td>01-Jan-1991</td>\n      <td>NaN</td>\n      <td>http://us.imdb.com/M/title-exact?Delicatessen%...</td>\n    </tr>\n    <tr>\n      <th>216</th>\n      <td>217</td>\n      <td>Bram Stoker's Dracula (1992)</td>\n      <td>01-Jan-1992</td>\n      <td>NaN</td>\n      <td>http://us.imdb.com/M/title-exact?Bram%20Stoker...</td>\n    </tr>\n    <tr>\n      <th>228</th>\n      <td>229</td>\n      <td>Star Trek III: The Search for Spock (1984)</td>\n      <td>01-Jan-1984</td>\n      <td>NaN</td>\n      <td>http://us.imdb.com/M/title-exact?Star%20Trek%2...</td>\n    </tr>\n    <tr>\n      <th>270</th>\n      <td>271</td>\n      <td>Starship Troopers (1997)</td>\n      <td>01-Jan-1997</td>\n      <td>NaN</td>\n      <td>http://us.imdb.com/M/title-exact?Starship+Troo...</td>\n    </tr>\n    <tr>\n      <th>345</th>\n      <td>346</td>\n      <td>Jackie Brown (1997)</td>\n      <td>01-Jan-1997</td>\n      <td>NaN</td>\n      <td>http://us.imdb.com/M/title-exact?imdb-title-11...</td>\n    </tr>\n    <tr>\n      <th>496</th>\n      <td>497</td>\n      <td>Bringing Up Baby (1938)</td>\n      <td>01-Jan-1938</td>\n      <td>NaN</td>\n      <td>http://us.imdb.com/M/title-exact?Bringing%20Up...</td>\n    </tr>\n    <tr>\n      <th>657</th>\n      <td>658</td>\n      <td>Pump Up the Volume (1990)</td>\n      <td>01-Jan-1990</td>\n      <td>NaN</td>\n      <td>http://us.imdb.com/M/title-exact?Pump%20Up%20t...</td>\n    </tr>\n    <tr>\n      <th>812</th>\n      <td>813</td>\n      <td>Celluloid Closet, The (1995)</td>\n      <td>15-Mar-1996</td>\n      <td>NaN</td>\n      <td>http://us.imdb.com/M/title-exact?Celluloid%20C...</td>\n    </tr>\n    <tr>\n      <th>1027</th>\n      <td>1028</td>\n      <td>Grumpier Old Men (1995)</td>\n      <td>01-Jan-1995</td>\n      <td>NaN</td>\n      <td>http://us.imdb.com/M/title-exact?Grumpier%20Ol...</td>\n    </tr>\n  </tbody>\n</table>\n</div>"
     },
     "execution_count": 102,
     "metadata": {},
     "output_type": "execute_result"
    }
   ],
   "source": [
    "filter_list = new_df.iloc[[546, 117, 306, 430, 239, 462, 508, 522, 554, 579]].movie_id\n",
    "movies.query(f'movie_id == {filter_list.values.tolist()}')"
   ],
   "metadata": {
    "collapsed": false,
    "pycharm": {
     "name": "#%%\n"
    }
   }
  },
  {
   "cell_type": "markdown",
   "source": [
    "# Matrix Factoring System (SVD Algorithm)"
   ],
   "metadata": {
    "collapsed": false,
    "pycharm": {
     "name": "#%% md\n"
    }
   }
  },
  {
   "cell_type": "markdown",
   "source": [
    "## Let's work with 50 thousand rows due to computational use"
   ],
   "metadata": {
    "collapsed": false,
    "pycharm": {
     "name": "#%% md\n"
    }
   }
  },
  {
   "cell_type": "code",
   "execution_count": 105,
   "outputs": [
    {
     "data": {
      "text/plain": "movie_id  1     2     3     4     5     7     8     9     10    11    ...  \\\nuser_id                                                               ...   \n1            5     3     0     0     3     0     1     5     3     2  ...   \n2            4     0     0     0     0     0     0     0     2     0  ...   \n3            0     0     0     0     0     0     0     0     0     0  ...   \n4            0     0     0     0     0     0     0     0     0     4  ...   \n5            4     3     0     0     0     0     0     0     0     0  ...   \n\nmovie_id  1035  1039  1041  1047  1048  1065  1073  1074  1101  1119  \nuser_id                                                               \n1            0     0     0     0     0     0     0     0     0     0  \n2            0     0     0     0     0     0     0     0     0     0  \n3            0     0     0     0     0     0     0     0     0     0  \n4            0     0     0     0     0     0     0     0     0     0  \n5            0     0     0     0     0     0     0     0     0     0  \n\n[5 rows x 603 columns]",
      "text/html": "<div>\n<style scoped>\n    .dataframe tbody tr th:only-of-type {\n        vertical-align: middle;\n    }\n\n    .dataframe tbody tr th {\n        vertical-align: top;\n    }\n\n    .dataframe thead th {\n        text-align: right;\n    }\n</style>\n<table border=\"1\" class=\"dataframe\">\n  <thead>\n    <tr style=\"text-align: right;\">\n      <th>movie_id</th>\n      <th>1</th>\n      <th>2</th>\n      <th>3</th>\n      <th>4</th>\n      <th>5</th>\n      <th>7</th>\n      <th>8</th>\n      <th>9</th>\n      <th>10</th>\n      <th>11</th>\n      <th>...</th>\n      <th>1035</th>\n      <th>1039</th>\n      <th>1041</th>\n      <th>1047</th>\n      <th>1048</th>\n      <th>1065</th>\n      <th>1073</th>\n      <th>1074</th>\n      <th>1101</th>\n      <th>1119</th>\n    </tr>\n    <tr>\n      <th>user_id</th>\n      <th></th>\n      <th></th>\n      <th></th>\n      <th></th>\n      <th></th>\n      <th></th>\n      <th></th>\n      <th></th>\n      <th></th>\n      <th></th>\n      <th></th>\n      <th></th>\n      <th></th>\n      <th></th>\n      <th></th>\n      <th></th>\n      <th></th>\n      <th></th>\n      <th></th>\n      <th></th>\n      <th></th>\n    </tr>\n  </thead>\n  <tbody>\n    <tr>\n      <th>1</th>\n      <td>5</td>\n      <td>3</td>\n      <td>0</td>\n      <td>0</td>\n      <td>3</td>\n      <td>0</td>\n      <td>1</td>\n      <td>5</td>\n      <td>3</td>\n      <td>2</td>\n      <td>...</td>\n      <td>0</td>\n      <td>0</td>\n      <td>0</td>\n      <td>0</td>\n      <td>0</td>\n      <td>0</td>\n      <td>0</td>\n      <td>0</td>\n      <td>0</td>\n      <td>0</td>\n    </tr>\n    <tr>\n      <th>2</th>\n      <td>4</td>\n      <td>0</td>\n      <td>0</td>\n      <td>0</td>\n      <td>0</td>\n      <td>0</td>\n      <td>0</td>\n      <td>0</td>\n      <td>2</td>\n      <td>0</td>\n      <td>...</td>\n      <td>0</td>\n      <td>0</td>\n      <td>0</td>\n      <td>0</td>\n      <td>0</td>\n      <td>0</td>\n      <td>0</td>\n      <td>0</td>\n      <td>0</td>\n      <td>0</td>\n    </tr>\n    <tr>\n      <th>3</th>\n      <td>0</td>\n      <td>0</td>\n      <td>0</td>\n      <td>0</td>\n      <td>0</td>\n      <td>0</td>\n      <td>0</td>\n      <td>0</td>\n      <td>0</td>\n      <td>0</td>\n      <td>...</td>\n      <td>0</td>\n      <td>0</td>\n      <td>0</td>\n      <td>0</td>\n      <td>0</td>\n      <td>0</td>\n      <td>0</td>\n      <td>0</td>\n      <td>0</td>\n      <td>0</td>\n    </tr>\n    <tr>\n      <th>4</th>\n      <td>0</td>\n      <td>0</td>\n      <td>0</td>\n      <td>0</td>\n      <td>0</td>\n      <td>0</td>\n      <td>0</td>\n      <td>0</td>\n      <td>0</td>\n      <td>4</td>\n      <td>...</td>\n      <td>0</td>\n      <td>0</td>\n      <td>0</td>\n      <td>0</td>\n      <td>0</td>\n      <td>0</td>\n      <td>0</td>\n      <td>0</td>\n      <td>0</td>\n      <td>0</td>\n    </tr>\n    <tr>\n      <th>5</th>\n      <td>4</td>\n      <td>3</td>\n      <td>0</td>\n      <td>0</td>\n      <td>0</td>\n      <td>0</td>\n      <td>0</td>\n      <td>0</td>\n      <td>0</td>\n      <td>0</td>\n      <td>...</td>\n      <td>0</td>\n      <td>0</td>\n      <td>0</td>\n      <td>0</td>\n      <td>0</td>\n      <td>0</td>\n      <td>0</td>\n      <td>0</td>\n      <td>0</td>\n      <td>0</td>\n    </tr>\n  </tbody>\n</table>\n<p>5 rows × 603 columns</p>\n</div>"
     },
     "execution_count": 105,
     "metadata": {},
     "output_type": "execute_result"
    }
   ],
   "source": [
    "new_df1 = new_df.head(50000)\n",
    "ratings_matrix = new_df1.pivot_table(values='rating', index='user_id', columns='movie_id', fill_value=0)\n",
    "ratings_matrix.head()"
   ],
   "metadata": {
    "collapsed": false,
    "pycharm": {
     "name": "#%%\n"
    }
   }
  },
  {
   "cell_type": "code",
   "execution_count": 138,
   "outputs": [
    {
     "data": {
      "text/plain": "(870, 603)"
     },
     "execution_count": 138,
     "metadata": {},
     "output_type": "execute_result"
    }
   ],
   "source": [
    "ratings_matrix.shape"
   ],
   "metadata": {
    "collapsed": false,
    "pycharm": {
     "name": "#%%\n"
    }
   }
  },
  {
   "cell_type": "markdown",
   "source": [
    "## Matrix transpose"
   ],
   "metadata": {
    "collapsed": false,
    "pycharm": {
     "name": "#%% md\n"
    }
   }
  },
  {
   "cell_type": "code",
   "execution_count": 106,
   "outputs": [
    {
     "data": {
      "text/plain": "user_id   1    2    3    4    5    6    7    8    9    10   ...  864  865  \\\nmovie_id                                                    ...             \n1           5    4    0    0    4    4    0    0    0    4  ...    0    0   \n2           3    0    0    0    3    0    0    0    0    0  ...    0    0   \n3           0    0    0    0    0    0    0    0    0    0  ...    0    0   \n4           0    0    0    0    0    0    5    0    0    4  ...    0    0   \n5           3    0    0    0    0    0    0    0    0    0  ...    0    0   \n\nuser_id   866  867  868  870  871  872  875  876  \nmovie_id                                          \n1           0    0    0    0    0    0    0    0  \n2           0    0    0    0    0    0    0    0  \n3           0    0    0    0    0    0    0    0  \n4           0    0    0    0    0    0    0    0  \n5           0    0    0    0    0    0    0    0  \n\n[5 rows x 870 columns]",
      "text/html": "<div>\n<style scoped>\n    .dataframe tbody tr th:only-of-type {\n        vertical-align: middle;\n    }\n\n    .dataframe tbody tr th {\n        vertical-align: top;\n    }\n\n    .dataframe thead th {\n        text-align: right;\n    }\n</style>\n<table border=\"1\" class=\"dataframe\">\n  <thead>\n    <tr style=\"text-align: right;\">\n      <th>user_id</th>\n      <th>1</th>\n      <th>2</th>\n      <th>3</th>\n      <th>4</th>\n      <th>5</th>\n      <th>6</th>\n      <th>7</th>\n      <th>8</th>\n      <th>9</th>\n      <th>10</th>\n      <th>...</th>\n      <th>864</th>\n      <th>865</th>\n      <th>866</th>\n      <th>867</th>\n      <th>868</th>\n      <th>870</th>\n      <th>871</th>\n      <th>872</th>\n      <th>875</th>\n      <th>876</th>\n    </tr>\n    <tr>\n      <th>movie_id</th>\n      <th></th>\n      <th></th>\n      <th></th>\n      <th></th>\n      <th></th>\n      <th></th>\n      <th></th>\n      <th></th>\n      <th></th>\n      <th></th>\n      <th></th>\n      <th></th>\n      <th></th>\n      <th></th>\n      <th></th>\n      <th></th>\n      <th></th>\n      <th></th>\n      <th></th>\n      <th></th>\n      <th></th>\n    </tr>\n  </thead>\n  <tbody>\n    <tr>\n      <th>1</th>\n      <td>5</td>\n      <td>4</td>\n      <td>0</td>\n      <td>0</td>\n      <td>4</td>\n      <td>4</td>\n      <td>0</td>\n      <td>0</td>\n      <td>0</td>\n      <td>4</td>\n      <td>...</td>\n      <td>0</td>\n      <td>0</td>\n      <td>0</td>\n      <td>0</td>\n      <td>0</td>\n      <td>0</td>\n      <td>0</td>\n      <td>0</td>\n      <td>0</td>\n      <td>0</td>\n    </tr>\n    <tr>\n      <th>2</th>\n      <td>3</td>\n      <td>0</td>\n      <td>0</td>\n      <td>0</td>\n      <td>3</td>\n      <td>0</td>\n      <td>0</td>\n      <td>0</td>\n      <td>0</td>\n      <td>0</td>\n      <td>...</td>\n      <td>0</td>\n      <td>0</td>\n      <td>0</td>\n      <td>0</td>\n      <td>0</td>\n      <td>0</td>\n      <td>0</td>\n      <td>0</td>\n      <td>0</td>\n      <td>0</td>\n    </tr>\n    <tr>\n      <th>3</th>\n      <td>0</td>\n      <td>0</td>\n      <td>0</td>\n      <td>0</td>\n      <td>0</td>\n      <td>0</td>\n      <td>0</td>\n      <td>0</td>\n      <td>0</td>\n      <td>0</td>\n      <td>...</td>\n      <td>0</td>\n      <td>0</td>\n      <td>0</td>\n      <td>0</td>\n      <td>0</td>\n      <td>0</td>\n      <td>0</td>\n      <td>0</td>\n      <td>0</td>\n      <td>0</td>\n    </tr>\n    <tr>\n      <th>4</th>\n      <td>0</td>\n      <td>0</td>\n      <td>0</td>\n      <td>0</td>\n      <td>0</td>\n      <td>0</td>\n      <td>5</td>\n      <td>0</td>\n      <td>0</td>\n      <td>4</td>\n      <td>...</td>\n      <td>0</td>\n      <td>0</td>\n      <td>0</td>\n      <td>0</td>\n      <td>0</td>\n      <td>0</td>\n      <td>0</td>\n      <td>0</td>\n      <td>0</td>\n      <td>0</td>\n    </tr>\n    <tr>\n      <th>5</th>\n      <td>3</td>\n      <td>0</td>\n      <td>0</td>\n      <td>0</td>\n      <td>0</td>\n      <td>0</td>\n      <td>0</td>\n      <td>0</td>\n      <td>0</td>\n      <td>0</td>\n      <td>...</td>\n      <td>0</td>\n      <td>0</td>\n      <td>0</td>\n      <td>0</td>\n      <td>0</td>\n      <td>0</td>\n      <td>0</td>\n      <td>0</td>\n      <td>0</td>\n      <td>0</td>\n    </tr>\n  </tbody>\n</table>\n<p>5 rows × 870 columns</p>\n</div>"
     },
     "execution_count": 106,
     "metadata": {},
     "output_type": "execute_result"
    }
   ],
   "source": [
    "X = ratings_matrix.T\n",
    "X.head()"
   ],
   "metadata": {
    "collapsed": false,
    "pycharm": {
     "name": "#%%\n"
    }
   }
  },
  {
   "cell_type": "code",
   "execution_count": 139,
   "outputs": [
    {
     "data": {
      "text/plain": "(603, 870)"
     },
     "execution_count": 139,
     "metadata": {},
     "output_type": "execute_result"
    }
   ],
   "source": [
    "X.shape"
   ],
   "metadata": {
    "collapsed": false,
    "pycharm": {
     "name": "#%%\n"
    }
   }
  },
  {
   "cell_type": "markdown",
   "source": [
    "## Matrix Decomposition. The Truncated SVD function will actually reduce the dimension of the sparse matrix into the number of components requested"
   ],
   "metadata": {
    "collapsed": false,
    "pycharm": {
     "name": "#%% md\n"
    }
   }
  },
  {
   "cell_type": "code",
   "execution_count": 107,
   "outputs": [
    {
     "data": {
      "text/plain": "(603, 10)"
     },
     "execution_count": 107,
     "metadata": {},
     "output_type": "execute_result"
    }
   ],
   "source": [
    "SVD_model = TruncatedSVD(n_components=10)\n",
    "decomposed_matrix = SVD_model.fit_transform(X)\n",
    "decomposed_matrix.shape"
   ],
   "metadata": {
    "collapsed": false,
    "pycharm": {
     "name": "#%%\n"
    }
   }
  },
  {
   "cell_type": "markdown",
   "source": [
    "## Save model"
   ],
   "metadata": {
    "collapsed": false,
    "pycharm": {
     "name": "#%% md\n"
    }
   }
  },
  {
   "cell_type": "code",
   "execution_count": 160,
   "outputs": [
    {
     "data": {
      "text/plain": "['TruncatedSVC_SVD_model.sav']"
     },
     "execution_count": 160,
     "metadata": {},
     "output_type": "execute_result"
    }
   ],
   "source": [
    "dump(decomposed_matrix, 'TruncatedSVC_SVD_model.sav')"
   ],
   "metadata": {
    "collapsed": false,
    "pycharm": {
     "name": "#%%\n"
    }
   }
  },
  {
   "cell_type": "markdown",
   "source": [
    "## Correlation matrix"
   ],
   "metadata": {
    "collapsed": false,
    "pycharm": {
     "name": "#%% md\n"
    }
   }
  },
  {
   "cell_type": "code",
   "execution_count": 110,
   "outputs": [
    {
     "data": {
      "text/plain": "(603, 603)"
     },
     "execution_count": 110,
     "metadata": {},
     "output_type": "execute_result"
    }
   ],
   "source": [
    "correlation_matrix = np.corrcoef(decomposed_matrix)\n",
    "correlation_matrix.shape"
   ],
   "metadata": {
    "collapsed": false,
    "pycharm": {
     "name": "#%%\n"
    }
   }
  },
  {
   "cell_type": "code",
   "execution_count": 151,
   "outputs": [
    {
     "data": {
      "text/plain": "1"
     },
     "execution_count": 151,
     "metadata": {},
     "output_type": "execute_result"
    }
   ],
   "source": [
    "i = 2\n",
    "\n",
    "movie_names = list(X.index)\n",
    "movie_ID = movie_names.index(i)\n",
    "movie_ID"
   ],
   "metadata": {
    "collapsed": false,
    "pycharm": {
     "name": "#%%\n"
    }
   }
  },
  {
   "cell_type": "markdown",
   "source": [
    "## Correlation for all items with the item rated by this customer, based on items rated by others from customers who have rated the same product"
   ],
   "metadata": {
    "collapsed": false,
    "pycharm": {
     "name": "#%% md\n"
    }
   }
  },
  {
   "cell_type": "code",
   "execution_count": 152,
   "outputs": [
    {
     "data": {
      "text/plain": "(603,)"
     },
     "execution_count": 152,
     "metadata": {},
     "output_type": "execute_result"
    }
   ],
   "source": [
    "correlation_movie_ID = correlation_matrix[movie_ID]\n",
    "correlation_movie_ID.shape"
   ],
   "metadata": {
    "collapsed": false,
    "pycharm": {
     "name": "#%%\n"
    }
   }
  },
  {
   "cell_type": "code",
   "execution_count": 153,
   "outputs": [
    {
     "data": {
      "text/plain": "[3, 4, 5, 7, 8, 11, 12, 17, 21, 22]"
     },
     "execution_count": 153,
     "metadata": {},
     "output_type": "execute_result"
    }
   ],
   "source": [
    "Recommend = list(X.index[correlation_movie_ID > 0.65])\n",
    "Recommend.remove(i)\n",
    "Recommend[0:10]"
   ],
   "metadata": {
    "collapsed": false,
    "pycharm": {
     "name": "#%%\n"
    }
   }
  },
  {
   "cell_type": "code",
   "execution_count": 154,
   "outputs": [
    {
     "data": {
      "text/plain": "    movie_id                          title release_date  video_release_date  \\\n2          3              Four Rooms (1995)  01-Jan-1995                 NaN   \n3          4              Get Shorty (1995)  01-Jan-1995                 NaN   \n4          5                 Copycat (1995)  01-Jan-1995                 NaN   \n6          7          Twelve Monkeys (1995)  01-Jan-1995                 NaN   \n7          8                    Babe (1995)  01-Jan-1995                 NaN   \n10        11           Seven (Se7en) (1995)  01-Jan-1995                 NaN   \n11        12     Usual Suspects, The (1995)  14-Aug-1995                 NaN   \n16        17     From Dusk Till Dawn (1996)  05-Feb-1996                 NaN   \n20        21  Muppet Treasure Island (1996)  16-Feb-1996                 NaN   \n21        22              Braveheart (1995)  16-Feb-1996                 NaN   \n\n                                             imdb_url  \n2   http://us.imdb.com/M/title-exact?Four%20Rooms%...  \n3   http://us.imdb.com/M/title-exact?Get%20Shorty%...  \n4   http://us.imdb.com/M/title-exact?Copycat%20(1995)  \n6   http://us.imdb.com/M/title-exact?Twelve%20Monk...  \n7      http://us.imdb.com/M/title-exact?Babe%20(1995)  \n10    http://us.imdb.com/M/title-exact?Se7en%20(1995)  \n11  http://us.imdb.com/M/title-exact?Usual%20Suspe...  \n16  http://us.imdb.com/M/title-exact?From%20Dusk%2...  \n20  http://us.imdb.com/M/title-exact?Muppet%20Trea...  \n21  http://us.imdb.com/M/title-exact?Braveheart%20...  ",
      "text/html": "<div>\n<style scoped>\n    .dataframe tbody tr th:only-of-type {\n        vertical-align: middle;\n    }\n\n    .dataframe tbody tr th {\n        vertical-align: top;\n    }\n\n    .dataframe thead th {\n        text-align: right;\n    }\n</style>\n<table border=\"1\" class=\"dataframe\">\n  <thead>\n    <tr style=\"text-align: right;\">\n      <th></th>\n      <th>movie_id</th>\n      <th>title</th>\n      <th>release_date</th>\n      <th>video_release_date</th>\n      <th>imdb_url</th>\n    </tr>\n  </thead>\n  <tbody>\n    <tr>\n      <th>2</th>\n      <td>3</td>\n      <td>Four Rooms (1995)</td>\n      <td>01-Jan-1995</td>\n      <td>NaN</td>\n      <td>http://us.imdb.com/M/title-exact?Four%20Rooms%...</td>\n    </tr>\n    <tr>\n      <th>3</th>\n      <td>4</td>\n      <td>Get Shorty (1995)</td>\n      <td>01-Jan-1995</td>\n      <td>NaN</td>\n      <td>http://us.imdb.com/M/title-exact?Get%20Shorty%...</td>\n    </tr>\n    <tr>\n      <th>4</th>\n      <td>5</td>\n      <td>Copycat (1995)</td>\n      <td>01-Jan-1995</td>\n      <td>NaN</td>\n      <td>http://us.imdb.com/M/title-exact?Copycat%20(1995)</td>\n    </tr>\n    <tr>\n      <th>6</th>\n      <td>7</td>\n      <td>Twelve Monkeys (1995)</td>\n      <td>01-Jan-1995</td>\n      <td>NaN</td>\n      <td>http://us.imdb.com/M/title-exact?Twelve%20Monk...</td>\n    </tr>\n    <tr>\n      <th>7</th>\n      <td>8</td>\n      <td>Babe (1995)</td>\n      <td>01-Jan-1995</td>\n      <td>NaN</td>\n      <td>http://us.imdb.com/M/title-exact?Babe%20(1995)</td>\n    </tr>\n    <tr>\n      <th>10</th>\n      <td>11</td>\n      <td>Seven (Se7en) (1995)</td>\n      <td>01-Jan-1995</td>\n      <td>NaN</td>\n      <td>http://us.imdb.com/M/title-exact?Se7en%20(1995)</td>\n    </tr>\n    <tr>\n      <th>11</th>\n      <td>12</td>\n      <td>Usual Suspects, The (1995)</td>\n      <td>14-Aug-1995</td>\n      <td>NaN</td>\n      <td>http://us.imdb.com/M/title-exact?Usual%20Suspe...</td>\n    </tr>\n    <tr>\n      <th>16</th>\n      <td>17</td>\n      <td>From Dusk Till Dawn (1996)</td>\n      <td>05-Feb-1996</td>\n      <td>NaN</td>\n      <td>http://us.imdb.com/M/title-exact?From%20Dusk%2...</td>\n    </tr>\n    <tr>\n      <th>20</th>\n      <td>21</td>\n      <td>Muppet Treasure Island (1996)</td>\n      <td>16-Feb-1996</td>\n      <td>NaN</td>\n      <td>http://us.imdb.com/M/title-exact?Muppet%20Trea...</td>\n    </tr>\n    <tr>\n      <th>21</th>\n      <td>22</td>\n      <td>Braveheart (1995)</td>\n      <td>16-Feb-1996</td>\n      <td>NaN</td>\n      <td>http://us.imdb.com/M/title-exact?Braveheart%20...</td>\n    </tr>\n  </tbody>\n</table>\n</div>"
     },
     "execution_count": 154,
     "metadata": {},
     "output_type": "execute_result"
    }
   ],
   "source": [
    "movies.query(f'movie_id == {[3, 4, 5, 7, 8, 11, 12, 17, 21, 22]}')"
   ],
   "metadata": {
    "collapsed": false,
    "pycharm": {
     "name": "#%%\n"
    }
   }
  }
 ],
 "metadata": {
  "kernelspec": {
   "display_name": "Python 3",
   "language": "python",
   "name": "python3"
  },
  "language_info": {
   "codemirror_mode": {
    "name": "ipython",
    "version": 2
   },
   "file_extension": ".py",
   "mimetype": "text/x-python",
   "name": "python",
   "nbconvert_exporter": "python",
   "pygments_lexer": "ipython2",
   "version": "2.7.6"
  }
 },
 "nbformat": 4,
 "nbformat_minor": 0
}