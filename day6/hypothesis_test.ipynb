{
 "cells": [
  {
   "cell_type": "markdown",
   "source": [
    "# I challenge you to download this [dataset](https://www.kaggle.com/datasets/zhangluyuan/ab-testing) and run a hypothesis test on it to validate if the new version of the site (with the recommender system) is better than the old one."
   ],
   "metadata": {
    "collapsed": false,
    "pycharm": {
     "name": "#%% md\n"
    }
   }
  },
  {
   "cell_type": "markdown",
   "source": [
    "# Before starting, thanks to the author of [this notebook](https://www.kaggle.com/code/yanadav/a-b-testing-new-version-of-a-site). Thanks."
   ],
   "metadata": {
    "collapsed": false,
    "pycharm": {
     "name": "#%% md\n"
    }
   }
  },
  {
   "cell_type": "markdown",
   "source": [
    "# Load libraries"
   ],
   "metadata": {
    "collapsed": false,
    "pycharm": {
     "name": "#%% md\n"
    }
   }
  },
  {
   "cell_type": "code",
   "execution_count": 1,
   "outputs": [],
   "source": [
    "import numpy as np\n",
    "import pandas as pd\n",
    "import scipy.stats as stats\n",
    "import statsmodels.stats.api as sms\n",
    "import matplotlib as mpl\n",
    "import matplotlib.pyplot as plt\n",
    "import seaborn as sns\n",
    "from math import ceil\n",
    "\n",
    "import warnings\n",
    "warnings.filterwarnings('ignore')\n",
    "\n",
    "%matplotlib inline\n",
    "\n",
    "sns.set_theme(style=\"whitegrid\", palette=\"muted\")\n",
    "plt.rc('patch', edgecolor='black')\n",
    "sns.set_context(\"notebook\", font_scale=1.3, rc={\"lines.linewidth\": 1.5})"
   ],
   "metadata": {
    "collapsed": false,
    "pycharm": {
     "name": "#%%\n"
    }
   }
  },
  {
   "cell_type": "markdown",
   "source": [
    "# Load data"
   ],
   "metadata": {
    "collapsed": false,
    "pycharm": {
     "name": "#%% md\n"
    }
   }
  },
  {
   "cell_type": "code",
   "execution_count": 2,
   "outputs": [
    {
     "data": {
      "text/plain": "        user_id                   timestamp      group landing_page  converted\n0        851104  2017-01-21 22:11:48.556739    control     old_page          0\n1        804228  2017-01-12 08:01:45.159739    control     old_page          0\n2        661590  2017-01-11 16:55:06.154213  treatment     new_page          0\n3        853541  2017-01-08 18:28:03.143765  treatment     new_page          0\n4        864975  2017-01-21 01:52:26.210827    control     old_page          1\n...         ...                         ...        ...          ...        ...\n294473   751197  2017-01-03 22:28:38.630509    control     old_page          0\n294474   945152  2017-01-12 00:51:57.078372    control     old_page          0\n294475   734608  2017-01-22 11:45:03.439544    control     old_page          0\n294476   697314  2017-01-15 01:20:28.957438    control     old_page          0\n294477   715931  2017-01-16 12:40:24.467417  treatment     new_page          0\n\n[294478 rows x 5 columns]",
      "text/html": "<div>\n<style scoped>\n    .dataframe tbody tr th:only-of-type {\n        vertical-align: middle;\n    }\n\n    .dataframe tbody tr th {\n        vertical-align: top;\n    }\n\n    .dataframe thead th {\n        text-align: right;\n    }\n</style>\n<table border=\"1\" class=\"dataframe\">\n  <thead>\n    <tr style=\"text-align: right;\">\n      <th></th>\n      <th>user_id</th>\n      <th>timestamp</th>\n      <th>group</th>\n      <th>landing_page</th>\n      <th>converted</th>\n    </tr>\n  </thead>\n  <tbody>\n    <tr>\n      <th>0</th>\n      <td>851104</td>\n      <td>2017-01-21 22:11:48.556739</td>\n      <td>control</td>\n      <td>old_page</td>\n      <td>0</td>\n    </tr>\n    <tr>\n      <th>1</th>\n      <td>804228</td>\n      <td>2017-01-12 08:01:45.159739</td>\n      <td>control</td>\n      <td>old_page</td>\n      <td>0</td>\n    </tr>\n    <tr>\n      <th>2</th>\n      <td>661590</td>\n      <td>2017-01-11 16:55:06.154213</td>\n      <td>treatment</td>\n      <td>new_page</td>\n      <td>0</td>\n    </tr>\n    <tr>\n      <th>3</th>\n      <td>853541</td>\n      <td>2017-01-08 18:28:03.143765</td>\n      <td>treatment</td>\n      <td>new_page</td>\n      <td>0</td>\n    </tr>\n    <tr>\n      <th>4</th>\n      <td>864975</td>\n      <td>2017-01-21 01:52:26.210827</td>\n      <td>control</td>\n      <td>old_page</td>\n      <td>1</td>\n    </tr>\n    <tr>\n      <th>...</th>\n      <td>...</td>\n      <td>...</td>\n      <td>...</td>\n      <td>...</td>\n      <td>...</td>\n    </tr>\n    <tr>\n      <th>294473</th>\n      <td>751197</td>\n      <td>2017-01-03 22:28:38.630509</td>\n      <td>control</td>\n      <td>old_page</td>\n      <td>0</td>\n    </tr>\n    <tr>\n      <th>294474</th>\n      <td>945152</td>\n      <td>2017-01-12 00:51:57.078372</td>\n      <td>control</td>\n      <td>old_page</td>\n      <td>0</td>\n    </tr>\n    <tr>\n      <th>294475</th>\n      <td>734608</td>\n      <td>2017-01-22 11:45:03.439544</td>\n      <td>control</td>\n      <td>old_page</td>\n      <td>0</td>\n    </tr>\n    <tr>\n      <th>294476</th>\n      <td>697314</td>\n      <td>2017-01-15 01:20:28.957438</td>\n      <td>control</td>\n      <td>old_page</td>\n      <td>0</td>\n    </tr>\n    <tr>\n      <th>294477</th>\n      <td>715931</td>\n      <td>2017-01-16 12:40:24.467417</td>\n      <td>treatment</td>\n      <td>new_page</td>\n      <td>0</td>\n    </tr>\n  </tbody>\n</table>\n<p>294478 rows × 5 columns</p>\n</div>"
     },
     "execution_count": 2,
     "metadata": {},
     "output_type": "execute_result"
    }
   ],
   "source": [
    "dataset = pd.read_csv('dataset/ab_data.csv', sep=',')\n",
    "dataset"
   ],
   "metadata": {
    "collapsed": false,
    "pycharm": {
     "name": "#%%\n"
    }
   }
  },
  {
   "cell_type": "code",
   "execution_count": 4,
   "outputs": [
    {
     "data": {
      "text/plain": "['user_id', 'timestamp', 'group', 'landing_page', 'converted']"
     },
     "execution_count": 4,
     "metadata": {},
     "output_type": "execute_result"
    }
   ],
   "source": [
    "dataset.columns.tolist()"
   ],
   "metadata": {
    "collapsed": false,
    "pycharm": {
     "name": "#%%\n"
    }
   }
  },
  {
   "cell_type": "markdown",
   "source": [
    "## We see, that there are 5 columns:\n",
    "\n",
    "- 'user_id' contains user ids\n",
    "- 'timestamp' is about when a session was\n",
    "- 'group' contains 2 variables: control and treatment\n",
    "- 'landing_page' is about what version of a site a user saw\n",
    "- 'converted' says us about user's behavior: if a user made a purchase (1) or not (0)"
   ],
   "metadata": {
    "collapsed": false,
    "pycharm": {
     "name": "#%% md\n"
    }
   }
  },
  {
   "cell_type": "markdown",
   "source": [
    "# Some statistics"
   ],
   "metadata": {
    "collapsed": false,
    "pycharm": {
     "name": "#%% md\n"
    }
   }
  },
  {
   "cell_type": "code",
   "execution_count": 5,
   "outputs": [
    {
     "data": {
      "text/plain": "             user_id      converted\ncount  294478.000000  294478.000000\nmean   787974.124733       0.119659\nstd     91210.823776       0.324563\nmin    630000.000000       0.000000\n25%    709032.250000       0.000000\n50%    787933.500000       0.000000\n75%    866911.750000       0.000000\nmax    945999.000000       1.000000",
      "text/html": "<div>\n<style scoped>\n    .dataframe tbody tr th:only-of-type {\n        vertical-align: middle;\n    }\n\n    .dataframe tbody tr th {\n        vertical-align: top;\n    }\n\n    .dataframe thead th {\n        text-align: right;\n    }\n</style>\n<table border=\"1\" class=\"dataframe\">\n  <thead>\n    <tr style=\"text-align: right;\">\n      <th></th>\n      <th>user_id</th>\n      <th>converted</th>\n    </tr>\n  </thead>\n  <tbody>\n    <tr>\n      <th>count</th>\n      <td>294478.000000</td>\n      <td>294478.000000</td>\n    </tr>\n    <tr>\n      <th>mean</th>\n      <td>787974.124733</td>\n      <td>0.119659</td>\n    </tr>\n    <tr>\n      <th>std</th>\n      <td>91210.823776</td>\n      <td>0.324563</td>\n    </tr>\n    <tr>\n      <th>min</th>\n      <td>630000.000000</td>\n      <td>0.000000</td>\n    </tr>\n    <tr>\n      <th>25%</th>\n      <td>709032.250000</td>\n      <td>0.000000</td>\n    </tr>\n    <tr>\n      <th>50%</th>\n      <td>787933.500000</td>\n      <td>0.000000</td>\n    </tr>\n    <tr>\n      <th>75%</th>\n      <td>866911.750000</td>\n      <td>0.000000</td>\n    </tr>\n    <tr>\n      <th>max</th>\n      <td>945999.000000</td>\n      <td>1.000000</td>\n    </tr>\n  </tbody>\n</table>\n</div>"
     },
     "execution_count": 5,
     "metadata": {},
     "output_type": "execute_result"
    }
   ],
   "source": [
    "dataset.describe()"
   ],
   "metadata": {
    "collapsed": false,
    "pycharm": {
     "name": "#%%\n"
    }
   }
  },
  {
   "cell_type": "code",
   "execution_count": 6,
   "outputs": [
    {
     "data": {
      "text/plain": "array([851104, 804228, 661590, ..., 734608, 697314, 715931])"
     },
     "execution_count": 6,
     "metadata": {},
     "output_type": "execute_result"
    }
   ],
   "source": [
    "dataset['user_id'].unique()"
   ],
   "metadata": {
    "collapsed": false,
    "pycharm": {
     "name": "#%%\n"
    }
   }
  },
  {
   "cell_type": "code",
   "execution_count": 7,
   "outputs": [
    {
     "data": {
      "text/plain": "treatment    147276\ncontrol      147202\nName: group, dtype: int64"
     },
     "execution_count": 7,
     "metadata": {},
     "output_type": "execute_result"
    }
   ],
   "source": [
    "dataset['group'].value_counts()"
   ],
   "metadata": {
    "collapsed": false,
    "pycharm": {
     "name": "#%%\n"
    }
   }
  },
  {
   "cell_type": "code",
   "execution_count": 8,
   "outputs": [
    {
     "data": {
      "text/plain": "old_page    147239\nnew_page    147239\nName: landing_page, dtype: int64"
     },
     "execution_count": 8,
     "metadata": {},
     "output_type": "execute_result"
    }
   ],
   "source": [
    "dataset['landing_page'].value_counts()"
   ],
   "metadata": {
    "collapsed": false,
    "pycharm": {
     "name": "#%%\n"
    }
   }
  },
  {
   "cell_type": "code",
   "execution_count": 9,
   "outputs": [
    {
     "data": {
      "text/plain": "0    259241\n1     35237\nName: converted, dtype: int64"
     },
     "execution_count": 9,
     "metadata": {},
     "output_type": "execute_result"
    }
   ],
   "source": [
    "dataset['converted'].value_counts()"
   ],
   "metadata": {
    "collapsed": false,
    "pycharm": {
     "name": "#%%\n"
    }
   }
  },
  {
   "cell_type": "code",
   "execution_count": 11,
   "outputs": [
    {
     "name": "stdout",
     "output_type": "stream",
     "text": [
      "<class 'pandas.core.frame.DataFrame'>\n",
      "RangeIndex: 294478 entries, 0 to 294477\n",
      "Data columns (total 5 columns):\n",
      " #   Column        Non-Null Count   Dtype \n",
      "---  ------        --------------   ----- \n",
      " 0   user_id       294478 non-null  int64 \n",
      " 1   timestamp     294478 non-null  object\n",
      " 2   group         294478 non-null  object\n",
      " 3   landing_page  294478 non-null  object\n",
      " 4   converted     294478 non-null  int64 \n",
      "dtypes: int64(2), object(3)\n",
      "memory usage: 11.2+ MB\n"
     ]
    }
   ],
   "source": [
    "dataset.info()"
   ],
   "metadata": {
    "collapsed": false,
    "pycharm": {
     "name": "#%%\n"
    }
   }
  },
  {
   "cell_type": "code",
   "execution_count": 12,
   "outputs": [
    {
     "data": {
      "text/plain": "user_id         290584\ntimestamp       294478\ngroup                2\nlanding_page         2\nconverted            2\ndtype: int64"
     },
     "execution_count": 12,
     "metadata": {},
     "output_type": "execute_result"
    }
   ],
   "source": [
    "dataset.nunique()"
   ],
   "metadata": {
    "collapsed": false,
    "pycharm": {
     "name": "#%%\n"
    }
   }
  },
  {
   "cell_type": "code",
   "execution_count": 13,
   "outputs": [
    {
     "data": {
      "text/plain": "user_id         0\ntimestamp       0\ngroup           0\nlanding_page    0\nconverted       0\ndtype: int64"
     },
     "execution_count": 13,
     "metadata": {},
     "output_type": "execute_result"
    }
   ],
   "source": [
    "dataset.isna().sum()"
   ],
   "metadata": {
    "collapsed": false,
    "pycharm": {
     "name": "#%%\n"
    }
   }
  },
  {
   "cell_type": "code",
   "execution_count": 14,
   "outputs": [
    {
     "data": {
      "text/plain": "landing_page  new_page  old_page\ngroup                           \ncontrol           1928    145274\ntreatment       145311      1965",
      "text/html": "<div>\n<style scoped>\n    .dataframe tbody tr th:only-of-type {\n        vertical-align: middle;\n    }\n\n    .dataframe tbody tr th {\n        vertical-align: top;\n    }\n\n    .dataframe thead th {\n        text-align: right;\n    }\n</style>\n<table border=\"1\" class=\"dataframe\">\n  <thead>\n    <tr style=\"text-align: right;\">\n      <th>landing_page</th>\n      <th>new_page</th>\n      <th>old_page</th>\n    </tr>\n    <tr>\n      <th>group</th>\n      <th></th>\n      <th></th>\n    </tr>\n  </thead>\n  <tbody>\n    <tr>\n      <th>control</th>\n      <td>1928</td>\n      <td>145274</td>\n    </tr>\n    <tr>\n      <th>treatment</th>\n      <td>145311</td>\n      <td>1965</td>\n    </tr>\n  </tbody>\n</table>\n</div>"
     },
     "execution_count": 14,
     "metadata": {},
     "output_type": "execute_result"
    }
   ],
   "source": [
    "pd.crosstab(dataset['group'], dataset['landing_page'])"
   ],
   "metadata": {
    "collapsed": false,
    "pycharm": {
     "name": "#%%\n"
    }
   }
  },
  {
   "cell_type": "markdown",
   "source": [
    "# Power analysis\n",
    "- To provide an analysis of an A/B-test, let assume, that the conversion (number of purchases/number of visits) in our company was 12%. We would like to increase this number to 14%. Therefore, we created A/B-test to ensure that a new version of a site will certainly increase the conversion.\n",
    "\n",
    "- To decide what number of people we need to prove/reject the hypothesis, we have to conduct a power analysis."
   ],
   "metadata": {
    "collapsed": false,
    "pycharm": {
     "name": "#%% md\n"
    }
   }
  },
  {
   "cell_type": "code",
   "execution_count": 15,
   "outputs": [
    {
     "data": {
      "text/plain": "5934"
     },
     "execution_count": 15,
     "metadata": {},
     "output_type": "execute_result"
    }
   ],
   "source": [
    "# Calculating effect size based on our expected rates\n",
    "effect_size = sms.proportion_effectsize(0.12, 0.14)\n",
    "\n",
    "# Calculating sample size needed\n",
    "required_n = sms.NormalIndPower().solve_power(\n",
    "    effect_size,\n",
    "    power=0.9,  #power of a test (defualt is 0.8)\n",
    "    alpha=0.05, #p-value\n",
    "    ratio=1\n",
    ")\n",
    "\n",
    "# Rounding up to next whole number\n",
    "required_n = ceil(required_n)\n",
    "required_n"
   ],
   "metadata": {
    "collapsed": false,
    "pycharm": {
     "name": "#%%\n"
    }
   }
  },
  {
   "cell_type": "markdown",
   "source": [
    "# Choosing users for each group"
   ],
   "metadata": {
    "collapsed": false,
    "pycharm": {
     "name": "#%% md\n"
    }
   }
  },
  {
   "cell_type": "code",
   "execution_count": 16,
   "outputs": [
    {
     "data": {
      "text/plain": "user_id      290584\ntimestamp    294478\ndtype: int64"
     },
     "execution_count": 16,
     "metadata": {},
     "output_type": "execute_result"
    }
   ],
   "source": [
    "dataset[['user_id', 'timestamp']].nunique()"
   ],
   "metadata": {
    "collapsed": false,
    "pycharm": {
     "name": "#%%\n"
    }
   }
  },
  {
   "cell_type": "code",
   "execution_count": 17,
   "outputs": [
    {
     "data": {
      "text/plain": "805339    2\n754884    2\n722274    2\n783176    2\n898232    2\n         ..\n642985    1\n771499    1\n923606    1\n712675    1\n715931    1\nName: user_id, Length: 290584, dtype: int64"
     },
     "execution_count": 17,
     "metadata": {},
     "output_type": "execute_result"
    }
   ],
   "source": [
    "dataset.user_id.value_counts()"
   ],
   "metadata": {
    "collapsed": false,
    "pycharm": {
     "name": "#%%\n"
    }
   }
  },
  {
   "cell_type": "markdown",
   "source": [
    "## Some of the users occur in the dataset more than once. As we have 294478 rows and we need only 10268 of them, let's simply drop the doubles."
   ],
   "metadata": {
    "collapsed": false,
    "pycharm": {
     "name": "#%% md\n"
    }
   }
  },
  {
   "cell_type": "code",
   "execution_count": 19,
   "outputs": [
    {
     "data": {
      "text/plain": "Int64Index([805339, 754884, 722274, 783176, 898232, 899018, 904570, 842042,\n            881123, 858720,\n            ...\n            721188, 902463, 713355, 827417, 655283, 847058, 889392, 664150,\n            835401, 736955],\n           dtype='int64', length=3894)"
     },
     "execution_count": 19,
     "metadata": {},
     "output_type": "execute_result"
    }
   ],
   "source": [
    "session_counts = dataset.user_id.value_counts()\n",
    "double_users = session_counts[session_counts>1].index\n",
    "double_users"
   ],
   "metadata": {
    "collapsed": false,
    "pycharm": {
     "name": "#%%\n"
    }
   }
  },
  {
   "cell_type": "code",
   "execution_count": 20,
   "outputs": [
    {
     "data": {
      "text/plain": "False    286690\nTrue       7788\nName: user_id, dtype: int64"
     },
     "execution_count": 20,
     "metadata": {},
     "output_type": "execute_result"
    }
   ],
   "source": [
    "dataset['user_id'].isin(double_users).value_counts()"
   ],
   "metadata": {
    "collapsed": false,
    "pycharm": {
     "name": "#%%\n"
    }
   }
  },
  {
   "cell_type": "code",
   "execution_count": 21,
   "outputs": [
    {
     "data": {
      "text/plain": "(286690, 5)"
     },
     "execution_count": 21,
     "metadata": {},
     "output_type": "execute_result"
    }
   ],
   "source": [
    "dataset = dataset[~dataset['user_id'].isin(double_users)]\n",
    "dataset.shape"
   ],
   "metadata": {
    "collapsed": false,
    "pycharm": {
     "name": "#%%\n"
    }
   }
  },
  {
   "cell_type": "code",
   "execution_count": 22,
   "outputs": [],
   "source": [
    "control_group = dataset.query('group == \"control\"').sample(required_n)\n",
    "treatment_group = dataset.query('group == \"treatment\"').sample(required_n)"
   ],
   "metadata": {
    "collapsed": false,
    "pycharm": {
     "name": "#%%\n"
    }
   }
  },
  {
   "cell_type": "code",
   "execution_count": 23,
   "outputs": [
    {
     "data": {
      "text/plain": "        user_id                   timestamp    group landing_page  converted\n130236   701738  2017-01-14 05:45:11.165951  control     old_page          0\n7723     809664  2017-01-12 22:15:36.537145  control     old_page          0\n119314   855476  2017-01-22 06:26:06.097034  control     old_page          0\n178920   847236  2017-01-17 10:46:26.289276  control     old_page          0\n188385   923662  2017-01-13 09:04:07.987826  control     old_page          0",
      "text/html": "<div>\n<style scoped>\n    .dataframe tbody tr th:only-of-type {\n        vertical-align: middle;\n    }\n\n    .dataframe tbody tr th {\n        vertical-align: top;\n    }\n\n    .dataframe thead th {\n        text-align: right;\n    }\n</style>\n<table border=\"1\" class=\"dataframe\">\n  <thead>\n    <tr style=\"text-align: right;\">\n      <th></th>\n      <th>user_id</th>\n      <th>timestamp</th>\n      <th>group</th>\n      <th>landing_page</th>\n      <th>converted</th>\n    </tr>\n  </thead>\n  <tbody>\n    <tr>\n      <th>130236</th>\n      <td>701738</td>\n      <td>2017-01-14 05:45:11.165951</td>\n      <td>control</td>\n      <td>old_page</td>\n      <td>0</td>\n    </tr>\n    <tr>\n      <th>7723</th>\n      <td>809664</td>\n      <td>2017-01-12 22:15:36.537145</td>\n      <td>control</td>\n      <td>old_page</td>\n      <td>0</td>\n    </tr>\n    <tr>\n      <th>119314</th>\n      <td>855476</td>\n      <td>2017-01-22 06:26:06.097034</td>\n      <td>control</td>\n      <td>old_page</td>\n      <td>0</td>\n    </tr>\n    <tr>\n      <th>178920</th>\n      <td>847236</td>\n      <td>2017-01-17 10:46:26.289276</td>\n      <td>control</td>\n      <td>old_page</td>\n      <td>0</td>\n    </tr>\n    <tr>\n      <th>188385</th>\n      <td>923662</td>\n      <td>2017-01-13 09:04:07.987826</td>\n      <td>control</td>\n      <td>old_page</td>\n      <td>0</td>\n    </tr>\n  </tbody>\n</table>\n</div>"
     },
     "execution_count": 23,
     "metadata": {},
     "output_type": "execute_result"
    }
   ],
   "source": [
    "control_group.head()"
   ],
   "metadata": {
    "collapsed": false,
    "pycharm": {
     "name": "#%%\n"
    }
   }
  },
  {
   "cell_type": "code",
   "execution_count": 24,
   "outputs": [
    {
     "data": {
      "text/plain": "        user_id                   timestamp      group landing_page  converted\n137880   692471  2017-01-05 06:58:39.557223  treatment     new_page          1\n42053    649609  2017-01-17 04:43:52.481619  treatment     new_page          0\n85854    678074  2017-01-16 14:25:32.660533  treatment     new_page          0\n177273   637552  2017-01-08 05:34:55.229159  treatment     new_page          0\n184999   780713  2017-01-15 23:35:19.011584  treatment     new_page          0",
      "text/html": "<div>\n<style scoped>\n    .dataframe tbody tr th:only-of-type {\n        vertical-align: middle;\n    }\n\n    .dataframe tbody tr th {\n        vertical-align: top;\n    }\n\n    .dataframe thead th {\n        text-align: right;\n    }\n</style>\n<table border=\"1\" class=\"dataframe\">\n  <thead>\n    <tr style=\"text-align: right;\">\n      <th></th>\n      <th>user_id</th>\n      <th>timestamp</th>\n      <th>group</th>\n      <th>landing_page</th>\n      <th>converted</th>\n    </tr>\n  </thead>\n  <tbody>\n    <tr>\n      <th>137880</th>\n      <td>692471</td>\n      <td>2017-01-05 06:58:39.557223</td>\n      <td>treatment</td>\n      <td>new_page</td>\n      <td>1</td>\n    </tr>\n    <tr>\n      <th>42053</th>\n      <td>649609</td>\n      <td>2017-01-17 04:43:52.481619</td>\n      <td>treatment</td>\n      <td>new_page</td>\n      <td>0</td>\n    </tr>\n    <tr>\n      <th>85854</th>\n      <td>678074</td>\n      <td>2017-01-16 14:25:32.660533</td>\n      <td>treatment</td>\n      <td>new_page</td>\n      <td>0</td>\n    </tr>\n    <tr>\n      <th>177273</th>\n      <td>637552</td>\n      <td>2017-01-08 05:34:55.229159</td>\n      <td>treatment</td>\n      <td>new_page</td>\n      <td>0</td>\n    </tr>\n    <tr>\n      <th>184999</th>\n      <td>780713</td>\n      <td>2017-01-15 23:35:19.011584</td>\n      <td>treatment</td>\n      <td>new_page</td>\n      <td>0</td>\n    </tr>\n  </tbody>\n</table>\n</div>"
     },
     "execution_count": 24,
     "metadata": {},
     "output_type": "execute_result"
    }
   ],
   "source": [
    "treatment_group.head()"
   ],
   "metadata": {
    "collapsed": false,
    "pycharm": {
     "name": "#%%\n"
    }
   }
  },
  {
   "cell_type": "code",
   "execution_count": 25,
   "outputs": [
    {
     "data": {
      "text/plain": "   user_id                   timestamp    group landing_page  converted\n0   701738  2017-01-14 05:45:11.165951  control     old_page          0\n1   809664  2017-01-12 22:15:36.537145  control     old_page          0\n2   855476  2017-01-22 06:26:06.097034  control     old_page          0\n3   847236  2017-01-17 10:46:26.289276  control     old_page          0\n4   923662  2017-01-13 09:04:07.987826  control     old_page          0",
      "text/html": "<div>\n<style scoped>\n    .dataframe tbody tr th:only-of-type {\n        vertical-align: middle;\n    }\n\n    .dataframe tbody tr th {\n        vertical-align: top;\n    }\n\n    .dataframe thead th {\n        text-align: right;\n    }\n</style>\n<table border=\"1\" class=\"dataframe\">\n  <thead>\n    <tr style=\"text-align: right;\">\n      <th></th>\n      <th>user_id</th>\n      <th>timestamp</th>\n      <th>group</th>\n      <th>landing_page</th>\n      <th>converted</th>\n    </tr>\n  </thead>\n  <tbody>\n    <tr>\n      <th>0</th>\n      <td>701738</td>\n      <td>2017-01-14 05:45:11.165951</td>\n      <td>control</td>\n      <td>old_page</td>\n      <td>0</td>\n    </tr>\n    <tr>\n      <th>1</th>\n      <td>809664</td>\n      <td>2017-01-12 22:15:36.537145</td>\n      <td>control</td>\n      <td>old_page</td>\n      <td>0</td>\n    </tr>\n    <tr>\n      <th>2</th>\n      <td>855476</td>\n      <td>2017-01-22 06:26:06.097034</td>\n      <td>control</td>\n      <td>old_page</td>\n      <td>0</td>\n    </tr>\n    <tr>\n      <th>3</th>\n      <td>847236</td>\n      <td>2017-01-17 10:46:26.289276</td>\n      <td>control</td>\n      <td>old_page</td>\n      <td>0</td>\n    </tr>\n    <tr>\n      <th>4</th>\n      <td>923662</td>\n      <td>2017-01-13 09:04:07.987826</td>\n      <td>control</td>\n      <td>old_page</td>\n      <td>0</td>\n    </tr>\n  </tbody>\n</table>\n</div>"
     },
     "execution_count": 25,
     "metadata": {},
     "output_type": "execute_result"
    }
   ],
   "source": [
    "ab_test = pd.concat([control_group, treatment_group], axis=0)\n",
    "ab_test.reset_index(inplace=True, drop=True)\n",
    "ab_test.head()"
   ],
   "metadata": {
    "collapsed": false,
    "pycharm": {
     "name": "#%%\n"
    }
   }
  },
  {
   "cell_type": "code",
   "execution_count": 26,
   "outputs": [
    {
     "name": "stdout",
     "output_type": "stream",
     "text": [
      "<class 'pandas.core.frame.DataFrame'>\n",
      "RangeIndex: 11868 entries, 0 to 11867\n",
      "Data columns (total 5 columns):\n",
      " #   Column        Non-Null Count  Dtype \n",
      "---  ------        --------------  ----- \n",
      " 0   user_id       11868 non-null  int64 \n",
      " 1   timestamp     11868 non-null  object\n",
      " 2   group         11868 non-null  object\n",
      " 3   landing_page  11868 non-null  object\n",
      " 4   converted     11868 non-null  int64 \n",
      "dtypes: int64(2), object(3)\n",
      "memory usage: 463.7+ KB\n"
     ]
    }
   ],
   "source": [
    "ab_test.info()"
   ],
   "metadata": {
    "collapsed": false,
    "pycharm": {
     "name": "#%%\n"
    }
   }
  },
  {
   "cell_type": "code",
   "execution_count": 27,
   "outputs": [
    {
     "data": {
      "text/plain": "control      5934\ntreatment    5934\nName: group, dtype: int64"
     },
     "execution_count": 27,
     "metadata": {},
     "output_type": "execute_result"
    }
   ],
   "source": [
    "ab_test.group.value_counts()"
   ],
   "metadata": {
    "collapsed": false,
    "pycharm": {
     "name": "#%%\n"
    }
   }
  },
  {
   "cell_type": "code",
   "execution_count": 28,
   "outputs": [
    {
     "data": {
      "text/plain": "<pandas.io.formats.style.Styler at 0x7fdb0daaf6d0>",
      "text/html": "<style type=\"text/css\">\n</style>\n<table id=\"T_c297c\">\n  <thead>\n    <tr>\n      <th class=\"blank level0\" >&nbsp;</th>\n      <th id=\"T_c297c_level0_col0\" class=\"col_heading level0 col0\" >conversion_rate</th>\n      <th id=\"T_c297c_level0_col1\" class=\"col_heading level0 col1\" >std_deviation</th>\n      <th id=\"T_c297c_level0_col2\" class=\"col_heading level0 col2\" >std_error</th>\n    </tr>\n    <tr>\n      <th class=\"index_name level0\" >group</th>\n      <th class=\"blank col0\" >&nbsp;</th>\n      <th class=\"blank col1\" >&nbsp;</th>\n      <th class=\"blank col2\" >&nbsp;</th>\n    </tr>\n  </thead>\n  <tbody>\n    <tr>\n      <th id=\"T_c297c_level0_row0\" class=\"row_heading level0 row0\" >control</th>\n      <td id=\"T_c297c_row0_col0\" class=\"data row0 col0\" >0.119</td>\n      <td id=\"T_c297c_row0_col1\" class=\"data row0 col1\" >0.324</td>\n      <td id=\"T_c297c_row0_col2\" class=\"data row0 col2\" >0.004</td>\n    </tr>\n    <tr>\n      <th id=\"T_c297c_level0_row1\" class=\"row_heading level0 row1\" >treatment</th>\n      <td id=\"T_c297c_row1_col0\" class=\"data row1 col0\" >0.116</td>\n      <td id=\"T_c297c_row1_col1\" class=\"data row1 col1\" >0.320</td>\n      <td id=\"T_c297c_row1_col2\" class=\"data row1 col2\" >0.004</td>\n    </tr>\n  </tbody>\n</table>\n"
     },
     "execution_count": 28,
     "metadata": {},
     "output_type": "execute_result"
    }
   ],
   "source": [
    "conversion_rates = ab_test.groupby('group')['converted']\n",
    "\n",
    "# Std. deviation of the proportion\n",
    "std_p = lambda x: np.std(x, ddof=1)\n",
    "\n",
    "# Std. error of the proportion (std / sqrt(n))\n",
    "se_p = lambda x: stats.sem(x, ddof=1)\n",
    "\n",
    "conversion_rates = conversion_rates.agg([np.mean, std_p, se_p])\n",
    "conversion_rates.columns = ['conversion_rate', 'std_deviation', 'std_error']\n",
    "\n",
    "conversion_rates.style.format('{:.3f}')"
   ],
   "metadata": {
    "collapsed": false,
    "pycharm": {
     "name": "#%%\n"
    }
   }
  },
  {
   "cell_type": "markdown",
   "source": [
    "## The control group shows us 12.1% conversion rate and the treatment group 12.4% conversion rate.\n",
    "\n"
   ],
   "metadata": {
    "collapsed": false,
    "pycharm": {
     "name": "#%% md\n"
    }
   }
  },
  {
   "cell_type": "code",
   "execution_count": 29,
   "outputs": [
    {
     "data": {
      "text/plain": "<Figure size 432x288 with 1 Axes>",
      "image/png": "[encoded data removed]"
     },
     "metadata": {},
     "output_type": "display_data"
    }
   ],
   "source": [
    "sns.barplot(x=ab_test['group'], y=ab_test['converted'], ci=False)\n",
    "\n",
    "plt.ylim(0, 0.15)\n",
    "plt.title('Conversion rate by group', pad=20)\n",
    "plt.xlabel('Group', labelpad=15)\n",
    "plt.ylabel('Converted (proportion)', labelpad=15);"
   ],
   "metadata": {
    "collapsed": false,
    "pycharm": {
     "name": "#%%\n"
    }
   }
  },
  {
   "cell_type": "markdown",
   "source": [
    "## So, we see a light improvement. Let's decide whether this difference is statistically significant."
   ],
   "metadata": {
    "collapsed": false,
    "pycharm": {
     "name": "#%% md\n"
    }
   }
  },
  {
   "cell_type": "markdown",
   "source": [
    "# Z-test and confidence intervals"
   ],
   "metadata": {
    "collapsed": false,
    "pycharm": {
     "name": "#%% md\n"
    }
   }
  },
  {
   "cell_type": "code",
   "execution_count": 30,
   "outputs": [],
   "source": [
    "from statsmodels.stats.proportion import proportions_ztest, proportion_confint"
   ],
   "metadata": {
    "collapsed": false,
    "pycharm": {
     "name": "#%%\n"
    }
   }
  },
  {
   "cell_type": "code",
   "execution_count": 31,
   "outputs": [],
   "source": [
    "control_conversion = ab_test.query('group == \"control\"')['converted']\n",
    "treatment_conversion = ab_test.query('group == \"treatment\"')['converted']"
   ],
   "metadata": {
    "collapsed": false,
    "pycharm": {
     "name": "#%%\n"
    }
   }
  },
  {
   "cell_type": "code",
   "execution_count": 32,
   "outputs": [
    {
     "name": "stdout",
     "output_type": "stream",
     "text": [
      "z statistic: 0.60\n",
      "p-value: 0.550\n",
      "95% Confidence interval for control group: [0.111, 0.128]\n",
      "95% Confidence interval for treatment group: [0.108, 0.124]\n"
     ]
    }
   ],
   "source": [
    "nobs = [control_conversion.count(), treatment_conversion.count()]\n",
    "successes = [control_conversion.sum(), treatment_conversion.sum()]\n",
    "\n",
    "z_stat, pval = proportions_ztest(\n",
    "    successes, nobs=nobs\n",
    ")\n",
    "(lower_con, lower_treat), (upper_con, upper_treat) = proportion_confint(successes, nobs=nobs, alpha=0.05)\n",
    "\n",
    "print(f'z statistic: {z_stat:.2f}')\n",
    "print(f'p-value: {pval:.3f}')\n",
    "print(f'95% Confidence interval for control group: [{lower_con:.3f}, {upper_con:.3f}]')\n",
    "print(f'95% Confidence interval for treatment group: [{lower_treat:.3f}, {upper_treat:.3f}]')"
   ],
   "metadata": {
    "collapsed": false,
    "pycharm": {
     "name": "#%%\n"
    }
   }
  },
  {
   "cell_type": "markdown",
   "source": [
    "## Despite the fact, that from the first sight the conversation rate of the treatment group seemed to be slightly higher, p-value>0.05 --> we cannot accept the alternative hypothesis. Besides, the confident intervals include our baseline value of 12% conversion rate.\n",
    "\n",
    "## Therefore, this new version of the site cannot increase conversion significantly. With the results of the A/B-test we came to conclusion, that it makes no sense for the company to introduce a new version of the site."
   ],
   "metadata": {
    "collapsed": false,
    "pycharm": {
     "name": "#%% md\n"
    }
   }
  }
 ],
 "metadata": {
  "kernelspec": {
   "display_name": "Python 3",
   "language": "python",
   "name": "python3"
  },
  "language_info": {
   "codemirror_mode": {
    "name": "ipython",
    "version": 2
   },
   "file_extension": ".py",
   "mimetype": "text/x-python",
   "name": "python",
   "nbconvert_exporter": "python",
   "pygments_lexer": "ipython2",
   "version": "2.7.6"
  }
 },
 "nbformat": 4,
 "nbformat_minor": 0
}