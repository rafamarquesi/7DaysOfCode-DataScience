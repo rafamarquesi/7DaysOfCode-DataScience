{
 "cells": [
  {
   "cell_type": "markdown",
   "source": [
    "# Day 1 - Download a dataset from the [**CEAPS**](https://encr.pw/evzZb) portal (**Quota for the Exercise of the Parliamentary Activity of Senators**) and apply data processing and cleaning processes to it (a process known as Data Wrangling)."
   ],
   "metadata": {
    "collapsed": false,
    "pycharm": {
     "name": "#%% md\n"
    }
   }
  },
  {
   "cell_type": "markdown",
   "source": [
    "## Possible treatments:\n",
    "- Null values;\n",
    "- Duplicates;\n",
    "- Converting date fields being loaded as text;\n",
    "- Correcting monetary values;\n",
    "- Incorrect names;\n",
    "- Formatting CNPJ/CPF fields."
   ],
   "metadata": {
    "collapsed": false,
    "pycharm": {
     "name": "#%% md\n"
    }
   }
  },
  {
   "cell_type": "markdown",
   "source": [
    "## [Tips on data cleaning techniques](https://encr.pw/rddsv)"
   ],
   "metadata": {
    "collapsed": false,
    "pycharm": {
     "name": "#%% md\n"
    }
   }
  },
  {
   "cell_type": "markdown",
   "source": [
    "# Dataset  - Downloads"
   ],
   "metadata": {
    "collapsed": false,
    "pycharm": {
     "name": "#%% md\n"
    }
   }
  },
  {
   "cell_type": "markdown",
   "source": [
    "## For this work, the following dataset was used:\n",
    "- despesa_ceaps_2022.csv;\n",
    "- despesa_ceaps_2021.csv;\n",
    "- despesa_ceaps_2020.csv;\n",
    "- despesa_ceaps_2019.csv."
   ],
   "metadata": {
    "collapsed": false,
    "pycharm": {
     "name": "#%% md\n"
    }
   }
  },
  {
   "cell_type": "markdown",
   "source": [
    "# Import libraries"
   ],
   "metadata": {
    "collapsed": false,
    "pycharm": {
     "name": "#%% md\n"
    }
   }
  },
  {
   "cell_type": "code",
   "execution_count": 5,
   "outputs": [],
   "source": [
    "import pandas as pd\n",
    "import numpy as np"
   ],
   "metadata": {
    "collapsed": false,
    "pycharm": {
     "name": "#%%\n"
    }
   }
  },
  {
   "cell_type": "markdown",
   "source": [
    "# Load datasets"
   ],
   "metadata": {
    "collapsed": false,
    "pycharm": {
     "name": "#%% md\n"
    }
   }
  },
  {
   "cell_type": "code",
   "execution_count": 10,
   "outputs": [],
   "source": [
    "dataset_1 = pd.read_csv('datasets/despesa_ceaps_2019.csv', encoding='iso-8859-1', sep=';', skiprows=1)"
   ],
   "metadata": {
    "collapsed": false,
    "pycharm": {
     "name": "#%%\n"
    }
   }
  },
  {
   "cell_type": "code",
   "execution_count": 11,
   "outputs": [
    {
     "data": {
      "text/plain": "        ANO  MES        SENADOR  \\\n0      2019    1   ACIR GURGACZ   \n1      2019    1   ACIR GURGACZ   \n2      2019    1   ACIR GURGACZ   \n3      2019    1   ACIR GURGACZ   \n4      2019    2   ACIR GURGACZ   \n...     ...  ...            ...   \n21629  2019    1  ZEZÉ PERRELLA   \n21630  2019    1  ZEZÉ PERRELLA   \n21631  2019    1  ZEZÉ PERRELLA   \n21632  2019    1  ZEZÉ PERRELLA   \n21633  2019    1  ZEZÉ PERRELLA   \n\n                                            TIPO_DESPESA            CNPJ_CPF  \\\n0      Aluguel de imóveis para escritório político, c...  05.914.650/0001-66   \n1      Aluguel de imóveis para escritório político, c...  05.914.650/0001-66   \n2      Aluguel de imóveis para escritório político, c...      004.948.028-63   \n3      Aluguel de imóveis para escritório político, c...  05.423.963/0001-11   \n4      Aluguel de imóveis para escritório político, c...  05.914.650/0001-66   \n...                                                  ...                 ...   \n21629  Passagens aéreas, aquáticas e terrestres nacio...  09.296.295/0001-60   \n21630  Passagens aéreas, aquáticas e terrestres nacio...  09.296.295/0001-60   \n21631  Passagens aéreas, aquáticas e terrestres nacio...  07.575.651/0001-59   \n21632  Passagens aéreas, aquáticas e terrestres nacio...  33.937.681/0001-78   \n21633  Passagens aéreas, aquáticas e terrestres nacio...  33.937.681/0001-78   \n\n                          FORNECEDOR  DOCUMENTO        DATA  \\\n0                           ENERGISA  006582758  04/01/2019   \n1                           ENERGISA  006582755  04/01/2019   \n2      GILBERTO PISELO DO NASCIMENTO      00119  07/01/2019   \n3                      OI MÓVEL S.A.   86161151  25/12/2018   \n4                           ENERGISA  007236036  04/02/2019   \n...                              ...        ...         ...   \n21629                           Azul     O954UL  19/01/2019   \n21630                           Azul     G9Z36V  24/01/2019   \n21631                            GOL     WNQI4A  29/01/2019   \n21632                          LATAM     NCCPIM  23/01/2019   \n21633                          LATAM     MEYLWB  26/01/2019   \n\n                                            DETALHAMENTO VALOR_REEMBOLSADO  \\\n0      Despesa com pagamento de energia elétrica do e...             66,02   \n1      Despesa com pagamento de energia elétrica do e...            139,98   \n2      Despesa com pagamento de aluguel de imóvel par...              6000   \n3      Despesa com pagamento de telefonia para o escr...            316,39   \n4      Despesa com pagamento de energia elétrica para...             99,45   \n...                                                  ...               ...   \n21629  Companhia Aérea: AZUL, Localizador: O954UL. Pa...            769,29   \n21630  Companhia Aérea: AZUL, Localizador: G9Z36V. Pa...            310,62   \n21631  Companhia Aérea: GOL, Localizador: WNQI4A. Pas...            1168,1   \n21632  Companhia Aérea: LATAM, Localizador: NCCPIM. P...            772,05   \n21633  Companhia Aérea: LATAM, Localizador: MEYLWB. P...           1755,17   \n\n       COD_DOCUMENTO  \n0            2116543  \n1            2116546  \n2            2113817  \n3            2116541  \n4            2116550  \n...              ...  \n21629        2113825  \n21630        2113828  \n21631        2114101  \n21632        2113826  \n21633        2113830  \n\n[21634 rows x 11 columns]",
      "text/html": "<div>\n<style scoped>\n    .dataframe tbody tr th:only-of-type {\n        vertical-align: middle;\n    }\n\n    .dataframe tbody tr th {\n        vertical-align: top;\n    }\n\n    .dataframe thead th {\n        text-align: right;\n    }\n</style>\n<table border=\"1\" class=\"dataframe\">\n  <thead>\n    <tr style=\"text-align: right;\">\n      <th></th>\n      <th>ANO</th>\n      <th>MES</th>\n      <th>SENADOR</th>\n      <th>TIPO_DESPESA</th>\n      <th>CNPJ_CPF</th>\n      <th>FORNECEDOR</th>\n      <th>DOCUMENTO</th>\n      <th>DATA</th>\n      <th>DETALHAMENTO</th>\n      <th>VALOR_REEMBOLSADO</th>\n      <th>COD_DOCUMENTO</th>\n    </tr>\n  </thead>\n  <tbody>\n    <tr>\n      <th>0</th>\n      <td>2019</td>\n      <td>1</td>\n      <td>ACIR GURGACZ</td>\n      <td>Aluguel de imóveis para escritório político, c...</td>\n      <td>05.914.650/0001-66</td>\n      <td>ENERGISA</td>\n      <td>006582758</td>\n      <td>04/01/2019</td>\n      <td>Despesa com pagamento de energia elétrica do e...</td>\n      <td>66,02</td>\n      <td>2116543</td>\n    </tr>\n    <tr>\n      <th>1</th>\n      <td>2019</td>\n      <td>1</td>\n      <td>ACIR GURGACZ</td>\n      <td>Aluguel de imóveis para escritório político, c...</td>\n      <td>05.914.650/0001-66</td>\n      <td>ENERGISA</td>\n      <td>006582755</td>\n      <td>04/01/2019</td>\n      <td>Despesa com pagamento de energia elétrica do e...</td>\n      <td>139,98</td>\n      <td>2116546</td>\n    </tr>\n    <tr>\n      <th>2</th>\n      <td>2019</td>\n      <td>1</td>\n      <td>ACIR GURGACZ</td>\n      <td>Aluguel de imóveis para escritório político, c...</td>\n      <td>004.948.028-63</td>\n      <td>GILBERTO PISELO DO NASCIMENTO</td>\n      <td>00119</td>\n      <td>07/01/2019</td>\n      <td>Despesa com pagamento de aluguel de imóvel par...</td>\n      <td>6000</td>\n      <td>2113817</td>\n    </tr>\n    <tr>\n      <th>3</th>\n      <td>2019</td>\n      <td>1</td>\n      <td>ACIR GURGACZ</td>\n      <td>Aluguel de imóveis para escritório político, c...</td>\n      <td>05.423.963/0001-11</td>\n      <td>OI MÓVEL S.A.</td>\n      <td>86161151</td>\n      <td>25/12/2018</td>\n      <td>Despesa com pagamento de telefonia para o escr...</td>\n      <td>316,39</td>\n      <td>2116541</td>\n    </tr>\n    <tr>\n      <th>4</th>\n      <td>2019</td>\n      <td>2</td>\n      <td>ACIR GURGACZ</td>\n      <td>Aluguel de imóveis para escritório político, c...</td>\n      <td>05.914.650/0001-66</td>\n      <td>ENERGISA</td>\n      <td>007236036</td>\n      <td>04/02/2019</td>\n      <td>Despesa com pagamento de energia elétrica para...</td>\n      <td>99,45</td>\n      <td>2116550</td>\n    </tr>\n    <tr>\n      <th>...</th>\n      <td>...</td>\n      <td>...</td>\n      <td>...</td>\n      <td>...</td>\n      <td>...</td>\n      <td>...</td>\n      <td>...</td>\n      <td>...</td>\n      <td>...</td>\n      <td>...</td>\n      <td>...</td>\n    </tr>\n    <tr>\n      <th>21629</th>\n      <td>2019</td>\n      <td>1</td>\n      <td>ZEZÉ PERRELLA</td>\n      <td>Passagens aéreas, aquáticas e terrestres nacio...</td>\n      <td>09.296.295/0001-60</td>\n      <td>Azul</td>\n      <td>O954UL</td>\n      <td>19/01/2019</td>\n      <td>Companhia Aérea: AZUL, Localizador: O954UL. Pa...</td>\n      <td>769,29</td>\n      <td>2113825</td>\n    </tr>\n    <tr>\n      <th>21630</th>\n      <td>2019</td>\n      <td>1</td>\n      <td>ZEZÉ PERRELLA</td>\n      <td>Passagens aéreas, aquáticas e terrestres nacio...</td>\n      <td>09.296.295/0001-60</td>\n      <td>Azul</td>\n      <td>G9Z36V</td>\n      <td>24/01/2019</td>\n      <td>Companhia Aérea: AZUL, Localizador: G9Z36V. Pa...</td>\n      <td>310,62</td>\n      <td>2113828</td>\n    </tr>\n    <tr>\n      <th>21631</th>\n      <td>2019</td>\n      <td>1</td>\n      <td>ZEZÉ PERRELLA</td>\n      <td>Passagens aéreas, aquáticas e terrestres nacio...</td>\n      <td>07.575.651/0001-59</td>\n      <td>GOL</td>\n      <td>WNQI4A</td>\n      <td>29/01/2019</td>\n      <td>Companhia Aérea: GOL, Localizador: WNQI4A. Pas...</td>\n      <td>1168,1</td>\n      <td>2114101</td>\n    </tr>\n    <tr>\n      <th>21632</th>\n      <td>2019</td>\n      <td>1</td>\n      <td>ZEZÉ PERRELLA</td>\n      <td>Passagens aéreas, aquáticas e terrestres nacio...</td>\n      <td>33.937.681/0001-78</td>\n      <td>LATAM</td>\n      <td>NCCPIM</td>\n      <td>23/01/2019</td>\n      <td>Companhia Aérea: LATAM, Localizador: NCCPIM. P...</td>\n      <td>772,05</td>\n      <td>2113826</td>\n    </tr>\n    <tr>\n      <th>21633</th>\n      <td>2019</td>\n      <td>1</td>\n      <td>ZEZÉ PERRELLA</td>\n      <td>Passagens aéreas, aquáticas e terrestres nacio...</td>\n      <td>33.937.681/0001-78</td>\n      <td>LATAM</td>\n      <td>MEYLWB</td>\n      <td>26/01/2019</td>\n      <td>Companhia Aérea: LATAM, Localizador: MEYLWB. P...</td>\n      <td>1755,17</td>\n      <td>2113830</td>\n    </tr>\n  </tbody>\n</table>\n<p>21634 rows × 11 columns</p>\n</div>"
     },
     "execution_count": 11,
     "metadata": {},
     "output_type": "execute_result"
    }
   ],
   "source": [
    "dataset_1"
   ],
   "metadata": {
    "collapsed": false,
    "pycharm": {
     "name": "#%%\n"
    }
   }
  },
  {
   "cell_type": "code",
   "execution_count": 12,
   "outputs": [],
   "source": [
    "dataset_2 = pd.read_csv('datasets/despesa_ceaps_2020.csv', encoding='iso-8859-1', sep=';', skiprows=1)"
   ],
   "metadata": {
    "collapsed": false,
    "pycharm": {
     "name": "#%%\n"
    }
   }
  },
  {
   "cell_type": "code",
   "execution_count": 13,
   "outputs": [
    {
     "data": {
      "text/plain": "        ANO  MES           SENADOR  \\\n0      2020    1      ACIR GURGACZ   \n1      2020    1      ACIR GURGACZ   \n2      2020    1      ACIR GURGACZ   \n3      2020    1      ACIR GURGACZ   \n4      2020    1      ACIR GURGACZ   \n...     ...  ...               ...   \n14085  2020   12  ZEQUINHA MARINHO   \n14086  2020   12  ZEQUINHA MARINHO   \n14087  2020   12  ZEQUINHA MARINHO   \n14088  2020   12  ZEQUINHA MARINHO   \n14089  2020   12  ZEQUINHA MARINHO   \n\n                                            TIPO_DESPESA            CNPJ_CPF  \\\n0      Aluguel de imóveis para escritório político, c...  05.914.650/0001-66   \n1      Aluguel de imóveis para escritório político, c...  05.914.650/0001-66   \n2      Aluguel de imóveis para escritório político, c...      062.135.728-64   \n3      Aluguel de imóveis para escritório político, c...      004.948.028-63   \n4      Aluguel de imóveis para escritório político, c...  05.423.963/0001-11   \n...                                                  ...                 ...   \n14085  Passagens aéreas, aquáticas e terrestres nacio...  22.052.777/0001-32   \n14086  Passagens aéreas, aquáticas e terrestres nacio...  22.052.777/0001-32   \n14087  Passagens aéreas, aquáticas e terrestres nacio...  22.052.777/0001-32   \n14088  Passagens aéreas, aquáticas e terrestres nacio...  22.052.777/0001-32   \n14089  Passagens aéreas, aquáticas e terrestres nacio...  22.052.777/0001-32   \n\n                                              FORNECEDOR  DOCUMENTO  \\\n0                                               ENERGISA   14764742   \n1                                               ENERGISA   14764741   \n2      FERNANDO WALDEIR PACINI e ANA LUCIA DA SILVA S...   001/2020   \n3                          GILBERTO PISELO DO NASCIMENTO     001/20   \n4                                          OI MÓVEL S.A.  333871612   \n...                                                  ...        ...   \n14085                                      Exceller Tour     TJ9NGF   \n14086                                      Exceller Tour     QN9KHE   \n14087                                      Exceller Tour     QIGVKT   \n14088                                      Exceller Tour     QDHKYF   \n14089                                      Exceller Tour     BQWCVK   \n\n             DATA                                       DETALHAMENTO  \\\n0      06/01/2020  Despesa com energia elétrica para uso do escri...   \n1      06/01/2020  Despesa com energia elétrica para uso do escri...   \n2      06/01/2020  Despesa com pagamento de aluguel de imóvel par...   \n3      02/01/2020  Despesa com pagamento de aluguel de imóvel par...   \n4      25/12/2019  Despesa com pagamento de telefone para uso do ...   \n...           ...                                                ...   \n14085  08/12/2020  Companhia Aérea: GOL, Localizador: TJ9NGF. Pas...   \n14086  09/12/2020  Companhia Aérea: AZUL, Localizador: QN9KHE. Pa...   \n14087  14/12/2020  Companhia Aérea: AZUL, Localizador: QIGVKT. Pa...   \n14088  14/12/2020  Companhia Aérea: AZUL, Localizador: QDHKYF. Pa...   \n14089  18/12/2020  Companhia Aérea: GOL, Localizador: BQWCVK. Pas...   \n\n      VALOR_REEMBOLSADO  COD_DOCUMENTO  \n0                122,62        2141820  \n1                137,75        2141818  \n2                  1000        2139025  \n3                  6000        2139020  \n4                323,95        2139044  \n...                 ...            ...  \n14085           1654,46        2152858  \n14086           1121,83        2152859  \n14087            549,47        2153157  \n14088            831,05        2153152  \n14089           2026,12        2153557  \n\n[14090 rows x 11 columns]",
      "text/html": "<div>\n<style scoped>\n    .dataframe tbody tr th:only-of-type {\n        vertical-align: middle;\n    }\n\n    .dataframe tbody tr th {\n        vertical-align: top;\n    }\n\n    .dataframe thead th {\n        text-align: right;\n    }\n</style>\n<table border=\"1\" class=\"dataframe\">\n  <thead>\n    <tr style=\"text-align: right;\">\n      <th></th>\n      <th>ANO</th>\n      <th>MES</th>\n      <th>SENADOR</th>\n      <th>TIPO_DESPESA</th>\n      <th>CNPJ_CPF</th>\n      <th>FORNECEDOR</th>\n      <th>DOCUMENTO</th>\n      <th>DATA</th>\n      <th>DETALHAMENTO</th>\n      <th>VALOR_REEMBOLSADO</th>\n      <th>COD_DOCUMENTO</th>\n    </tr>\n  </thead>\n  <tbody>\n    <tr>\n      <th>0</th>\n      <td>2020</td>\n      <td>1</td>\n      <td>ACIR GURGACZ</td>\n      <td>Aluguel de imóveis para escritório político, c...</td>\n      <td>05.914.650/0001-66</td>\n      <td>ENERGISA</td>\n      <td>14764742</td>\n      <td>06/01/2020</td>\n      <td>Despesa com energia elétrica para uso do escri...</td>\n      <td>122,62</td>\n      <td>2141820</td>\n    </tr>\n    <tr>\n      <th>1</th>\n      <td>2020</td>\n      <td>1</td>\n      <td>ACIR GURGACZ</td>\n      <td>Aluguel de imóveis para escritório político, c...</td>\n      <td>05.914.650/0001-66</td>\n      <td>ENERGISA</td>\n      <td>14764741</td>\n      <td>06/01/2020</td>\n      <td>Despesa com energia elétrica para uso do escri...</td>\n      <td>137,75</td>\n      <td>2141818</td>\n    </tr>\n    <tr>\n      <th>2</th>\n      <td>2020</td>\n      <td>1</td>\n      <td>ACIR GURGACZ</td>\n      <td>Aluguel de imóveis para escritório político, c...</td>\n      <td>062.135.728-64</td>\n      <td>FERNANDO WALDEIR PACINI e ANA LUCIA DA SILVA S...</td>\n      <td>001/2020</td>\n      <td>06/01/2020</td>\n      <td>Despesa com pagamento de aluguel de imóvel par...</td>\n      <td>1000</td>\n      <td>2139025</td>\n    </tr>\n    <tr>\n      <th>3</th>\n      <td>2020</td>\n      <td>1</td>\n      <td>ACIR GURGACZ</td>\n      <td>Aluguel de imóveis para escritório político, c...</td>\n      <td>004.948.028-63</td>\n      <td>GILBERTO PISELO DO NASCIMENTO</td>\n      <td>001/20</td>\n      <td>02/01/2020</td>\n      <td>Despesa com pagamento de aluguel de imóvel par...</td>\n      <td>6000</td>\n      <td>2139020</td>\n    </tr>\n    <tr>\n      <th>4</th>\n      <td>2020</td>\n      <td>1</td>\n      <td>ACIR GURGACZ</td>\n      <td>Aluguel de imóveis para escritório político, c...</td>\n      <td>05.423.963/0001-11</td>\n      <td>OI MÓVEL S.A.</td>\n      <td>333871612</td>\n      <td>25/12/2019</td>\n      <td>Despesa com pagamento de telefone para uso do ...</td>\n      <td>323,95</td>\n      <td>2139044</td>\n    </tr>\n    <tr>\n      <th>...</th>\n      <td>...</td>\n      <td>...</td>\n      <td>...</td>\n      <td>...</td>\n      <td>...</td>\n      <td>...</td>\n      <td>...</td>\n      <td>...</td>\n      <td>...</td>\n      <td>...</td>\n      <td>...</td>\n    </tr>\n    <tr>\n      <th>14085</th>\n      <td>2020</td>\n      <td>12</td>\n      <td>ZEQUINHA MARINHO</td>\n      <td>Passagens aéreas, aquáticas e terrestres nacio...</td>\n      <td>22.052.777/0001-32</td>\n      <td>Exceller Tour</td>\n      <td>TJ9NGF</td>\n      <td>08/12/2020</td>\n      <td>Companhia Aérea: GOL, Localizador: TJ9NGF. Pas...</td>\n      <td>1654,46</td>\n      <td>2152858</td>\n    </tr>\n    <tr>\n      <th>14086</th>\n      <td>2020</td>\n      <td>12</td>\n      <td>ZEQUINHA MARINHO</td>\n      <td>Passagens aéreas, aquáticas e terrestres nacio...</td>\n      <td>22.052.777/0001-32</td>\n      <td>Exceller Tour</td>\n      <td>QN9KHE</td>\n      <td>09/12/2020</td>\n      <td>Companhia Aérea: AZUL, Localizador: QN9KHE. Pa...</td>\n      <td>1121,83</td>\n      <td>2152859</td>\n    </tr>\n    <tr>\n      <th>14087</th>\n      <td>2020</td>\n      <td>12</td>\n      <td>ZEQUINHA MARINHO</td>\n      <td>Passagens aéreas, aquáticas e terrestres nacio...</td>\n      <td>22.052.777/0001-32</td>\n      <td>Exceller Tour</td>\n      <td>QIGVKT</td>\n      <td>14/12/2020</td>\n      <td>Companhia Aérea: AZUL, Localizador: QIGVKT. Pa...</td>\n      <td>549,47</td>\n      <td>2153157</td>\n    </tr>\n    <tr>\n      <th>14088</th>\n      <td>2020</td>\n      <td>12</td>\n      <td>ZEQUINHA MARINHO</td>\n      <td>Passagens aéreas, aquáticas e terrestres nacio...</td>\n      <td>22.052.777/0001-32</td>\n      <td>Exceller Tour</td>\n      <td>QDHKYF</td>\n      <td>14/12/2020</td>\n      <td>Companhia Aérea: AZUL, Localizador: QDHKYF. Pa...</td>\n      <td>831,05</td>\n      <td>2153152</td>\n    </tr>\n    <tr>\n      <th>14089</th>\n      <td>2020</td>\n      <td>12</td>\n      <td>ZEQUINHA MARINHO</td>\n      <td>Passagens aéreas, aquáticas e terrestres nacio...</td>\n      <td>22.052.777/0001-32</td>\n      <td>Exceller Tour</td>\n      <td>BQWCVK</td>\n      <td>18/12/2020</td>\n      <td>Companhia Aérea: GOL, Localizador: BQWCVK. Pas...</td>\n      <td>2026,12</td>\n      <td>2153557</td>\n    </tr>\n  </tbody>\n</table>\n<p>14090 rows × 11 columns</p>\n</div>"
     },
     "execution_count": 13,
     "metadata": {},
     "output_type": "execute_result"
    }
   ],
   "source": [
    "dataset_2"
   ],
   "metadata": {
    "collapsed": false,
    "pycharm": {
     "name": "#%%\n"
    }
   }
  },
  {
   "cell_type": "code",
   "execution_count": 14,
   "outputs": [],
   "source": [
    "dataset_3 = pd.read_csv('datasets/despesa_ceaps_2021.csv', encoding='iso-8859-1', sep=';', skiprows=1)"
   ],
   "metadata": {
    "collapsed": false,
    "pycharm": {
     "name": "#%%\n"
    }
   }
  },
  {
   "cell_type": "code",
   "execution_count": 15,
   "outputs": [
    {
     "data": {
      "text/plain": "        ANO  MES           SENADOR  \\\n0      2021    1      ACIR GURGACZ   \n1      2021    1      ACIR GURGACZ   \n2      2021    1      ACIR GURGACZ   \n3      2021    1      ACIR GURGACZ   \n4      2021    1      ACIR GURGACZ   \n...     ...  ...               ...   \n16803  2021   12  ZEQUINHA MARINHO   \n16804  2021   12  ZEQUINHA MARINHO   \n16805  2021   12  ZEQUINHA MARINHO   \n16806  2021   12  ZEQUINHA MARINHO   \n16807  2021   12  ZEQUINHA MARINHO   \n\n                                            TIPO_DESPESA            CNPJ_CPF  \\\n0      Aluguel de imóveis para escritório político, c...  05.914.650/0001-66   \n1      Aluguel de imóveis para escritório político, c...      062.135.728-64   \n2      Aluguel de imóveis para escritório político, c...      004.948.028-63   \n3                    Divulgação da atividade parlamentar  26.320.603/0001-64   \n4                    Divulgação da atividade parlamentar  13.659.201/0001-47   \n...                                                  ...                 ...   \n16803  Passagens aéreas, aquáticas e terrestres nacio...  22.052.777/0001-32   \n16804  Passagens aéreas, aquáticas e terrestres nacio...  22.052.777/0001-32   \n16805  Passagens aéreas, aquáticas e terrestres nacio...  22.052.777/0001-32   \n16806  Passagens aéreas, aquáticas e terrestres nacio...  22.052.777/0001-32   \n16807  Passagens aéreas, aquáticas e terrestres nacio...  22.052.777/0001-32   \n\n                                              FORNECEDOR    DOCUMENTO  \\\n0                                               ENERGISA  023.489.627   \n1      FERNANDO WALDEIR PACINI e ANA LUCIA DA SILVA S...      01/2021   \n2                          GILBERTO PISELO DO NASCIMENTO       001/21   \n3                                          INFORMANAHORA           10   \n4                        LINHA PURPURA FOTO E VIDEO LTDA           44   \n...                                                  ...          ...   \n16803                                      Exceller Tour       GDAONA   \n16804                                      Exceller Tour       JFQVZP   \n16805                                      Exceller Tour       SSKEOB   \n16806                                      Exceller Tour       ZICCEX   \n16807                                      Exceller Tour       LM6FSK   \n\n             DATA                                       DETALHAMENTO  \\\n0      21/01/2021  Pagamento de energia elétrica para uso do escr...   \n1      05/01/2021  Despesa com pagamento de aluguel de imóvel par...   \n2      06/01/2021  Despesa com aluguel de imóvel para uso do escr...   \n3      25/01/2021                Divulgação da atividade parlamentar   \n4      07/01/2021                Divulgação da atividade parlamentar   \n...           ...                                                ...   \n16803  01/12/2021  Companhia Aérea: GOL, Localizador: GDAONA. Pas...   \n16804  15/12/2021  Companhia Aérea: LATAM, Localizador: JFQVZP. P...   \n16805  17/12/2021  Companhia Aérea: GOL, Localizador: SSKEOB. Pas...   \n16806  27/12/2021  Companhia Aérea: LATAM, Localizador: ZICCEX. P...   \n16807  29/12/2021  Companhia Aérea: AZUL, Localizador: LM6FSK. Pa...   \n\n      VALOR_REEMBOLSADO  COD_DOCUMENTO  \n0                 75,29        2158003  \n1                  1000        2157367  \n2                  6000        2156383  \n3                  1500        2154509  \n4                  6000        2154507  \n...                 ...            ...  \n16803           1715,45        2170983  \n16804           2489,29        2172263  \n16805           1486,66        2172717  \n16806           2515,56        2173239  \n16807           1510,75        2173238  \n\n[16808 rows x 11 columns]",
      "text/html": "<div>\n<style scoped>\n    .dataframe tbody tr th:only-of-type {\n        vertical-align: middle;\n    }\n\n    .dataframe tbody tr th {\n        vertical-align: top;\n    }\n\n    .dataframe thead th {\n        text-align: right;\n    }\n</style>\n<table border=\"1\" class=\"dataframe\">\n  <thead>\n    <tr style=\"text-align: right;\">\n      <th></th>\n      <th>ANO</th>\n      <th>MES</th>\n      <th>SENADOR</th>\n      <th>TIPO_DESPESA</th>\n      <th>CNPJ_CPF</th>\n      <th>FORNECEDOR</th>\n      <th>DOCUMENTO</th>\n      <th>DATA</th>\n      <th>DETALHAMENTO</th>\n      <th>VALOR_REEMBOLSADO</th>\n      <th>COD_DOCUMENTO</th>\n    </tr>\n  </thead>\n  <tbody>\n    <tr>\n      <th>0</th>\n      <td>2021</td>\n      <td>1</td>\n      <td>ACIR GURGACZ</td>\n      <td>Aluguel de imóveis para escritório político, c...</td>\n      <td>05.914.650/0001-66</td>\n      <td>ENERGISA</td>\n      <td>023.489.627</td>\n      <td>21/01/2021</td>\n      <td>Pagamento de energia elétrica para uso do escr...</td>\n      <td>75,29</td>\n      <td>2158003</td>\n    </tr>\n    <tr>\n      <th>1</th>\n      <td>2021</td>\n      <td>1</td>\n      <td>ACIR GURGACZ</td>\n      <td>Aluguel de imóveis para escritório político, c...</td>\n      <td>062.135.728-64</td>\n      <td>FERNANDO WALDEIR PACINI e ANA LUCIA DA SILVA S...</td>\n      <td>01/2021</td>\n      <td>05/01/2021</td>\n      <td>Despesa com pagamento de aluguel de imóvel par...</td>\n      <td>1000</td>\n      <td>2157367</td>\n    </tr>\n    <tr>\n      <th>2</th>\n      <td>2021</td>\n      <td>1</td>\n      <td>ACIR GURGACZ</td>\n      <td>Aluguel de imóveis para escritório político, c...</td>\n      <td>004.948.028-63</td>\n      <td>GILBERTO PISELO DO NASCIMENTO</td>\n      <td>001/21</td>\n      <td>06/01/2021</td>\n      <td>Despesa com aluguel de imóvel para uso do escr...</td>\n      <td>6000</td>\n      <td>2156383</td>\n    </tr>\n    <tr>\n      <th>3</th>\n      <td>2021</td>\n      <td>1</td>\n      <td>ACIR GURGACZ</td>\n      <td>Divulgação da atividade parlamentar</td>\n      <td>26.320.603/0001-64</td>\n      <td>INFORMANAHORA</td>\n      <td>10</td>\n      <td>25/01/2021</td>\n      <td>Divulgação da atividade parlamentar</td>\n      <td>1500</td>\n      <td>2154509</td>\n    </tr>\n    <tr>\n      <th>4</th>\n      <td>2021</td>\n      <td>1</td>\n      <td>ACIR GURGACZ</td>\n      <td>Divulgação da atividade parlamentar</td>\n      <td>13.659.201/0001-47</td>\n      <td>LINHA PURPURA FOTO E VIDEO LTDA</td>\n      <td>44</td>\n      <td>07/01/2021</td>\n      <td>Divulgação da atividade parlamentar</td>\n      <td>6000</td>\n      <td>2154507</td>\n    </tr>\n    <tr>\n      <th>...</th>\n      <td>...</td>\n      <td>...</td>\n      <td>...</td>\n      <td>...</td>\n      <td>...</td>\n      <td>...</td>\n      <td>...</td>\n      <td>...</td>\n      <td>...</td>\n      <td>...</td>\n      <td>...</td>\n    </tr>\n    <tr>\n      <th>16803</th>\n      <td>2021</td>\n      <td>12</td>\n      <td>ZEQUINHA MARINHO</td>\n      <td>Passagens aéreas, aquáticas e terrestres nacio...</td>\n      <td>22.052.777/0001-32</td>\n      <td>Exceller Tour</td>\n      <td>GDAONA</td>\n      <td>01/12/2021</td>\n      <td>Companhia Aérea: GOL, Localizador: GDAONA. Pas...</td>\n      <td>1715,45</td>\n      <td>2170983</td>\n    </tr>\n    <tr>\n      <th>16804</th>\n      <td>2021</td>\n      <td>12</td>\n      <td>ZEQUINHA MARINHO</td>\n      <td>Passagens aéreas, aquáticas e terrestres nacio...</td>\n      <td>22.052.777/0001-32</td>\n      <td>Exceller Tour</td>\n      <td>JFQVZP</td>\n      <td>15/12/2021</td>\n      <td>Companhia Aérea: LATAM, Localizador: JFQVZP. P...</td>\n      <td>2489,29</td>\n      <td>2172263</td>\n    </tr>\n    <tr>\n      <th>16805</th>\n      <td>2021</td>\n      <td>12</td>\n      <td>ZEQUINHA MARINHO</td>\n      <td>Passagens aéreas, aquáticas e terrestres nacio...</td>\n      <td>22.052.777/0001-32</td>\n      <td>Exceller Tour</td>\n      <td>SSKEOB</td>\n      <td>17/12/2021</td>\n      <td>Companhia Aérea: GOL, Localizador: SSKEOB. Pas...</td>\n      <td>1486,66</td>\n      <td>2172717</td>\n    </tr>\n    <tr>\n      <th>16806</th>\n      <td>2021</td>\n      <td>12</td>\n      <td>ZEQUINHA MARINHO</td>\n      <td>Passagens aéreas, aquáticas e terrestres nacio...</td>\n      <td>22.052.777/0001-32</td>\n      <td>Exceller Tour</td>\n      <td>ZICCEX</td>\n      <td>27/12/2021</td>\n      <td>Companhia Aérea: LATAM, Localizador: ZICCEX. P...</td>\n      <td>2515,56</td>\n      <td>2173239</td>\n    </tr>\n    <tr>\n      <th>16807</th>\n      <td>2021</td>\n      <td>12</td>\n      <td>ZEQUINHA MARINHO</td>\n      <td>Passagens aéreas, aquáticas e terrestres nacio...</td>\n      <td>22.052.777/0001-32</td>\n      <td>Exceller Tour</td>\n      <td>LM6FSK</td>\n      <td>29/12/2021</td>\n      <td>Companhia Aérea: AZUL, Localizador: LM6FSK. Pa...</td>\n      <td>1510,75</td>\n      <td>2173238</td>\n    </tr>\n  </tbody>\n</table>\n<p>16808 rows × 11 columns</p>\n</div>"
     },
     "execution_count": 15,
     "metadata": {},
     "output_type": "execute_result"
    }
   ],
   "source": [
    "dataset_3"
   ],
   "metadata": {
    "collapsed": false,
    "pycharm": {
     "name": "#%%\n"
    }
   }
  },
  {
   "cell_type": "code",
   "execution_count": 16,
   "outputs": [],
   "source": [
    "dataset_4 = pd.read_csv('datasets/despesa_ceaps_2021.csv', encoding='iso-8859-1', sep=';', skiprows=1)"
   ],
   "metadata": {
    "collapsed": false,
    "pycharm": {
     "name": "#%%\n"
    }
   }
  },
  {
   "cell_type": "code",
   "execution_count": 17,
   "outputs": [
    {
     "data": {
      "text/plain": "        ANO  MES           SENADOR  \\\n0      2021    1      ACIR GURGACZ   \n1      2021    1      ACIR GURGACZ   \n2      2021    1      ACIR GURGACZ   \n3      2021    1      ACIR GURGACZ   \n4      2021    1      ACIR GURGACZ   \n...     ...  ...               ...   \n16803  2021   12  ZEQUINHA MARINHO   \n16804  2021   12  ZEQUINHA MARINHO   \n16805  2021   12  ZEQUINHA MARINHO   \n16806  2021   12  ZEQUINHA MARINHO   \n16807  2021   12  ZEQUINHA MARINHO   \n\n                                            TIPO_DESPESA            CNPJ_CPF  \\\n0      Aluguel de imóveis para escritório político, c...  05.914.650/0001-66   \n1      Aluguel de imóveis para escritório político, c...      062.135.728-64   \n2      Aluguel de imóveis para escritório político, c...      004.948.028-63   \n3                    Divulgação da atividade parlamentar  26.320.603/0001-64   \n4                    Divulgação da atividade parlamentar  13.659.201/0001-47   \n...                                                  ...                 ...   \n16803  Passagens aéreas, aquáticas e terrestres nacio...  22.052.777/0001-32   \n16804  Passagens aéreas, aquáticas e terrestres nacio...  22.052.777/0001-32   \n16805  Passagens aéreas, aquáticas e terrestres nacio...  22.052.777/0001-32   \n16806  Passagens aéreas, aquáticas e terrestres nacio...  22.052.777/0001-32   \n16807  Passagens aéreas, aquáticas e terrestres nacio...  22.052.777/0001-32   \n\n                                              FORNECEDOR    DOCUMENTO  \\\n0                                               ENERGISA  023.489.627   \n1      FERNANDO WALDEIR PACINI e ANA LUCIA DA SILVA S...      01/2021   \n2                          GILBERTO PISELO DO NASCIMENTO       001/21   \n3                                          INFORMANAHORA           10   \n4                        LINHA PURPURA FOTO E VIDEO LTDA           44   \n...                                                  ...          ...   \n16803                                      Exceller Tour       GDAONA   \n16804                                      Exceller Tour       JFQVZP   \n16805                                      Exceller Tour       SSKEOB   \n16806                                      Exceller Tour       ZICCEX   \n16807                                      Exceller Tour       LM6FSK   \n\n             DATA                                       DETALHAMENTO  \\\n0      21/01/2021  Pagamento de energia elétrica para uso do escr...   \n1      05/01/2021  Despesa com pagamento de aluguel de imóvel par...   \n2      06/01/2021  Despesa com aluguel de imóvel para uso do escr...   \n3      25/01/2021                Divulgação da atividade parlamentar   \n4      07/01/2021                Divulgação da atividade parlamentar   \n...           ...                                                ...   \n16803  01/12/2021  Companhia Aérea: GOL, Localizador: GDAONA. Pas...   \n16804  15/12/2021  Companhia Aérea: LATAM, Localizador: JFQVZP. P...   \n16805  17/12/2021  Companhia Aérea: GOL, Localizador: SSKEOB. Pas...   \n16806  27/12/2021  Companhia Aérea: LATAM, Localizador: ZICCEX. P...   \n16807  29/12/2021  Companhia Aérea: AZUL, Localizador: LM6FSK. Pa...   \n\n      VALOR_REEMBOLSADO  COD_DOCUMENTO  \n0                 75,29        2158003  \n1                  1000        2157367  \n2                  6000        2156383  \n3                  1500        2154509  \n4                  6000        2154507  \n...                 ...            ...  \n16803           1715,45        2170983  \n16804           2489,29        2172263  \n16805           1486,66        2172717  \n16806           2515,56        2173239  \n16807           1510,75        2173238  \n\n[16808 rows x 11 columns]",
      "text/html": "<div>\n<style scoped>\n    .dataframe tbody tr th:only-of-type {\n        vertical-align: middle;\n    }\n\n    .dataframe tbody tr th {\n        vertical-align: top;\n    }\n\n    .dataframe thead th {\n        text-align: right;\n    }\n</style>\n<table border=\"1\" class=\"dataframe\">\n  <thead>\n    <tr style=\"text-align: right;\">\n      <th></th>\n      <th>ANO</th>\n      <th>MES</th>\n      <th>SENADOR</th>\n      <th>TIPO_DESPESA</th>\n      <th>CNPJ_CPF</th>\n      <th>FORNECEDOR</th>\n      <th>DOCUMENTO</th>\n      <th>DATA</th>\n      <th>DETALHAMENTO</th>\n      <th>VALOR_REEMBOLSADO</th>\n      <th>COD_DOCUMENTO</th>\n    </tr>\n  </thead>\n  <tbody>\n    <tr>\n      <th>0</th>\n      <td>2021</td>\n      <td>1</td>\n      <td>ACIR GURGACZ</td>\n      <td>Aluguel de imóveis para escritório político, c...</td>\n      <td>05.914.650/0001-66</td>\n      <td>ENERGISA</td>\n      <td>023.489.627</td>\n      <td>21/01/2021</td>\n      <td>Pagamento de energia elétrica para uso do escr...</td>\n      <td>75,29</td>\n      <td>2158003</td>\n    </tr>\n    <tr>\n      <th>1</th>\n      <td>2021</td>\n      <td>1</td>\n      <td>ACIR GURGACZ</td>\n      <td>Aluguel de imóveis para escritório político, c...</td>\n      <td>062.135.728-64</td>\n      <td>FERNANDO WALDEIR PACINI e ANA LUCIA DA SILVA S...</td>\n      <td>01/2021</td>\n      <td>05/01/2021</td>\n      <td>Despesa com pagamento de aluguel de imóvel par...</td>\n      <td>1000</td>\n      <td>2157367</td>\n    </tr>\n    <tr>\n      <th>2</th>\n      <td>2021</td>\n      <td>1</td>\n      <td>ACIR GURGACZ</td>\n      <td>Aluguel de imóveis para escritório político, c...</td>\n      <td>004.948.028-63</td>\n      <td>GILBERTO PISELO DO NASCIMENTO</td>\n      <td>001/21</td>\n      <td>06/01/2021</td>\n      <td>Despesa com aluguel de imóvel para uso do escr...</td>\n      <td>6000</td>\n      <td>2156383</td>\n    </tr>\n    <tr>\n      <th>3</th>\n      <td>2021</td>\n      <td>1</td>\n      <td>ACIR GURGACZ</td>\n      <td>Divulgação da atividade parlamentar</td>\n      <td>26.320.603/0001-64</td>\n      <td>INFORMANAHORA</td>\n      <td>10</td>\n      <td>25/01/2021</td>\n      <td>Divulgação da atividade parlamentar</td>\n      <td>1500</td>\n      <td>2154509</td>\n    </tr>\n    <tr>\n      <th>4</th>\n      <td>2021</td>\n      <td>1</td>\n      <td>ACIR GURGACZ</td>\n      <td>Divulgação da atividade parlamentar</td>\n      <td>13.659.201/0001-47</td>\n      <td>LINHA PURPURA FOTO E VIDEO LTDA</td>\n      <td>44</td>\n      <td>07/01/2021</td>\n      <td>Divulgação da atividade parlamentar</td>\n      <td>6000</td>\n      <td>2154507</td>\n    </tr>\n    <tr>\n      <th>...</th>\n      <td>...</td>\n      <td>...</td>\n      <td>...</td>\n      <td>...</td>\n      <td>...</td>\n      <td>...</td>\n      <td>...</td>\n      <td>...</td>\n      <td>...</td>\n      <td>...</td>\n      <td>...</td>\n    </tr>\n    <tr>\n      <th>16803</th>\n      <td>2021</td>\n      <td>12</td>\n      <td>ZEQUINHA MARINHO</td>\n      <td>Passagens aéreas, aquáticas e terrestres nacio...</td>\n      <td>22.052.777/0001-32</td>\n      <td>Exceller Tour</td>\n      <td>GDAONA</td>\n      <td>01/12/2021</td>\n      <td>Companhia Aérea: GOL, Localizador: GDAONA. Pas...</td>\n      <td>1715,45</td>\n      <td>2170983</td>\n    </tr>\n    <tr>\n      <th>16804</th>\n      <td>2021</td>\n      <td>12</td>\n      <td>ZEQUINHA MARINHO</td>\n      <td>Passagens aéreas, aquáticas e terrestres nacio...</td>\n      <td>22.052.777/0001-32</td>\n      <td>Exceller Tour</td>\n      <td>JFQVZP</td>\n      <td>15/12/2021</td>\n      <td>Companhia Aérea: LATAM, Localizador: JFQVZP. P...</td>\n      <td>2489,29</td>\n      <td>2172263</td>\n    </tr>\n    <tr>\n      <th>16805</th>\n      <td>2021</td>\n      <td>12</td>\n      <td>ZEQUINHA MARINHO</td>\n      <td>Passagens aéreas, aquáticas e terrestres nacio...</td>\n      <td>22.052.777/0001-32</td>\n      <td>Exceller Tour</td>\n      <td>SSKEOB</td>\n      <td>17/12/2021</td>\n      <td>Companhia Aérea: GOL, Localizador: SSKEOB. Pas...</td>\n      <td>1486,66</td>\n      <td>2172717</td>\n    </tr>\n    <tr>\n      <th>16806</th>\n      <td>2021</td>\n      <td>12</td>\n      <td>ZEQUINHA MARINHO</td>\n      <td>Passagens aéreas, aquáticas e terrestres nacio...</td>\n      <td>22.052.777/0001-32</td>\n      <td>Exceller Tour</td>\n      <td>ZICCEX</td>\n      <td>27/12/2021</td>\n      <td>Companhia Aérea: LATAM, Localizador: ZICCEX. P...</td>\n      <td>2515,56</td>\n      <td>2173239</td>\n    </tr>\n    <tr>\n      <th>16807</th>\n      <td>2021</td>\n      <td>12</td>\n      <td>ZEQUINHA MARINHO</td>\n      <td>Passagens aéreas, aquáticas e terrestres nacio...</td>\n      <td>22.052.777/0001-32</td>\n      <td>Exceller Tour</td>\n      <td>LM6FSK</td>\n      <td>29/12/2021</td>\n      <td>Companhia Aérea: AZUL, Localizador: LM6FSK. Pa...</td>\n      <td>1510,75</td>\n      <td>2173238</td>\n    </tr>\n  </tbody>\n</table>\n<p>16808 rows × 11 columns</p>\n</div>"
     },
     "execution_count": 17,
     "metadata": {},
     "output_type": "execute_result"
    }
   ],
   "source": [
    "dataset_4"
   ],
   "metadata": {
    "collapsed": false,
    "pycharm": {
     "name": "#%%\n"
    }
   }
  },
  {
   "cell_type": "markdown",
   "source": [
    "# Concatenate datasets"
   ],
   "metadata": {
    "collapsed": false,
    "pycharm": {
     "name": "#%% md\n"
    }
   }
  },
  {
   "cell_type": "markdown",
   "source": [
    "## Check if all datasets have the same shape"
   ],
   "metadata": {
    "collapsed": false,
    "pycharm": {
     "name": "#%% md\n"
    }
   }
  },
  {
   "cell_type": "code",
   "execution_count": 20,
   "outputs": [
    {
     "name": "stdout",
     "output_type": "stream",
     "text": [
      "Dataset 1: (21634, 11)\n",
      "Dataset 2: (14090, 11)\n",
      "Dataset 3: (16808, 11)\n",
      "Dataset 4: (16808, 11)\n",
      "\n"
     ]
    }
   ],
   "source": [
    "print(f'Dataset 1: {dataset_1.shape}\\nDataset 2: {dataset_2.shape}\\nDataset 3: {dataset_3.shape}\\nDataset 4: {dataset_4.shape}\\n')"
   ],
   "metadata": {
    "collapsed": false,
    "pycharm": {
     "name": "#%%\n"
    }
   }
  },
  {
   "cell_type": "markdown",
   "source": [
    "## Concat the datasets"
   ],
   "metadata": {
    "collapsed": false,
    "pycharm": {
     "name": "#%% md\n"
    }
   }
  },
  {
   "cell_type": "code",
   "execution_count": 24,
   "outputs": [
    {
     "data": {
      "text/plain": "        ANO  MES           SENADOR  \\\n0      2019    1      ACIR GURGACZ   \n1      2019    1      ACIR GURGACZ   \n2      2019    1      ACIR GURGACZ   \n3      2019    1      ACIR GURGACZ   \n4      2019    2      ACIR GURGACZ   \n...     ...  ...               ...   \n16803  2021   12  ZEQUINHA MARINHO   \n16804  2021   12  ZEQUINHA MARINHO   \n16805  2021   12  ZEQUINHA MARINHO   \n16806  2021   12  ZEQUINHA MARINHO   \n16807  2021   12  ZEQUINHA MARINHO   \n\n                                            TIPO_DESPESA            CNPJ_CPF  \\\n0      Aluguel de imóveis para escritório político, c...  05.914.650/0001-66   \n1      Aluguel de imóveis para escritório político, c...  05.914.650/0001-66   \n2      Aluguel de imóveis para escritório político, c...      004.948.028-63   \n3      Aluguel de imóveis para escritório político, c...  05.423.963/0001-11   \n4      Aluguel de imóveis para escritório político, c...  05.914.650/0001-66   \n...                                                  ...                 ...   \n16803  Passagens aéreas, aquáticas e terrestres nacio...  22.052.777/0001-32   \n16804  Passagens aéreas, aquáticas e terrestres nacio...  22.052.777/0001-32   \n16805  Passagens aéreas, aquáticas e terrestres nacio...  22.052.777/0001-32   \n16806  Passagens aéreas, aquáticas e terrestres nacio...  22.052.777/0001-32   \n16807  Passagens aéreas, aquáticas e terrestres nacio...  22.052.777/0001-32   \n\n                          FORNECEDOR  DOCUMENTO        DATA  \\\n0                           ENERGISA  006582758  04/01/2019   \n1                           ENERGISA  006582755  04/01/2019   \n2      GILBERTO PISELO DO NASCIMENTO      00119  07/01/2019   \n3                      OI MÓVEL S.A.   86161151  25/12/2018   \n4                           ENERGISA  007236036  04/02/2019   \n...                              ...        ...         ...   \n16803                  Exceller Tour     GDAONA  01/12/2021   \n16804                  Exceller Tour     JFQVZP  15/12/2021   \n16805                  Exceller Tour     SSKEOB  17/12/2021   \n16806                  Exceller Tour     ZICCEX  27/12/2021   \n16807                  Exceller Tour     LM6FSK  29/12/2021   \n\n                                            DETALHAMENTO VALOR_REEMBOLSADO  \\\n0      Despesa com pagamento de energia elétrica do e...             66,02   \n1      Despesa com pagamento de energia elétrica do e...            139,98   \n2      Despesa com pagamento de aluguel de imóvel par...              6000   \n3      Despesa com pagamento de telefonia para o escr...            316,39   \n4      Despesa com pagamento de energia elétrica para...             99,45   \n...                                                  ...               ...   \n16803  Companhia Aérea: GOL, Localizador: GDAONA. Pas...           1715,45   \n16804  Companhia Aérea: LATAM, Localizador: JFQVZP. P...           2489,29   \n16805  Companhia Aérea: GOL, Localizador: SSKEOB. Pas...           1486,66   \n16806  Companhia Aérea: LATAM, Localizador: ZICCEX. P...           2515,56   \n16807  Companhia Aérea: AZUL, Localizador: LM6FSK. Pa...           1510,75   \n\n       COD_DOCUMENTO  \n0            2116543  \n1            2116546  \n2            2113817  \n3            2116541  \n4            2116550  \n...              ...  \n16803        2170983  \n16804        2172263  \n16805        2172717  \n16806        2173239  \n16807        2173238  \n\n[69340 rows x 11 columns]",
      "text/html": "<div>\n<style scoped>\n    .dataframe tbody tr th:only-of-type {\n        vertical-align: middle;\n    }\n\n    .dataframe tbody tr th {\n        vertical-align: top;\n    }\n\n    .dataframe thead th {\n        text-align: right;\n    }\n</style>\n<table border=\"1\" class=\"dataframe\">\n  <thead>\n    <tr style=\"text-align: right;\">\n      <th></th>\n      <th>ANO</th>\n      <th>MES</th>\n      <th>SENADOR</th>\n      <th>TIPO_DESPESA</th>\n      <th>CNPJ_CPF</th>\n      <th>FORNECEDOR</th>\n      <th>DOCUMENTO</th>\n      <th>DATA</th>\n      <th>DETALHAMENTO</th>\n      <th>VALOR_REEMBOLSADO</th>\n      <th>COD_DOCUMENTO</th>\n    </tr>\n  </thead>\n  <tbody>\n    <tr>\n      <th>0</th>\n      <td>2019</td>\n      <td>1</td>\n      <td>ACIR GURGACZ</td>\n      <td>Aluguel de imóveis para escritório político, c...</td>\n      <td>05.914.650/0001-66</td>\n      <td>ENERGISA</td>\n      <td>006582758</td>\n      <td>04/01/2019</td>\n      <td>Despesa com pagamento de energia elétrica do e...</td>\n      <td>66,02</td>\n      <td>2116543</td>\n    </tr>\n    <tr>\n      <th>1</th>\n      <td>2019</td>\n      <td>1</td>\n      <td>ACIR GURGACZ</td>\n      <td>Aluguel de imóveis para escritório político, c...</td>\n      <td>05.914.650/0001-66</td>\n      <td>ENERGISA</td>\n      <td>006582755</td>\n      <td>04/01/2019</td>\n      <td>Despesa com pagamento de energia elétrica do e...</td>\n      <td>139,98</td>\n      <td>2116546</td>\n    </tr>\n    <tr>\n      <th>2</th>\n      <td>2019</td>\n      <td>1</td>\n      <td>ACIR GURGACZ</td>\n      <td>Aluguel de imóveis para escritório político, c...</td>\n      <td>004.948.028-63</td>\n      <td>GILBERTO PISELO DO NASCIMENTO</td>\n      <td>00119</td>\n      <td>07/01/2019</td>\n      <td>Despesa com pagamento de aluguel de imóvel par...</td>\n      <td>6000</td>\n      <td>2113817</td>\n    </tr>\n    <tr>\n      <th>3</th>\n      <td>2019</td>\n      <td>1</td>\n      <td>ACIR GURGACZ</td>\n      <td>Aluguel de imóveis para escritório político, c...</td>\n      <td>05.423.963/0001-11</td>\n      <td>OI MÓVEL S.A.</td>\n      <td>86161151</td>\n      <td>25/12/2018</td>\n      <td>Despesa com pagamento de telefonia para o escr...</td>\n      <td>316,39</td>\n      <td>2116541</td>\n    </tr>\n    <tr>\n      <th>4</th>\n      <td>2019</td>\n      <td>2</td>\n      <td>ACIR GURGACZ</td>\n      <td>Aluguel de imóveis para escritório político, c...</td>\n      <td>05.914.650/0001-66</td>\n      <td>ENERGISA</td>\n      <td>007236036</td>\n      <td>04/02/2019</td>\n      <td>Despesa com pagamento de energia elétrica para...</td>\n      <td>99,45</td>\n      <td>2116550</td>\n    </tr>\n    <tr>\n      <th>...</th>\n      <td>...</td>\n      <td>...</td>\n      <td>...</td>\n      <td>...</td>\n      <td>...</td>\n      <td>...</td>\n      <td>...</td>\n      <td>...</td>\n      <td>...</td>\n      <td>...</td>\n      <td>...</td>\n    </tr>\n    <tr>\n      <th>16803</th>\n      <td>2021</td>\n      <td>12</td>\n      <td>ZEQUINHA MARINHO</td>\n      <td>Passagens aéreas, aquáticas e terrestres nacio...</td>\n      <td>22.052.777/0001-32</td>\n      <td>Exceller Tour</td>\n      <td>GDAONA</td>\n      <td>01/12/2021</td>\n      <td>Companhia Aérea: GOL, Localizador: GDAONA. Pas...</td>\n      <td>1715,45</td>\n      <td>2170983</td>\n    </tr>\n    <tr>\n      <th>16804</th>\n      <td>2021</td>\n      <td>12</td>\n      <td>ZEQUINHA MARINHO</td>\n      <td>Passagens aéreas, aquáticas e terrestres nacio...</td>\n      <td>22.052.777/0001-32</td>\n      <td>Exceller Tour</td>\n      <td>JFQVZP</td>\n      <td>15/12/2021</td>\n      <td>Companhia Aérea: LATAM, Localizador: JFQVZP. P...</td>\n      <td>2489,29</td>\n      <td>2172263</td>\n    </tr>\n    <tr>\n      <th>16805</th>\n      <td>2021</td>\n      <td>12</td>\n      <td>ZEQUINHA MARINHO</td>\n      <td>Passagens aéreas, aquáticas e terrestres nacio...</td>\n      <td>22.052.777/0001-32</td>\n      <td>Exceller Tour</td>\n      <td>SSKEOB</td>\n      <td>17/12/2021</td>\n      <td>Companhia Aérea: GOL, Localizador: SSKEOB. Pas...</td>\n      <td>1486,66</td>\n      <td>2172717</td>\n    </tr>\n    <tr>\n      <th>16806</th>\n      <td>2021</td>\n      <td>12</td>\n      <td>ZEQUINHA MARINHO</td>\n      <td>Passagens aéreas, aquáticas e terrestres nacio...</td>\n      <td>22.052.777/0001-32</td>\n      <td>Exceller Tour</td>\n      <td>ZICCEX</td>\n      <td>27/12/2021</td>\n      <td>Companhia Aérea: LATAM, Localizador: ZICCEX. P...</td>\n      <td>2515,56</td>\n      <td>2173239</td>\n    </tr>\n    <tr>\n      <th>16807</th>\n      <td>2021</td>\n      <td>12</td>\n      <td>ZEQUINHA MARINHO</td>\n      <td>Passagens aéreas, aquáticas e terrestres nacio...</td>\n      <td>22.052.777/0001-32</td>\n      <td>Exceller Tour</td>\n      <td>LM6FSK</td>\n      <td>29/12/2021</td>\n      <td>Companhia Aérea: AZUL, Localizador: LM6FSK. Pa...</td>\n      <td>1510,75</td>\n      <td>2173238</td>\n    </tr>\n  </tbody>\n</table>\n<p>69340 rows × 11 columns</p>\n</div>"
     },
     "execution_count": 24,
     "metadata": {},
     "output_type": "execute_result"
    }
   ],
   "source": [
    "dataset = pd.concat([dataset_1, dataset_2, dataset_3, dataset_4], axis=0)\n",
    "dataset"
   ],
   "metadata": {
    "collapsed": false,
    "pycharm": {
     "name": "#%%\n"
    }
   }
  },
  {
   "cell_type": "markdown",
   "source": [
    "# Check duplicates"
   ],
   "metadata": {
    "collapsed": false,
    "pycharm": {
     "name": "#%% md\n"
    }
   }
  },
  {
   "cell_type": "markdown",
   "source": [
    "## Duplicates"
   ],
   "metadata": {
    "collapsed": false,
    "pycharm": {
     "name": "#%% md\n"
    }
   }
  },
  {
   "cell_type": "code",
   "execution_count": 38,
   "outputs": [
    {
     "data": {
      "text/plain": "        ANO  MES           SENADOR  \\\n0      2021    1      ACIR GURGACZ   \n1      2021    1      ACIR GURGACZ   \n2      2021    1      ACIR GURGACZ   \n3      2021    1      ACIR GURGACZ   \n4      2021    1      ACIR GURGACZ   \n...     ...  ...               ...   \n16803  2021   12  ZEQUINHA MARINHO   \n16804  2021   12  ZEQUINHA MARINHO   \n16805  2021   12  ZEQUINHA MARINHO   \n16806  2021   12  ZEQUINHA MARINHO   \n16807  2021   12  ZEQUINHA MARINHO   \n\n                                            TIPO_DESPESA            CNPJ_CPF  \\\n0      Aluguel de imóveis para escritório político, c...  05.914.650/0001-66   \n1      Aluguel de imóveis para escritório político, c...      062.135.728-64   \n2      Aluguel de imóveis para escritório político, c...      004.948.028-63   \n3                    Divulgação da atividade parlamentar  26.320.603/0001-64   \n4                    Divulgação da atividade parlamentar  13.659.201/0001-47   \n...                                                  ...                 ...   \n16803  Passagens aéreas, aquáticas e terrestres nacio...  22.052.777/0001-32   \n16804  Passagens aéreas, aquáticas e terrestres nacio...  22.052.777/0001-32   \n16805  Passagens aéreas, aquáticas e terrestres nacio...  22.052.777/0001-32   \n16806  Passagens aéreas, aquáticas e terrestres nacio...  22.052.777/0001-32   \n16807  Passagens aéreas, aquáticas e terrestres nacio...  22.052.777/0001-32   \n\n                                              FORNECEDOR    DOCUMENTO  \\\n0                                               ENERGISA  023.489.627   \n1      FERNANDO WALDEIR PACINI e ANA LUCIA DA SILVA S...      01/2021   \n2                          GILBERTO PISELO DO NASCIMENTO       001/21   \n3                                          INFORMANAHORA           10   \n4                        LINHA PURPURA FOTO E VIDEO LTDA           44   \n...                                                  ...          ...   \n16803                                      Exceller Tour       GDAONA   \n16804                                      Exceller Tour       JFQVZP   \n16805                                      Exceller Tour       SSKEOB   \n16806                                      Exceller Tour       ZICCEX   \n16807                                      Exceller Tour       LM6FSK   \n\n             DATA                                       DETALHAMENTO  \\\n0      21/01/2021  Pagamento de energia elétrica para uso do escr...   \n1      05/01/2021  Despesa com pagamento de aluguel de imóvel par...   \n2      06/01/2021  Despesa com aluguel de imóvel para uso do escr...   \n3      25/01/2021                Divulgação da atividade parlamentar   \n4      07/01/2021                Divulgação da atividade parlamentar   \n...           ...                                                ...   \n16803  01/12/2021  Companhia Aérea: GOL, Localizador: GDAONA. Pas...   \n16804  15/12/2021  Companhia Aérea: LATAM, Localizador: JFQVZP. P...   \n16805  17/12/2021  Companhia Aérea: GOL, Localizador: SSKEOB. Pas...   \n16806  27/12/2021  Companhia Aérea: LATAM, Localizador: ZICCEX. P...   \n16807  29/12/2021  Companhia Aérea: AZUL, Localizador: LM6FSK. Pa...   \n\n      VALOR_REEMBOLSADO  COD_DOCUMENTO  \n0                 75,29        2158003  \n1                  1000        2157367  \n2                  6000        2156383  \n3                  1500        2154509  \n4                  6000        2154507  \n...                 ...            ...  \n16803           1715,45        2170983  \n16804           2489,29        2172263  \n16805           1486,66        2172717  \n16806           2515,56        2173239  \n16807           1510,75        2173238  \n\n[16808 rows x 11 columns]",
      "text/html": "<div>\n<style scoped>\n    .dataframe tbody tr th:only-of-type {\n        vertical-align: middle;\n    }\n\n    .dataframe tbody tr th {\n        vertical-align: top;\n    }\n\n    .dataframe thead th {\n        text-align: right;\n    }\n</style>\n<table border=\"1\" class=\"dataframe\">\n  <thead>\n    <tr style=\"text-align: right;\">\n      <th></th>\n      <th>ANO</th>\n      <th>MES</th>\n      <th>SENADOR</th>\n      <th>TIPO_DESPESA</th>\n      <th>CNPJ_CPF</th>\n      <th>FORNECEDOR</th>\n      <th>DOCUMENTO</th>\n      <th>DATA</th>\n      <th>DETALHAMENTO</th>\n      <th>VALOR_REEMBOLSADO</th>\n      <th>COD_DOCUMENTO</th>\n    </tr>\n  </thead>\n  <tbody>\n    <tr>\n      <th>0</th>\n      <td>2021</td>\n      <td>1</td>\n      <td>ACIR GURGACZ</td>\n      <td>Aluguel de imóveis para escritório político, c...</td>\n      <td>05.914.650/0001-66</td>\n      <td>ENERGISA</td>\n      <td>023.489.627</td>\n      <td>21/01/2021</td>\n      <td>Pagamento de energia elétrica para uso do escr...</td>\n      <td>75,29</td>\n      <td>2158003</td>\n    </tr>\n    <tr>\n      <th>1</th>\n      <td>2021</td>\n      <td>1</td>\n      <td>ACIR GURGACZ</td>\n      <td>Aluguel de imóveis para escritório político, c...</td>\n      <td>062.135.728-64</td>\n      <td>FERNANDO WALDEIR PACINI e ANA LUCIA DA SILVA S...</td>\n      <td>01/2021</td>\n      <td>05/01/2021</td>\n      <td>Despesa com pagamento de aluguel de imóvel par...</td>\n      <td>1000</td>\n      <td>2157367</td>\n    </tr>\n    <tr>\n      <th>2</th>\n      <td>2021</td>\n      <td>1</td>\n      <td>ACIR GURGACZ</td>\n      <td>Aluguel de imóveis para escritório político, c...</td>\n      <td>004.948.028-63</td>\n      <td>GILBERTO PISELO DO NASCIMENTO</td>\n      <td>001/21</td>\n      <td>06/01/2021</td>\n      <td>Despesa com aluguel de imóvel para uso do escr...</td>\n      <td>6000</td>\n      <td>2156383</td>\n    </tr>\n    <tr>\n      <th>3</th>\n      <td>2021</td>\n      <td>1</td>\n      <td>ACIR GURGACZ</td>\n      <td>Divulgação da atividade parlamentar</td>\n      <td>26.320.603/0001-64</td>\n      <td>INFORMANAHORA</td>\n      <td>10</td>\n      <td>25/01/2021</td>\n      <td>Divulgação da atividade parlamentar</td>\n      <td>1500</td>\n      <td>2154509</td>\n    </tr>\n    <tr>\n      <th>4</th>\n      <td>2021</td>\n      <td>1</td>\n      <td>ACIR GURGACZ</td>\n      <td>Divulgação da atividade parlamentar</td>\n      <td>13.659.201/0001-47</td>\n      <td>LINHA PURPURA FOTO E VIDEO LTDA</td>\n      <td>44</td>\n      <td>07/01/2021</td>\n      <td>Divulgação da atividade parlamentar</td>\n      <td>6000</td>\n      <td>2154507</td>\n    </tr>\n    <tr>\n      <th>...</th>\n      <td>...</td>\n      <td>...</td>\n      <td>...</td>\n      <td>...</td>\n      <td>...</td>\n      <td>...</td>\n      <td>...</td>\n      <td>...</td>\n      <td>...</td>\n      <td>...</td>\n      <td>...</td>\n    </tr>\n    <tr>\n      <th>16803</th>\n      <td>2021</td>\n      <td>12</td>\n      <td>ZEQUINHA MARINHO</td>\n      <td>Passagens aéreas, aquáticas e terrestres nacio...</td>\n      <td>22.052.777/0001-32</td>\n      <td>Exceller Tour</td>\n      <td>GDAONA</td>\n      <td>01/12/2021</td>\n      <td>Companhia Aérea: GOL, Localizador: GDAONA. Pas...</td>\n      <td>1715,45</td>\n      <td>2170983</td>\n    </tr>\n    <tr>\n      <th>16804</th>\n      <td>2021</td>\n      <td>12</td>\n      <td>ZEQUINHA MARINHO</td>\n      <td>Passagens aéreas, aquáticas e terrestres nacio...</td>\n      <td>22.052.777/0001-32</td>\n      <td>Exceller Tour</td>\n      <td>JFQVZP</td>\n      <td>15/12/2021</td>\n      <td>Companhia Aérea: LATAM, Localizador: JFQVZP. P...</td>\n      <td>2489,29</td>\n      <td>2172263</td>\n    </tr>\n    <tr>\n      <th>16805</th>\n      <td>2021</td>\n      <td>12</td>\n      <td>ZEQUINHA MARINHO</td>\n      <td>Passagens aéreas, aquáticas e terrestres nacio...</td>\n      <td>22.052.777/0001-32</td>\n      <td>Exceller Tour</td>\n      <td>SSKEOB</td>\n      <td>17/12/2021</td>\n      <td>Companhia Aérea: GOL, Localizador: SSKEOB. Pas...</td>\n      <td>1486,66</td>\n      <td>2172717</td>\n    </tr>\n    <tr>\n      <th>16806</th>\n      <td>2021</td>\n      <td>12</td>\n      <td>ZEQUINHA MARINHO</td>\n      <td>Passagens aéreas, aquáticas e terrestres nacio...</td>\n      <td>22.052.777/0001-32</td>\n      <td>Exceller Tour</td>\n      <td>ZICCEX</td>\n      <td>27/12/2021</td>\n      <td>Companhia Aérea: LATAM, Localizador: ZICCEX. P...</td>\n      <td>2515,56</td>\n      <td>2173239</td>\n    </tr>\n    <tr>\n      <th>16807</th>\n      <td>2021</td>\n      <td>12</td>\n      <td>ZEQUINHA MARINHO</td>\n      <td>Passagens aéreas, aquáticas e terrestres nacio...</td>\n      <td>22.052.777/0001-32</td>\n      <td>Exceller Tour</td>\n      <td>LM6FSK</td>\n      <td>29/12/2021</td>\n      <td>Companhia Aérea: AZUL, Localizador: LM6FSK. Pa...</td>\n      <td>1510,75</td>\n      <td>2173238</td>\n    </tr>\n  </tbody>\n</table>\n<p>16808 rows × 11 columns</p>\n</div>"
     },
     "execution_count": 38,
     "metadata": {},
     "output_type": "execute_result"
    }
   ],
   "source": [
    "dataset[dataset.duplicated()]"
   ],
   "metadata": {
    "collapsed": false,
    "pycharm": {
     "name": "#%%\n"
    }
   }
  },
  {
   "cell_type": "markdown",
   "source": [
    "## Drop duplicates"
   ],
   "metadata": {
    "collapsed": false,
    "pycharm": {
     "name": "#%% md\n"
    }
   }
  },
  {
   "cell_type": "code",
   "execution_count": 37,
   "outputs": [
    {
     "data": {
      "text/plain": "        ANO  MES           SENADOR  \\\n0      2019    1      ACIR GURGACZ   \n1      2019    1      ACIR GURGACZ   \n2      2019    1      ACIR GURGACZ   \n3      2019    1      ACIR GURGACZ   \n4      2019    2      ACIR GURGACZ   \n...     ...  ...               ...   \n16803  2021   12  ZEQUINHA MARINHO   \n16804  2021   12  ZEQUINHA MARINHO   \n16805  2021   12  ZEQUINHA MARINHO   \n16806  2021   12  ZEQUINHA MARINHO   \n16807  2021   12  ZEQUINHA MARINHO   \n\n                                            TIPO_DESPESA            CNPJ_CPF  \\\n0      Aluguel de imóveis para escritório político, c...  05.914.650/0001-66   \n1      Aluguel de imóveis para escritório político, c...  05.914.650/0001-66   \n2      Aluguel de imóveis para escritório político, c...      004.948.028-63   \n3      Aluguel de imóveis para escritório político, c...  05.423.963/0001-11   \n4      Aluguel de imóveis para escritório político, c...  05.914.650/0001-66   \n...                                                  ...                 ...   \n16803  Passagens aéreas, aquáticas e terrestres nacio...  22.052.777/0001-32   \n16804  Passagens aéreas, aquáticas e terrestres nacio...  22.052.777/0001-32   \n16805  Passagens aéreas, aquáticas e terrestres nacio...  22.052.777/0001-32   \n16806  Passagens aéreas, aquáticas e terrestres nacio...  22.052.777/0001-32   \n16807  Passagens aéreas, aquáticas e terrestres nacio...  22.052.777/0001-32   \n\n                          FORNECEDOR  DOCUMENTO        DATA  \\\n0                           ENERGISA  006582758  04/01/2019   \n1                           ENERGISA  006582755  04/01/2019   \n2      GILBERTO PISELO DO NASCIMENTO      00119  07/01/2019   \n3                      OI MÓVEL S.A.   86161151  25/12/2018   \n4                           ENERGISA  007236036  04/02/2019   \n...                              ...        ...         ...   \n16803                  Exceller Tour     GDAONA  01/12/2021   \n16804                  Exceller Tour     JFQVZP  15/12/2021   \n16805                  Exceller Tour     SSKEOB  17/12/2021   \n16806                  Exceller Tour     ZICCEX  27/12/2021   \n16807                  Exceller Tour     LM6FSK  29/12/2021   \n\n                                            DETALHAMENTO VALOR_REEMBOLSADO  \\\n0      Despesa com pagamento de energia elétrica do e...             66,02   \n1      Despesa com pagamento de energia elétrica do e...            139,98   \n2      Despesa com pagamento de aluguel de imóvel par...              6000   \n3      Despesa com pagamento de telefonia para o escr...            316,39   \n4      Despesa com pagamento de energia elétrica para...             99,45   \n...                                                  ...               ...   \n16803  Companhia Aérea: GOL, Localizador: GDAONA. Pas...           1715,45   \n16804  Companhia Aérea: LATAM, Localizador: JFQVZP. P...           2489,29   \n16805  Companhia Aérea: GOL, Localizador: SSKEOB. Pas...           1486,66   \n16806  Companhia Aérea: LATAM, Localizador: ZICCEX. P...           2515,56   \n16807  Companhia Aérea: AZUL, Localizador: LM6FSK. Pa...           1510,75   \n\n       COD_DOCUMENTO  \n0            2116543  \n1            2116546  \n2            2113817  \n3            2116541  \n4            2116550  \n...              ...  \n16803        2170983  \n16804        2172263  \n16805        2172717  \n16806        2173239  \n16807        2173238  \n\n[52532 rows x 11 columns]",
      "text/html": "<div>\n<style scoped>\n    .dataframe tbody tr th:only-of-type {\n        vertical-align: middle;\n    }\n\n    .dataframe tbody tr th {\n        vertical-align: top;\n    }\n\n    .dataframe thead th {\n        text-align: right;\n    }\n</style>\n<table border=\"1\" class=\"dataframe\">\n  <thead>\n    <tr style=\"text-align: right;\">\n      <th></th>\n      <th>ANO</th>\n      <th>MES</th>\n      <th>SENADOR</th>\n      <th>TIPO_DESPESA</th>\n      <th>CNPJ_CPF</th>\n      <th>FORNECEDOR</th>\n      <th>DOCUMENTO</th>\n      <th>DATA</th>\n      <th>DETALHAMENTO</th>\n      <th>VALOR_REEMBOLSADO</th>\n      <th>COD_DOCUMENTO</th>\n    </tr>\n  </thead>\n  <tbody>\n    <tr>\n      <th>0</th>\n      <td>2019</td>\n      <td>1</td>\n      <td>ACIR GURGACZ</td>\n      <td>Aluguel de imóveis para escritório político, c...</td>\n      <td>05.914.650/0001-66</td>\n      <td>ENERGISA</td>\n      <td>006582758</td>\n      <td>04/01/2019</td>\n      <td>Despesa com pagamento de energia elétrica do e...</td>\n      <td>66,02</td>\n      <td>2116543</td>\n    </tr>\n    <tr>\n      <th>1</th>\n      <td>2019</td>\n      <td>1</td>\n      <td>ACIR GURGACZ</td>\n      <td>Aluguel de imóveis para escritório político, c...</td>\n      <td>05.914.650/0001-66</td>\n      <td>ENERGISA</td>\n      <td>006582755</td>\n      <td>04/01/2019</td>\n      <td>Despesa com pagamento de energia elétrica do e...</td>\n      <td>139,98</td>\n      <td>2116546</td>\n    </tr>\n    <tr>\n      <th>2</th>\n      <td>2019</td>\n      <td>1</td>\n      <td>ACIR GURGACZ</td>\n      <td>Aluguel de imóveis para escritório político, c...</td>\n      <td>004.948.028-63</td>\n      <td>GILBERTO PISELO DO NASCIMENTO</td>\n      <td>00119</td>\n      <td>07/01/2019</td>\n      <td>Despesa com pagamento de aluguel de imóvel par...</td>\n      <td>6000</td>\n      <td>2113817</td>\n    </tr>\n    <tr>\n      <th>3</th>\n      <td>2019</td>\n      <td>1</td>\n      <td>ACIR GURGACZ</td>\n      <td>Aluguel de imóveis para escritório político, c...</td>\n      <td>05.423.963/0001-11</td>\n      <td>OI MÓVEL S.A.</td>\n      <td>86161151</td>\n      <td>25/12/2018</td>\n      <td>Despesa com pagamento de telefonia para o escr...</td>\n      <td>316,39</td>\n      <td>2116541</td>\n    </tr>\n    <tr>\n      <th>4</th>\n      <td>2019</td>\n      <td>2</td>\n      <td>ACIR GURGACZ</td>\n      <td>Aluguel de imóveis para escritório político, c...</td>\n      <td>05.914.650/0001-66</td>\n      <td>ENERGISA</td>\n      <td>007236036</td>\n      <td>04/02/2019</td>\n      <td>Despesa com pagamento de energia elétrica para...</td>\n      <td>99,45</td>\n      <td>2116550</td>\n    </tr>\n    <tr>\n      <th>...</th>\n      <td>...</td>\n      <td>...</td>\n      <td>...</td>\n      <td>...</td>\n      <td>...</td>\n      <td>...</td>\n      <td>...</td>\n      <td>...</td>\n      <td>...</td>\n      <td>...</td>\n      <td>...</td>\n    </tr>\n    <tr>\n      <th>16803</th>\n      <td>2021</td>\n      <td>12</td>\n      <td>ZEQUINHA MARINHO</td>\n      <td>Passagens aéreas, aquáticas e terrestres nacio...</td>\n      <td>22.052.777/0001-32</td>\n      <td>Exceller Tour</td>\n      <td>GDAONA</td>\n      <td>01/12/2021</td>\n      <td>Companhia Aérea: GOL, Localizador: GDAONA. Pas...</td>\n      <td>1715,45</td>\n      <td>2170983</td>\n    </tr>\n    <tr>\n      <th>16804</th>\n      <td>2021</td>\n      <td>12</td>\n      <td>ZEQUINHA MARINHO</td>\n      <td>Passagens aéreas, aquáticas e terrestres nacio...</td>\n      <td>22.052.777/0001-32</td>\n      <td>Exceller Tour</td>\n      <td>JFQVZP</td>\n      <td>15/12/2021</td>\n      <td>Companhia Aérea: LATAM, Localizador: JFQVZP. P...</td>\n      <td>2489,29</td>\n      <td>2172263</td>\n    </tr>\n    <tr>\n      <th>16805</th>\n      <td>2021</td>\n      <td>12</td>\n      <td>ZEQUINHA MARINHO</td>\n      <td>Passagens aéreas, aquáticas e terrestres nacio...</td>\n      <td>22.052.777/0001-32</td>\n      <td>Exceller Tour</td>\n      <td>SSKEOB</td>\n      <td>17/12/2021</td>\n      <td>Companhia Aérea: GOL, Localizador: SSKEOB. Pas...</td>\n      <td>1486,66</td>\n      <td>2172717</td>\n    </tr>\n    <tr>\n      <th>16806</th>\n      <td>2021</td>\n      <td>12</td>\n      <td>ZEQUINHA MARINHO</td>\n      <td>Passagens aéreas, aquáticas e terrestres nacio...</td>\n      <td>22.052.777/0001-32</td>\n      <td>Exceller Tour</td>\n      <td>ZICCEX</td>\n      <td>27/12/2021</td>\n      <td>Companhia Aérea: LATAM, Localizador: ZICCEX. P...</td>\n      <td>2515,56</td>\n      <td>2173239</td>\n    </tr>\n    <tr>\n      <th>16807</th>\n      <td>2021</td>\n      <td>12</td>\n      <td>ZEQUINHA MARINHO</td>\n      <td>Passagens aéreas, aquáticas e terrestres nacio...</td>\n      <td>22.052.777/0001-32</td>\n      <td>Exceller Tour</td>\n      <td>LM6FSK</td>\n      <td>29/12/2021</td>\n      <td>Companhia Aérea: AZUL, Localizador: LM6FSK. Pa...</td>\n      <td>1510,75</td>\n      <td>2173238</td>\n    </tr>\n  </tbody>\n</table>\n<p>52532 rows × 11 columns</p>\n</div>"
     },
     "execution_count": 37,
     "metadata": {},
     "output_type": "execute_result"
    }
   ],
   "source": [
    "dataset_deduplicated = dataset.drop_duplicates()\n",
    "dataset_deduplicated"
   ],
   "metadata": {
    "collapsed": false,
    "pycharm": {
     "name": "#%%\n"
    }
   }
  },
  {
   "cell_type": "markdown",
   "source": [
    "# Check null values"
   ],
   "metadata": {
    "collapsed": false,
    "pycharm": {
     "name": "#%% md\n"
    }
   }
  },
  {
   "cell_type": "code",
   "execution_count": 39,
   "outputs": [
    {
     "data": {
      "text/plain": "ANO                      0\nMES                      0\nSENADOR                  0\nTIPO_DESPESA             0\nCNPJ_CPF                 0\nFORNECEDOR               0\nDOCUMENTO             2029\nDATA                     0\nDETALHAMENTO         23019\nVALOR_REEMBOLSADO        0\nCOD_DOCUMENTO            0\ndtype: int64"
     },
     "execution_count": 39,
     "metadata": {},
     "output_type": "execute_result"
    }
   ],
   "source": [
    "dataset_deduplicated.isna().sum()"
   ],
   "metadata": {
    "collapsed": false,
    "pycharm": {
     "name": "#%%\n"
    }
   }
  },
  {
   "cell_type": "code",
   "execution_count": 40,
   "outputs": [
    {
     "data": {
      "text/plain": "0        006582758\n1        006582755\n2            00119\n3         86161151\n4        007236036\n           ...    \n16803       GDAONA\n16804       JFQVZP\n16805       SSKEOB\n16806       ZICCEX\n16807       LM6FSK\nName: DOCUMENTO, Length: 52532, dtype: object"
     },
     "execution_count": 40,
     "metadata": {},
     "output_type": "execute_result"
    }
   ],
   "source": [
    "dataset_deduplicated['DOCUMENTO']"
   ],
   "metadata": {
    "collapsed": false,
    "pycharm": {
     "name": "#%%\n"
    }
   }
  },
  {
   "cell_type": "code",
   "execution_count": 41,
   "outputs": [
    {
     "data": {
      "text/plain": "0        Despesa com pagamento de energia elétrica do e...\n1        Despesa com pagamento de energia elétrica do e...\n2        Despesa com pagamento de aluguel de imóvel par...\n3        Despesa com pagamento de telefonia para o escr...\n4        Despesa com pagamento de energia elétrica para...\n                               ...                        \n16803    Companhia Aérea: GOL, Localizador: GDAONA. Pas...\n16804    Companhia Aérea: LATAM, Localizador: JFQVZP. P...\n16805    Companhia Aérea: GOL, Localizador: SSKEOB. Pas...\n16806    Companhia Aérea: LATAM, Localizador: ZICCEX. P...\n16807    Companhia Aérea: AZUL, Localizador: LM6FSK. Pa...\nName: DETALHAMENTO, Length: 52532, dtype: object"
     },
     "execution_count": 41,
     "metadata": {},
     "output_type": "execute_result"
    }
   ],
   "source": [
    "dataset_deduplicated['DETALHAMENTO']"
   ],
   "metadata": {
    "collapsed": false,
    "pycharm": {
     "name": "#%%\n"
    }
   }
  },
  {
   "cell_type": "markdown",
   "source": [
    "### The two attributes above have a considerable amount of null values. For the moment, I will remove them. Because I would need more time to study the content of both and apply the correct technique."
   ],
   "metadata": {
    "collapsed": false,
    "pycharm": {
     "name": "#%% md\n"
    }
   }
  },
  {
   "cell_type": "code",
   "execution_count": 44,
   "outputs": [
    {
     "data": {
      "text/plain": "        ANO  MES           SENADOR  \\\n0      2019    1      ACIR GURGACZ   \n1      2019    1      ACIR GURGACZ   \n2      2019    1      ACIR GURGACZ   \n3      2019    1      ACIR GURGACZ   \n4      2019    2      ACIR GURGACZ   \n...     ...  ...               ...   \n16803  2021   12  ZEQUINHA MARINHO   \n16804  2021   12  ZEQUINHA MARINHO   \n16805  2021   12  ZEQUINHA MARINHO   \n16806  2021   12  ZEQUINHA MARINHO   \n16807  2021   12  ZEQUINHA MARINHO   \n\n                                            TIPO_DESPESA            CNPJ_CPF  \\\n0      Aluguel de imóveis para escritório político, c...  05.914.650/0001-66   \n1      Aluguel de imóveis para escritório político, c...  05.914.650/0001-66   \n2      Aluguel de imóveis para escritório político, c...      004.948.028-63   \n3      Aluguel de imóveis para escritório político, c...  05.423.963/0001-11   \n4      Aluguel de imóveis para escritório político, c...  05.914.650/0001-66   \n...                                                  ...                 ...   \n16803  Passagens aéreas, aquáticas e terrestres nacio...  22.052.777/0001-32   \n16804  Passagens aéreas, aquáticas e terrestres nacio...  22.052.777/0001-32   \n16805  Passagens aéreas, aquáticas e terrestres nacio...  22.052.777/0001-32   \n16806  Passagens aéreas, aquáticas e terrestres nacio...  22.052.777/0001-32   \n16807  Passagens aéreas, aquáticas e terrestres nacio...  22.052.777/0001-32   \n\n                          FORNECEDOR        DATA VALOR_REEMBOLSADO  \\\n0                           ENERGISA  04/01/2019             66,02   \n1                           ENERGISA  04/01/2019            139,98   \n2      GILBERTO PISELO DO NASCIMENTO  07/01/2019              6000   \n3                      OI MÓVEL S.A.  25/12/2018            316,39   \n4                           ENERGISA  04/02/2019             99,45   \n...                              ...         ...               ...   \n16803                  Exceller Tour  01/12/2021           1715,45   \n16804                  Exceller Tour  15/12/2021           2489,29   \n16805                  Exceller Tour  17/12/2021           1486,66   \n16806                  Exceller Tour  27/12/2021           2515,56   \n16807                  Exceller Tour  29/12/2021           1510,75   \n\n       COD_DOCUMENTO  \n0            2116543  \n1            2116546  \n2            2113817  \n3            2116541  \n4            2116550  \n...              ...  \n16803        2170983  \n16804        2172263  \n16805        2172717  \n16806        2173239  \n16807        2173238  \n\n[52532 rows x 9 columns]",
      "text/html": "<div>\n<style scoped>\n    .dataframe tbody tr th:only-of-type {\n        vertical-align: middle;\n    }\n\n    .dataframe tbody tr th {\n        vertical-align: top;\n    }\n\n    .dataframe thead th {\n        text-align: right;\n    }\n</style>\n<table border=\"1\" class=\"dataframe\">\n  <thead>\n    <tr style=\"text-align: right;\">\n      <th></th>\n      <th>ANO</th>\n      <th>MES</th>\n      <th>SENADOR</th>\n      <th>TIPO_DESPESA</th>\n      <th>CNPJ_CPF</th>\n      <th>FORNECEDOR</th>\n      <th>DATA</th>\n      <th>VALOR_REEMBOLSADO</th>\n      <th>COD_DOCUMENTO</th>\n    </tr>\n  </thead>\n  <tbody>\n    <tr>\n      <th>0</th>\n      <td>2019</td>\n      <td>1</td>\n      <td>ACIR GURGACZ</td>\n      <td>Aluguel de imóveis para escritório político, c...</td>\n      <td>05.914.650/0001-66</td>\n      <td>ENERGISA</td>\n      <td>04/01/2019</td>\n      <td>66,02</td>\n      <td>2116543</td>\n    </tr>\n    <tr>\n      <th>1</th>\n      <td>2019</td>\n      <td>1</td>\n      <td>ACIR GURGACZ</td>\n      <td>Aluguel de imóveis para escritório político, c...</td>\n      <td>05.914.650/0001-66</td>\n      <td>ENERGISA</td>\n      <td>04/01/2019</td>\n      <td>139,98</td>\n      <td>2116546</td>\n    </tr>\n    <tr>\n      <th>2</th>\n      <td>2019</td>\n      <td>1</td>\n      <td>ACIR GURGACZ</td>\n      <td>Aluguel de imóveis para escritório político, c...</td>\n      <td>004.948.028-63</td>\n      <td>GILBERTO PISELO DO NASCIMENTO</td>\n      <td>07/01/2019</td>\n      <td>6000</td>\n      <td>2113817</td>\n    </tr>\n    <tr>\n      <th>3</th>\n      <td>2019</td>\n      <td>1</td>\n      <td>ACIR GURGACZ</td>\n      <td>Aluguel de imóveis para escritório político, c...</td>\n      <td>05.423.963/0001-11</td>\n      <td>OI MÓVEL S.A.</td>\n      <td>25/12/2018</td>\n      <td>316,39</td>\n      <td>2116541</td>\n    </tr>\n    <tr>\n      <th>4</th>\n      <td>2019</td>\n      <td>2</td>\n      <td>ACIR GURGACZ</td>\n      <td>Aluguel de imóveis para escritório político, c...</td>\n      <td>05.914.650/0001-66</td>\n      <td>ENERGISA</td>\n      <td>04/02/2019</td>\n      <td>99,45</td>\n      <td>2116550</td>\n    </tr>\n    <tr>\n      <th>...</th>\n      <td>...</td>\n      <td>...</td>\n      <td>...</td>\n      <td>...</td>\n      <td>...</td>\n      <td>...</td>\n      <td>...</td>\n      <td>...</td>\n      <td>...</td>\n    </tr>\n    <tr>\n      <th>16803</th>\n      <td>2021</td>\n      <td>12</td>\n      <td>ZEQUINHA MARINHO</td>\n      <td>Passagens aéreas, aquáticas e terrestres nacio...</td>\n      <td>22.052.777/0001-32</td>\n      <td>Exceller Tour</td>\n      <td>01/12/2021</td>\n      <td>1715,45</td>\n      <td>2170983</td>\n    </tr>\n    <tr>\n      <th>16804</th>\n      <td>2021</td>\n      <td>12</td>\n      <td>ZEQUINHA MARINHO</td>\n      <td>Passagens aéreas, aquáticas e terrestres nacio...</td>\n      <td>22.052.777/0001-32</td>\n      <td>Exceller Tour</td>\n      <td>15/12/2021</td>\n      <td>2489,29</td>\n      <td>2172263</td>\n    </tr>\n    <tr>\n      <th>16805</th>\n      <td>2021</td>\n      <td>12</td>\n      <td>ZEQUINHA MARINHO</td>\n      <td>Passagens aéreas, aquáticas e terrestres nacio...</td>\n      <td>22.052.777/0001-32</td>\n      <td>Exceller Tour</td>\n      <td>17/12/2021</td>\n      <td>1486,66</td>\n      <td>2172717</td>\n    </tr>\n    <tr>\n      <th>16806</th>\n      <td>2021</td>\n      <td>12</td>\n      <td>ZEQUINHA MARINHO</td>\n      <td>Passagens aéreas, aquáticas e terrestres nacio...</td>\n      <td>22.052.777/0001-32</td>\n      <td>Exceller Tour</td>\n      <td>27/12/2021</td>\n      <td>2515,56</td>\n      <td>2173239</td>\n    </tr>\n    <tr>\n      <th>16807</th>\n      <td>2021</td>\n      <td>12</td>\n      <td>ZEQUINHA MARINHO</td>\n      <td>Passagens aéreas, aquáticas e terrestres nacio...</td>\n      <td>22.052.777/0001-32</td>\n      <td>Exceller Tour</td>\n      <td>29/12/2021</td>\n      <td>1510,75</td>\n      <td>2173238</td>\n    </tr>\n  </tbody>\n</table>\n<p>52532 rows × 9 columns</p>\n</div>"
     },
     "execution_count": 44,
     "metadata": {},
     "output_type": "execute_result"
    }
   ],
   "source": [
    "dataset_no_nan = dataset_deduplicated.drop(['DOCUMENTO', 'DETALHAMENTO'], axis=1)\n",
    "dataset_no_nan"
   ],
   "metadata": {
    "collapsed": false,
    "pycharm": {
     "name": "#%%\n"
    }
   }
  },
  {
   "cell_type": "markdown",
   "source": [
    "# Treat date field"
   ],
   "metadata": {
    "collapsed": false,
    "pycharm": {
     "name": "#%% md\n"
    }
   }
  },
  {
   "cell_type": "code",
   "execution_count": 50,
   "outputs": [
    {
     "data": {
      "text/plain": "02/12/2019    144\n01/10/2019    140\n02/03/2020    131\n01/07/2019    131\n01/12/2021    130\n             ... \n17/03/2018      1\n12/04/2018      1\n21/01/2022      1\n22/08/2018      1\n12/02/2022      1\nName: DATA, Length: 1192, dtype: int64"
     },
     "execution_count": 50,
     "metadata": {},
     "output_type": "execute_result"
    }
   ],
   "source": [
    "dataset_no_nan['DATA'].value_counts()"
   ],
   "metadata": {
    "collapsed": false,
    "pycharm": {
     "name": "#%%\n"
    }
   }
  },
  {
   "cell_type": "markdown",
   "source": [
    "## Handling dates that are in error in the conversion"
   ],
   "metadata": {
    "collapsed": false,
    "pycharm": {
     "name": "#%% md\n"
    }
   }
  },
  {
   "cell_type": "code",
   "execution_count": 77,
   "outputs": [
    {
     "name": "stdout",
     "output_type": "stream",
     "text": [
      "DATA: 31/01/0219 AUX: 10986\n",
      "DATA: 05/05/0202 AUX: 31996\n",
      "DATA: 29/10/0202 AUX: 37870\n"
     ]
    }
   ],
   "source": [
    "aux = 0\n",
    "for date in dataset_no_nan['DATA']:\n",
    "    try:\n",
    "        pd.to_datetime([date], infer_datetime_format=True)\n",
    "    except ValueError:\n",
    "        print(f'DATA: {date} AUX: {aux}')\n",
    "    aux += 1\n"
   ],
   "metadata": {
    "collapsed": false,
    "pycharm": {
     "name": "#%%\n"
    }
   }
  },
  {
   "cell_type": "code",
   "execution_count": 86,
   "outputs": [
    {
     "data": {
      "text/plain": "       ANO  MES       SENADOR  \\\n2146  2021   11  CARLOS VIANA   \n\n                                           TIPO_DESPESA            CNPJ_CPF  \\\n2146  Passagens aéreas, aquáticas e terrestres nacio...  16.978.175/0001-08   \n\n                        FORNECEDOR        DATA VALOR_REEMBOLSADO  \\\n2146  ADRIA VIAGENS E TURISMO LTDA  29/10/0202             339,9   \n\n      COD_DOCUMENTO  \n2146        2169237  ",
      "text/html": "<div>\n<style scoped>\n    .dataframe tbody tr th:only-of-type {\n        vertical-align: middle;\n    }\n\n    .dataframe tbody tr th {\n        vertical-align: top;\n    }\n\n    .dataframe thead th {\n        text-align: right;\n    }\n</style>\n<table border=\"1\" class=\"dataframe\">\n  <thead>\n    <tr style=\"text-align: right;\">\n      <th></th>\n      <th>ANO</th>\n      <th>MES</th>\n      <th>SENADOR</th>\n      <th>TIPO_DESPESA</th>\n      <th>CNPJ_CPF</th>\n      <th>FORNECEDOR</th>\n      <th>DATA</th>\n      <th>VALOR_REEMBOLSADO</th>\n      <th>COD_DOCUMENTO</th>\n    </tr>\n  </thead>\n  <tbody>\n    <tr>\n      <th>2146</th>\n      <td>2021</td>\n      <td>11</td>\n      <td>CARLOS VIANA</td>\n      <td>Passagens aéreas, aquáticas e terrestres nacio...</td>\n      <td>16.978.175/0001-08</td>\n      <td>ADRIA VIAGENS E TURISMO LTDA</td>\n      <td>29/10/0202</td>\n      <td>339,9</td>\n      <td>2169237</td>\n    </tr>\n  </tbody>\n</table>\n</div>"
     },
     "execution_count": 86,
     "metadata": {},
     "output_type": "execute_result"
    }
   ],
   "source": [
    "dataset_no_nan.iloc[[37870]]"
   ],
   "metadata": {
    "collapsed": false,
    "pycharm": {
     "name": "#%%\n"
    }
   }
  },
  {
   "cell_type": "markdown",
   "source": [
    "## Change the wrong dates"
   ],
   "metadata": {
    "collapsed": false,
    "pycharm": {
     "name": "#%% md\n"
    }
   }
  },
  {
   "cell_type": "code",
   "execution_count": 116,
   "outputs": [
    {
     "data": {
      "text/plain": "        ANO  MES           SENADOR  \\\n0      2019    1      ACIR GURGACZ   \n1      2019    1      ACIR GURGACZ   \n2      2019    1      ACIR GURGACZ   \n3      2019    1      ACIR GURGACZ   \n4      2019    2      ACIR GURGACZ   \n...     ...  ...               ...   \n16803  2021   12  ZEQUINHA MARINHO   \n16804  2021   12  ZEQUINHA MARINHO   \n16805  2021   12  ZEQUINHA MARINHO   \n16806  2021   12  ZEQUINHA MARINHO   \n16807  2021   12  ZEQUINHA MARINHO   \n\n                                            TIPO_DESPESA            CNPJ_CPF  \\\n0      Aluguel de imóveis para escritório político, c...  05.914.650/0001-66   \n1      Aluguel de imóveis para escritório político, c...  05.914.650/0001-66   \n2      Aluguel de imóveis para escritório político, c...      004.948.028-63   \n3      Aluguel de imóveis para escritório político, c...  05.423.963/0001-11   \n4      Aluguel de imóveis para escritório político, c...  05.914.650/0001-66   \n...                                                  ...                 ...   \n16803  Passagens aéreas, aquáticas e terrestres nacio...  22.052.777/0001-32   \n16804  Passagens aéreas, aquáticas e terrestres nacio...  22.052.777/0001-32   \n16805  Passagens aéreas, aquáticas e terrestres nacio...  22.052.777/0001-32   \n16806  Passagens aéreas, aquáticas e terrestres nacio...  22.052.777/0001-32   \n16807  Passagens aéreas, aquáticas e terrestres nacio...  22.052.777/0001-32   \n\n                          FORNECEDOR        DATA VALOR_REEMBOLSADO  \\\n0                           ENERGISA  04/01/2019             66,02   \n1                           ENERGISA  04/01/2019            139,98   \n2      GILBERTO PISELO DO NASCIMENTO  07/01/2019              6000   \n3                      OI MÓVEL S.A.  25/12/2018            316,39   \n4                           ENERGISA  04/02/2019             99,45   \n...                              ...         ...               ...   \n16803                  Exceller Tour  01/12/2021           1715,45   \n16804                  Exceller Tour  15/12/2021           2489,29   \n16805                  Exceller Tour  17/12/2021           1486,66   \n16806                  Exceller Tour  27/12/2021           2515,56   \n16807                  Exceller Tour  29/12/2021           1510,75   \n\n       COD_DOCUMENTO  \n0            2116543  \n1            2116546  \n2            2113817  \n3            2116541  \n4            2116550  \n...              ...  \n16803        2170983  \n16804        2172263  \n16805        2172717  \n16806        2173239  \n16807        2173238  \n\n[52532 rows x 9 columns]",
      "text/html": "<div>\n<style scoped>\n    .dataframe tbody tr th:only-of-type {\n        vertical-align: middle;\n    }\n\n    .dataframe tbody tr th {\n        vertical-align: top;\n    }\n\n    .dataframe thead th {\n        text-align: right;\n    }\n</style>\n<table border=\"1\" class=\"dataframe\">\n  <thead>\n    <tr style=\"text-align: right;\">\n      <th></th>\n      <th>ANO</th>\n      <th>MES</th>\n      <th>SENADOR</th>\n      <th>TIPO_DESPESA</th>\n      <th>CNPJ_CPF</th>\n      <th>FORNECEDOR</th>\n      <th>DATA</th>\n      <th>VALOR_REEMBOLSADO</th>\n      <th>COD_DOCUMENTO</th>\n    </tr>\n  </thead>\n  <tbody>\n    <tr>\n      <th>0</th>\n      <td>2019</td>\n      <td>1</td>\n      <td>ACIR GURGACZ</td>\n      <td>Aluguel de imóveis para escritório político, c...</td>\n      <td>05.914.650/0001-66</td>\n      <td>ENERGISA</td>\n      <td>04/01/2019</td>\n      <td>66,02</td>\n      <td>2116543</td>\n    </tr>\n    <tr>\n      <th>1</th>\n      <td>2019</td>\n      <td>1</td>\n      <td>ACIR GURGACZ</td>\n      <td>Aluguel de imóveis para escritório político, c...</td>\n      <td>05.914.650/0001-66</td>\n      <td>ENERGISA</td>\n      <td>04/01/2019</td>\n      <td>139,98</td>\n      <td>2116546</td>\n    </tr>\n    <tr>\n      <th>2</th>\n      <td>2019</td>\n      <td>1</td>\n      <td>ACIR GURGACZ</td>\n      <td>Aluguel de imóveis para escritório político, c...</td>\n      <td>004.948.028-63</td>\n      <td>GILBERTO PISELO DO NASCIMENTO</td>\n      <td>07/01/2019</td>\n      <td>6000</td>\n      <td>2113817</td>\n    </tr>\n    <tr>\n      <th>3</th>\n      <td>2019</td>\n      <td>1</td>\n      <td>ACIR GURGACZ</td>\n      <td>Aluguel de imóveis para escritório político, c...</td>\n      <td>05.423.963/0001-11</td>\n      <td>OI MÓVEL S.A.</td>\n      <td>25/12/2018</td>\n      <td>316,39</td>\n      <td>2116541</td>\n    </tr>\n    <tr>\n      <th>4</th>\n      <td>2019</td>\n      <td>2</td>\n      <td>ACIR GURGACZ</td>\n      <td>Aluguel de imóveis para escritório político, c...</td>\n      <td>05.914.650/0001-66</td>\n      <td>ENERGISA</td>\n      <td>04/02/2019</td>\n      <td>99,45</td>\n      <td>2116550</td>\n    </tr>\n    <tr>\n      <th>...</th>\n      <td>...</td>\n      <td>...</td>\n      <td>...</td>\n      <td>...</td>\n      <td>...</td>\n      <td>...</td>\n      <td>...</td>\n      <td>...</td>\n      <td>...</td>\n    </tr>\n    <tr>\n      <th>16803</th>\n      <td>2021</td>\n      <td>12</td>\n      <td>ZEQUINHA MARINHO</td>\n      <td>Passagens aéreas, aquáticas e terrestres nacio...</td>\n      <td>22.052.777/0001-32</td>\n      <td>Exceller Tour</td>\n      <td>01/12/2021</td>\n      <td>1715,45</td>\n      <td>2170983</td>\n    </tr>\n    <tr>\n      <th>16804</th>\n      <td>2021</td>\n      <td>12</td>\n      <td>ZEQUINHA MARINHO</td>\n      <td>Passagens aéreas, aquáticas e terrestres nacio...</td>\n      <td>22.052.777/0001-32</td>\n      <td>Exceller Tour</td>\n      <td>15/12/2021</td>\n      <td>2489,29</td>\n      <td>2172263</td>\n    </tr>\n    <tr>\n      <th>16805</th>\n      <td>2021</td>\n      <td>12</td>\n      <td>ZEQUINHA MARINHO</td>\n      <td>Passagens aéreas, aquáticas e terrestres nacio...</td>\n      <td>22.052.777/0001-32</td>\n      <td>Exceller Tour</td>\n      <td>17/12/2021</td>\n      <td>1486,66</td>\n      <td>2172717</td>\n    </tr>\n    <tr>\n      <th>16806</th>\n      <td>2021</td>\n      <td>12</td>\n      <td>ZEQUINHA MARINHO</td>\n      <td>Passagens aéreas, aquáticas e terrestres nacio...</td>\n      <td>22.052.777/0001-32</td>\n      <td>Exceller Tour</td>\n      <td>27/12/2021</td>\n      <td>2515,56</td>\n      <td>2173239</td>\n    </tr>\n    <tr>\n      <th>16807</th>\n      <td>2021</td>\n      <td>12</td>\n      <td>ZEQUINHA MARINHO</td>\n      <td>Passagens aéreas, aquáticas e terrestres nacio...</td>\n      <td>22.052.777/0001-32</td>\n      <td>Exceller Tour</td>\n      <td>29/12/2021</td>\n      <td>1510,75</td>\n      <td>2173238</td>\n    </tr>\n  </tbody>\n</table>\n<p>52532 rows × 9 columns</p>\n</div>"
     },
     "execution_count": 116,
     "metadata": {},
     "output_type": "execute_result"
    }
   ],
   "source": [
    "dataset_replaced = dataset_no_nan.replace(to_replace=['31/01/0219'], value='31/01/2019')\n",
    "dataset_replaced = dataset_replaced.replace(to_replace=['05/05/0202'], value='05/05/2020')\n",
    "dataset_replaced = dataset_replaced.replace(to_replace=['29/10/0202'], value='29/10/2020')\n",
    "dataset_replaced"
   ],
   "metadata": {
    "collapsed": false,
    "pycharm": {
     "name": "#%%\n"
    }
   }
  },
  {
   "cell_type": "markdown",
   "source": [
    "## Convert the dates"
   ],
   "metadata": {
    "collapsed": false,
    "pycharm": {
     "name": "#%% md\n"
    }
   }
  },
  {
   "cell_type": "code",
   "execution_count": 118,
   "outputs": [
    {
     "data": {
      "text/plain": "        ANO  MES           SENADOR  \\\n0      2019    1      ACIR GURGACZ   \n1      2019    1      ACIR GURGACZ   \n2      2019    1      ACIR GURGACZ   \n3      2019    1      ACIR GURGACZ   \n4      2019    2      ACIR GURGACZ   \n...     ...  ...               ...   \n16803  2021   12  ZEQUINHA MARINHO   \n16804  2021   12  ZEQUINHA MARINHO   \n16805  2021   12  ZEQUINHA MARINHO   \n16806  2021   12  ZEQUINHA MARINHO   \n16807  2021   12  ZEQUINHA MARINHO   \n\n                                            TIPO_DESPESA            CNPJ_CPF  \\\n0      Aluguel de imóveis para escritório político, c...  05.914.650/0001-66   \n1      Aluguel de imóveis para escritório político, c...  05.914.650/0001-66   \n2      Aluguel de imóveis para escritório político, c...      004.948.028-63   \n3      Aluguel de imóveis para escritório político, c...  05.423.963/0001-11   \n4      Aluguel de imóveis para escritório político, c...  05.914.650/0001-66   \n...                                                  ...                 ...   \n16803  Passagens aéreas, aquáticas e terrestres nacio...  22.052.777/0001-32   \n16804  Passagens aéreas, aquáticas e terrestres nacio...  22.052.777/0001-32   \n16805  Passagens aéreas, aquáticas e terrestres nacio...  22.052.777/0001-32   \n16806  Passagens aéreas, aquáticas e terrestres nacio...  22.052.777/0001-32   \n16807  Passagens aéreas, aquáticas e terrestres nacio...  22.052.777/0001-32   \n\n                          FORNECEDOR       DATA VALOR_REEMBOLSADO  \\\n0                           ENERGISA 2019-01-04             66,02   \n1                           ENERGISA 2019-01-04            139,98   \n2      GILBERTO PISELO DO NASCIMENTO 2019-01-07              6000   \n3                      OI MÓVEL S.A. 2018-12-25            316,39   \n4                           ENERGISA 2019-02-04             99,45   \n...                              ...        ...               ...   \n16803                  Exceller Tour 2021-12-01           1715,45   \n16804                  Exceller Tour 2021-12-15           2489,29   \n16805                  Exceller Tour 2021-12-17           1486,66   \n16806                  Exceller Tour 2021-12-27           2515,56   \n16807                  Exceller Tour 2021-12-29           1510,75   \n\n       COD_DOCUMENTO  \n0            2116543  \n1            2116546  \n2            2113817  \n3            2116541  \n4            2116550  \n...              ...  \n16803        2170983  \n16804        2172263  \n16805        2172717  \n16806        2173239  \n16807        2173238  \n\n[52532 rows x 9 columns]",
      "text/html": "<div>\n<style scoped>\n    .dataframe tbody tr th:only-of-type {\n        vertical-align: middle;\n    }\n\n    .dataframe tbody tr th {\n        vertical-align: top;\n    }\n\n    .dataframe thead th {\n        text-align: right;\n    }\n</style>\n<table border=\"1\" class=\"dataframe\">\n  <thead>\n    <tr style=\"text-align: right;\">\n      <th></th>\n      <th>ANO</th>\n      <th>MES</th>\n      <th>SENADOR</th>\n      <th>TIPO_DESPESA</th>\n      <th>CNPJ_CPF</th>\n      <th>FORNECEDOR</th>\n      <th>DATA</th>\n      <th>VALOR_REEMBOLSADO</th>\n      <th>COD_DOCUMENTO</th>\n    </tr>\n  </thead>\n  <tbody>\n    <tr>\n      <th>0</th>\n      <td>2019</td>\n      <td>1</td>\n      <td>ACIR GURGACZ</td>\n      <td>Aluguel de imóveis para escritório político, c...</td>\n      <td>05.914.650/0001-66</td>\n      <td>ENERGISA</td>\n      <td>2019-01-04</td>\n      <td>66,02</td>\n      <td>2116543</td>\n    </tr>\n    <tr>\n      <th>1</th>\n      <td>2019</td>\n      <td>1</td>\n      <td>ACIR GURGACZ</td>\n      <td>Aluguel de imóveis para escritório político, c...</td>\n      <td>05.914.650/0001-66</td>\n      <td>ENERGISA</td>\n      <td>2019-01-04</td>\n      <td>139,98</td>\n      <td>2116546</td>\n    </tr>\n    <tr>\n      <th>2</th>\n      <td>2019</td>\n      <td>1</td>\n      <td>ACIR GURGACZ</td>\n      <td>Aluguel de imóveis para escritório político, c...</td>\n      <td>004.948.028-63</td>\n      <td>GILBERTO PISELO DO NASCIMENTO</td>\n      <td>2019-01-07</td>\n      <td>6000</td>\n      <td>2113817</td>\n    </tr>\n    <tr>\n      <th>3</th>\n      <td>2019</td>\n      <td>1</td>\n      <td>ACIR GURGACZ</td>\n      <td>Aluguel de imóveis para escritório político, c...</td>\n      <td>05.423.963/0001-11</td>\n      <td>OI MÓVEL S.A.</td>\n      <td>2018-12-25</td>\n      <td>316,39</td>\n      <td>2116541</td>\n    </tr>\n    <tr>\n      <th>4</th>\n      <td>2019</td>\n      <td>2</td>\n      <td>ACIR GURGACZ</td>\n      <td>Aluguel de imóveis para escritório político, c...</td>\n      <td>05.914.650/0001-66</td>\n      <td>ENERGISA</td>\n      <td>2019-02-04</td>\n      <td>99,45</td>\n      <td>2116550</td>\n    </tr>\n    <tr>\n      <th>...</th>\n      <td>...</td>\n      <td>...</td>\n      <td>...</td>\n      <td>...</td>\n      <td>...</td>\n      <td>...</td>\n      <td>...</td>\n      <td>...</td>\n      <td>...</td>\n    </tr>\n    <tr>\n      <th>16803</th>\n      <td>2021</td>\n      <td>12</td>\n      <td>ZEQUINHA MARINHO</td>\n      <td>Passagens aéreas, aquáticas e terrestres nacio...</td>\n      <td>22.052.777/0001-32</td>\n      <td>Exceller Tour</td>\n      <td>2021-12-01</td>\n      <td>1715,45</td>\n      <td>2170983</td>\n    </tr>\n    <tr>\n      <th>16804</th>\n      <td>2021</td>\n      <td>12</td>\n      <td>ZEQUINHA MARINHO</td>\n      <td>Passagens aéreas, aquáticas e terrestres nacio...</td>\n      <td>22.052.777/0001-32</td>\n      <td>Exceller Tour</td>\n      <td>2021-12-15</td>\n      <td>2489,29</td>\n      <td>2172263</td>\n    </tr>\n    <tr>\n      <th>16805</th>\n      <td>2021</td>\n      <td>12</td>\n      <td>ZEQUINHA MARINHO</td>\n      <td>Passagens aéreas, aquáticas e terrestres nacio...</td>\n      <td>22.052.777/0001-32</td>\n      <td>Exceller Tour</td>\n      <td>2021-12-17</td>\n      <td>1486,66</td>\n      <td>2172717</td>\n    </tr>\n    <tr>\n      <th>16806</th>\n      <td>2021</td>\n      <td>12</td>\n      <td>ZEQUINHA MARINHO</td>\n      <td>Passagens aéreas, aquáticas e terrestres nacio...</td>\n      <td>22.052.777/0001-32</td>\n      <td>Exceller Tour</td>\n      <td>2021-12-27</td>\n      <td>2515,56</td>\n      <td>2173239</td>\n    </tr>\n    <tr>\n      <th>16807</th>\n      <td>2021</td>\n      <td>12</td>\n      <td>ZEQUINHA MARINHO</td>\n      <td>Passagens aéreas, aquáticas e terrestres nacio...</td>\n      <td>22.052.777/0001-32</td>\n      <td>Exceller Tour</td>\n      <td>2021-12-29</td>\n      <td>1510,75</td>\n      <td>2173238</td>\n    </tr>\n  </tbody>\n</table>\n<p>52532 rows × 9 columns</p>\n</div>"
     },
     "execution_count": 118,
     "metadata": {},
     "output_type": "execute_result"
    }
   ],
   "source": [
    "dataset_replaced['DATA'] = pd.to_datetime(dataset_replaced['DATA'], format=\"%d/%m/%Y\")\n",
    "dataset_replaced"
   ],
   "metadata": {
    "collapsed": false,
    "pycharm": {
     "name": "#%%\n"
    }
   }
  },
  {
   "cell_type": "markdown",
   "source": [
    "# Correct monetary values"
   ],
   "metadata": {
    "collapsed": false,
    "pycharm": {
     "name": "#%% md\n"
    }
   }
  },
  {
   "cell_type": "markdown",
   "source": [
    "## Created a function to replace comma to dot and transform in float number. After, apply function in dataset."
   ],
   "metadata": {
    "collapsed": false,
    "pycharm": {
     "name": "#%% md\n"
    }
   }
  },
  {
   "cell_type": "code",
   "execution_count": 111,
   "outputs": [
    {
     "data": {
      "text/plain": "        ANO  MES           SENADOR  \\\n0      2019    1      ACIR GURGACZ   \n1      2019    1      ACIR GURGACZ   \n2      2019    1      ACIR GURGACZ   \n3      2019    1      ACIR GURGACZ   \n4      2019    2      ACIR GURGACZ   \n...     ...  ...               ...   \n16803  2021   12  ZEQUINHA MARINHO   \n16804  2021   12  ZEQUINHA MARINHO   \n16805  2021   12  ZEQUINHA MARINHO   \n16806  2021   12  ZEQUINHA MARINHO   \n16807  2021   12  ZEQUINHA MARINHO   \n\n                                            TIPO_DESPESA            CNPJ_CPF  \\\n0      Aluguel de imóveis para escritório político, c...  05.914.650/0001-66   \n1      Aluguel de imóveis para escritório político, c...  05.914.650/0001-66   \n2      Aluguel de imóveis para escritório político, c...      004.948.028-63   \n3      Aluguel de imóveis para escritório político, c...  05.423.963/0001-11   \n4      Aluguel de imóveis para escritório político, c...  05.914.650/0001-66   \n...                                                  ...                 ...   \n16803  Passagens aéreas, aquáticas e terrestres nacio...  22.052.777/0001-32   \n16804  Passagens aéreas, aquáticas e terrestres nacio...  22.052.777/0001-32   \n16805  Passagens aéreas, aquáticas e terrestres nacio...  22.052.777/0001-32   \n16806  Passagens aéreas, aquáticas e terrestres nacio...  22.052.777/0001-32   \n16807  Passagens aéreas, aquáticas e terrestres nacio...  22.052.777/0001-32   \n\n                          FORNECEDOR       DATA  VALOR_REEMBOLSADO  \\\n0                           ENERGISA 2019-04-01              66.02   \n1                           ENERGISA 2019-04-01             139.98   \n2      GILBERTO PISELO DO NASCIMENTO 2019-07-01            6000.00   \n3                      OI MÓVEL S.A. 2018-12-25             316.39   \n4                           ENERGISA 2019-04-02              99.45   \n...                              ...        ...                ...   \n16803                  Exceller Tour 2021-01-12            1715.45   \n16804                  Exceller Tour 2021-12-15            2489.29   \n16805                  Exceller Tour 2021-12-17            1486.66   \n16806                  Exceller Tour 2021-12-27            2515.56   \n16807                  Exceller Tour 2021-12-29            1510.75   \n\n       COD_DOCUMENTO  \n0            2116543  \n1            2116546  \n2            2113817  \n3            2116541  \n4            2116550  \n...              ...  \n16803        2170983  \n16804        2172263  \n16805        2172717  \n16806        2173239  \n16807        2173238  \n\n[52532 rows x 9 columns]",
      "text/html": "<div>\n<style scoped>\n    .dataframe tbody tr th:only-of-type {\n        vertical-align: middle;\n    }\n\n    .dataframe tbody tr th {\n        vertical-align: top;\n    }\n\n    .dataframe thead th {\n        text-align: right;\n    }\n</style>\n<table border=\"1\" class=\"dataframe\">\n  <thead>\n    <tr style=\"text-align: right;\">\n      <th></th>\n      <th>ANO</th>\n      <th>MES</th>\n      <th>SENADOR</th>\n      <th>TIPO_DESPESA</th>\n      <th>CNPJ_CPF</th>\n      <th>FORNECEDOR</th>\n      <th>DATA</th>\n      <th>VALOR_REEMBOLSADO</th>\n      <th>COD_DOCUMENTO</th>\n    </tr>\n  </thead>\n  <tbody>\n    <tr>\n      <th>0</th>\n      <td>2019</td>\n      <td>1</td>\n      <td>ACIR GURGACZ</td>\n      <td>Aluguel de imóveis para escritório político, c...</td>\n      <td>05.914.650/0001-66</td>\n      <td>ENERGISA</td>\n      <td>2019-04-01</td>\n      <td>66.02</td>\n      <td>2116543</td>\n    </tr>\n    <tr>\n      <th>1</th>\n      <td>2019</td>\n      <td>1</td>\n      <td>ACIR GURGACZ</td>\n      <td>Aluguel de imóveis para escritório político, c...</td>\n      <td>05.914.650/0001-66</td>\n      <td>ENERGISA</td>\n      <td>2019-04-01</td>\n      <td>139.98</td>\n      <td>2116546</td>\n    </tr>\n    <tr>\n      <th>2</th>\n      <td>2019</td>\n      <td>1</td>\n      <td>ACIR GURGACZ</td>\n      <td>Aluguel de imóveis para escritório político, c...</td>\n      <td>004.948.028-63</td>\n      <td>GILBERTO PISELO DO NASCIMENTO</td>\n      <td>2019-07-01</td>\n      <td>6000.00</td>\n      <td>2113817</td>\n    </tr>\n    <tr>\n      <th>3</th>\n      <td>2019</td>\n      <td>1</td>\n      <td>ACIR GURGACZ</td>\n      <td>Aluguel de imóveis para escritório político, c...</td>\n      <td>05.423.963/0001-11</td>\n      <td>OI MÓVEL S.A.</td>\n      <td>2018-12-25</td>\n      <td>316.39</td>\n      <td>2116541</td>\n    </tr>\n    <tr>\n      <th>4</th>\n      <td>2019</td>\n      <td>2</td>\n      <td>ACIR GURGACZ</td>\n      <td>Aluguel de imóveis para escritório político, c...</td>\n      <td>05.914.650/0001-66</td>\n      <td>ENERGISA</td>\n      <td>2019-04-02</td>\n      <td>99.45</td>\n      <td>2116550</td>\n    </tr>\n    <tr>\n      <th>...</th>\n      <td>...</td>\n      <td>...</td>\n      <td>...</td>\n      <td>...</td>\n      <td>...</td>\n      <td>...</td>\n      <td>...</td>\n      <td>...</td>\n      <td>...</td>\n    </tr>\n    <tr>\n      <th>16803</th>\n      <td>2021</td>\n      <td>12</td>\n      <td>ZEQUINHA MARINHO</td>\n      <td>Passagens aéreas, aquáticas e terrestres nacio...</td>\n      <td>22.052.777/0001-32</td>\n      <td>Exceller Tour</td>\n      <td>2021-01-12</td>\n      <td>1715.45</td>\n      <td>2170983</td>\n    </tr>\n    <tr>\n      <th>16804</th>\n      <td>2021</td>\n      <td>12</td>\n      <td>ZEQUINHA MARINHO</td>\n      <td>Passagens aéreas, aquáticas e terrestres nacio...</td>\n      <td>22.052.777/0001-32</td>\n      <td>Exceller Tour</td>\n      <td>2021-12-15</td>\n      <td>2489.29</td>\n      <td>2172263</td>\n    </tr>\n    <tr>\n      <th>16805</th>\n      <td>2021</td>\n      <td>12</td>\n      <td>ZEQUINHA MARINHO</td>\n      <td>Passagens aéreas, aquáticas e terrestres nacio...</td>\n      <td>22.052.777/0001-32</td>\n      <td>Exceller Tour</td>\n      <td>2021-12-17</td>\n      <td>1486.66</td>\n      <td>2172717</td>\n    </tr>\n    <tr>\n      <th>16806</th>\n      <td>2021</td>\n      <td>12</td>\n      <td>ZEQUINHA MARINHO</td>\n      <td>Passagens aéreas, aquáticas e terrestres nacio...</td>\n      <td>22.052.777/0001-32</td>\n      <td>Exceller Tour</td>\n      <td>2021-12-27</td>\n      <td>2515.56</td>\n      <td>2173239</td>\n    </tr>\n    <tr>\n      <th>16807</th>\n      <td>2021</td>\n      <td>12</td>\n      <td>ZEQUINHA MARINHO</td>\n      <td>Passagens aéreas, aquáticas e terrestres nacio...</td>\n      <td>22.052.777/0001-32</td>\n      <td>Exceller Tour</td>\n      <td>2021-12-29</td>\n      <td>1510.75</td>\n      <td>2173238</td>\n    </tr>\n  </tbody>\n</table>\n<p>52532 rows × 9 columns</p>\n</div>"
     },
     "execution_count": 111,
     "metadata": {},
     "output_type": "execute_result"
    }
   ],
   "source": [
    "dataset_correct_monetary_value = dataset_replaced.copy()\n",
    "\n",
    "def convert_string_to_float(value):\n",
    "    return float(value.replace(',','.'))\n",
    "\n",
    "dataset_correct_monetary_value['VALOR_REEMBOLSADO'] = dataset_correct_monetary_value['VALOR_REEMBOLSADO'].apply(convert_string_to_float)\n",
    "dataset_correct_monetary_value"
   ],
   "metadata": {
    "collapsed": false,
    "pycharm": {
     "name": "#%%\n"
    }
   }
  },
  {
   "cell_type": "markdown",
   "source": [
    "# Treat names field"
   ],
   "metadata": {
    "collapsed": false,
    "pycharm": {
     "name": "#%% md\n"
    }
   }
  },
  {
   "cell_type": "markdown",
   "source": [
    "## Apparently there are no senator names wrong"
   ],
   "metadata": {
    "collapsed": false,
    "pycharm": {
     "name": "#%% md\n"
    }
   }
  },
  {
   "cell_type": "code",
   "execution_count": 114,
   "outputs": [
    {
     "data": {
      "text/plain": "CARLOS VIANA            1739\nWELLINGTON FAGUNDES     1689\nJAQUES WAGNER           1547\nPAULO PAIM              1449\nZEQUINHA MARINHO        1391\n                        ... \nHÉLIO JOSÉ                 3\nVIRGINIO DE CARVALHO       3\nEDISON LOBÃO               2\nVICENTINHO ALVES           1\nNAILDE PANTA               1\nName: SENADOR, Length: 139, dtype: int64"
     },
     "execution_count": 114,
     "metadata": {},
     "output_type": "execute_result"
    }
   ],
   "source": [
    "dataset_correct_monetary_value['SENADOR'].value_counts()"
   ],
   "metadata": {
    "collapsed": false,
    "pycharm": {
     "name": "#%%\n"
    }
   }
  },
  {
   "cell_type": "markdown",
   "source": [
    "# Treat CNPJ/CPF field"
   ],
   "metadata": {
    "collapsed": false,
    "pycharm": {
     "name": "#%% md\n"
    }
   }
  },
  {
   "cell_type": "markdown",
   "source": [
    "## Apparently there are no CNPJ/CPF wrong"
   ],
   "metadata": {
    "collapsed": false,
    "pycharm": {
     "name": "#%% md\n"
    }
   }
  },
  {
   "cell_type": "code",
   "execution_count": 113,
   "outputs": [
    {
     "data": {
      "text/plain": "16.978.175/0001-08    3989\n33.937.681/0001-78    1477\n07.575.651/0001-59    1032\n02.558.157/0001-62    1026\n26.480.780/0001-08     599\n                      ... \n08.195.919/0001-90       1\n34.058.185/0001-07       1\n10.715.142/0001-99       1\n025.293.174-29           1\n27.838.829/0001-14       1\nName: CNPJ_CPF, Length: 6189, dtype: int64"
     },
     "execution_count": 113,
     "metadata": {},
     "output_type": "execute_result"
    }
   ],
   "source": [
    "dataset_correct_monetary_value['CNPJ_CPF'].value_counts()"
   ],
   "metadata": {
    "collapsed": false,
    "pycharm": {
     "name": "#%%\n"
    }
   }
  },
  {
   "cell_type": "markdown",
   "source": [
    "# Create a clean dataset"
   ],
   "metadata": {
    "collapsed": false,
    "pycharm": {
     "name": "#%% md\n"
    }
   }
  },
  {
   "cell_type": "code",
   "execution_count": 120,
   "outputs": [
    {
     "data": {
      "text/plain": "        ANO  MES           SENADOR  \\\n0      2019    1      ACIR GURGACZ   \n1      2019    1      ACIR GURGACZ   \n2      2019    1      ACIR GURGACZ   \n3      2019    1      ACIR GURGACZ   \n4      2019    2      ACIR GURGACZ   \n...     ...  ...               ...   \n16803  2021   12  ZEQUINHA MARINHO   \n16804  2021   12  ZEQUINHA MARINHO   \n16805  2021   12  ZEQUINHA MARINHO   \n16806  2021   12  ZEQUINHA MARINHO   \n16807  2021   12  ZEQUINHA MARINHO   \n\n                                            TIPO_DESPESA            CNPJ_CPF  \\\n0      Aluguel de imóveis para escritório político, c...  05.914.650/0001-66   \n1      Aluguel de imóveis para escritório político, c...  05.914.650/0001-66   \n2      Aluguel de imóveis para escritório político, c...      004.948.028-63   \n3      Aluguel de imóveis para escritório político, c...  05.423.963/0001-11   \n4      Aluguel de imóveis para escritório político, c...  05.914.650/0001-66   \n...                                                  ...                 ...   \n16803  Passagens aéreas, aquáticas e terrestres nacio...  22.052.777/0001-32   \n16804  Passagens aéreas, aquáticas e terrestres nacio...  22.052.777/0001-32   \n16805  Passagens aéreas, aquáticas e terrestres nacio...  22.052.777/0001-32   \n16806  Passagens aéreas, aquáticas e terrestres nacio...  22.052.777/0001-32   \n16807  Passagens aéreas, aquáticas e terrestres nacio...  22.052.777/0001-32   \n\n                          FORNECEDOR       DATA  VALOR_REEMBOLSADO  \\\n0                           ENERGISA 2019-04-01              66.02   \n1                           ENERGISA 2019-04-01             139.98   \n2      GILBERTO PISELO DO NASCIMENTO 2019-07-01            6000.00   \n3                      OI MÓVEL S.A. 2018-12-25             316.39   \n4                           ENERGISA 2019-04-02              99.45   \n...                              ...        ...                ...   \n16803                  Exceller Tour 2021-01-12            1715.45   \n16804                  Exceller Tour 2021-12-15            2489.29   \n16805                  Exceller Tour 2021-12-17            1486.66   \n16806                  Exceller Tour 2021-12-27            2515.56   \n16807                  Exceller Tour 2021-12-29            1510.75   \n\n       COD_DOCUMENTO  \n0            2116543  \n1            2116546  \n2            2113817  \n3            2116541  \n4            2116550  \n...              ...  \n16803        2170983  \n16804        2172263  \n16805        2172717  \n16806        2173239  \n16807        2173238  \n\n[52532 rows x 9 columns]",
      "text/html": "<div>\n<style scoped>\n    .dataframe tbody tr th:only-of-type {\n        vertical-align: middle;\n    }\n\n    .dataframe tbody tr th {\n        vertical-align: top;\n    }\n\n    .dataframe thead th {\n        text-align: right;\n    }\n</style>\n<table border=\"1\" class=\"dataframe\">\n  <thead>\n    <tr style=\"text-align: right;\">\n      <th></th>\n      <th>ANO</th>\n      <th>MES</th>\n      <th>SENADOR</th>\n      <th>TIPO_DESPESA</th>\n      <th>CNPJ_CPF</th>\n      <th>FORNECEDOR</th>\n      <th>DATA</th>\n      <th>VALOR_REEMBOLSADO</th>\n      <th>COD_DOCUMENTO</th>\n    </tr>\n  </thead>\n  <tbody>\n    <tr>\n      <th>0</th>\n      <td>2019</td>\n      <td>1</td>\n      <td>ACIR GURGACZ</td>\n      <td>Aluguel de imóveis para escritório político, c...</td>\n      <td>05.914.650/0001-66</td>\n      <td>ENERGISA</td>\n      <td>2019-04-01</td>\n      <td>66.02</td>\n      <td>2116543</td>\n    </tr>\n    <tr>\n      <th>1</th>\n      <td>2019</td>\n      <td>1</td>\n      <td>ACIR GURGACZ</td>\n      <td>Aluguel de imóveis para escritório político, c...</td>\n      <td>05.914.650/0001-66</td>\n      <td>ENERGISA</td>\n      <td>2019-04-01</td>\n      <td>139.98</td>\n      <td>2116546</td>\n    </tr>\n    <tr>\n      <th>2</th>\n      <td>2019</td>\n      <td>1</td>\n      <td>ACIR GURGACZ</td>\n      <td>Aluguel de imóveis para escritório político, c...</td>\n      <td>004.948.028-63</td>\n      <td>GILBERTO PISELO DO NASCIMENTO</td>\n      <td>2019-07-01</td>\n      <td>6000.00</td>\n      <td>2113817</td>\n    </tr>\n    <tr>\n      <th>3</th>\n      <td>2019</td>\n      <td>1</td>\n      <td>ACIR GURGACZ</td>\n      <td>Aluguel de imóveis para escritório político, c...</td>\n      <td>05.423.963/0001-11</td>\n      <td>OI MÓVEL S.A.</td>\n      <td>2018-12-25</td>\n      <td>316.39</td>\n      <td>2116541</td>\n    </tr>\n    <tr>\n      <th>4</th>\n      <td>2019</td>\n      <td>2</td>\n      <td>ACIR GURGACZ</td>\n      <td>Aluguel de imóveis para escritório político, c...</td>\n      <td>05.914.650/0001-66</td>\n      <td>ENERGISA</td>\n      <td>2019-04-02</td>\n      <td>99.45</td>\n      <td>2116550</td>\n    </tr>\n    <tr>\n      <th>...</th>\n      <td>...</td>\n      <td>...</td>\n      <td>...</td>\n      <td>...</td>\n      <td>...</td>\n      <td>...</td>\n      <td>...</td>\n      <td>...</td>\n      <td>...</td>\n    </tr>\n    <tr>\n      <th>16803</th>\n      <td>2021</td>\n      <td>12</td>\n      <td>ZEQUINHA MARINHO</td>\n      <td>Passagens aéreas, aquáticas e terrestres nacio...</td>\n      <td>22.052.777/0001-32</td>\n      <td>Exceller Tour</td>\n      <td>2021-01-12</td>\n      <td>1715.45</td>\n      <td>2170983</td>\n    </tr>\n    <tr>\n      <th>16804</th>\n      <td>2021</td>\n      <td>12</td>\n      <td>ZEQUINHA MARINHO</td>\n      <td>Passagens aéreas, aquáticas e terrestres nacio...</td>\n      <td>22.052.777/0001-32</td>\n      <td>Exceller Tour</td>\n      <td>2021-12-15</td>\n      <td>2489.29</td>\n      <td>2172263</td>\n    </tr>\n    <tr>\n      <th>16805</th>\n      <td>2021</td>\n      <td>12</td>\n      <td>ZEQUINHA MARINHO</td>\n      <td>Passagens aéreas, aquáticas e terrestres nacio...</td>\n      <td>22.052.777/0001-32</td>\n      <td>Exceller Tour</td>\n      <td>2021-12-17</td>\n      <td>1486.66</td>\n      <td>2172717</td>\n    </tr>\n    <tr>\n      <th>16806</th>\n      <td>2021</td>\n      <td>12</td>\n      <td>ZEQUINHA MARINHO</td>\n      <td>Passagens aéreas, aquáticas e terrestres nacio...</td>\n      <td>22.052.777/0001-32</td>\n      <td>Exceller Tour</td>\n      <td>2021-12-27</td>\n      <td>2515.56</td>\n      <td>2173239</td>\n    </tr>\n    <tr>\n      <th>16807</th>\n      <td>2021</td>\n      <td>12</td>\n      <td>ZEQUINHA MARINHO</td>\n      <td>Passagens aéreas, aquáticas e terrestres nacio...</td>\n      <td>22.052.777/0001-32</td>\n      <td>Exceller Tour</td>\n      <td>2021-12-29</td>\n      <td>1510.75</td>\n      <td>2173238</td>\n    </tr>\n  </tbody>\n</table>\n<p>52532 rows × 9 columns</p>\n</div>"
     },
     "execution_count": 120,
     "metadata": {},
     "output_type": "execute_result"
    }
   ],
   "source": [
    "dataset_clean = dataset_correct_monetary_value.copy()\n",
    "dataset_clean"
   ],
   "metadata": {
    "collapsed": false,
    "pycharm": {
     "name": "#%%\n"
    }
   }
  },
  {
   "cell_type": "code",
   "execution_count": 121,
   "outputs": [],
   "source": [
    "dataset_clean.to_csv('datasets/dataset_preprocessed.csv', sep=';', index=False)"
   ],
   "metadata": {
    "collapsed": false,
    "pycharm": {
     "name": "#%%\n"
    }
   }
  }
 ],
 "metadata": {
  "kernelspec": {
   "display_name": "Python 3",
   "language": "python",
   "name": "python3"
  },
  "language_info": {
   "codemirror_mode": {
    "name": "ipython",
    "version": 2
   },
   "file_extension": ".py",
   "mimetype": "text/x-python",
   "name": "python",
   "nbconvert_exporter": "python",
   "pygments_lexer": "ipython2",
   "version": "2.7.6"
  }
 },
 "nbformat": 4,
 "nbformat_minor": 0
}